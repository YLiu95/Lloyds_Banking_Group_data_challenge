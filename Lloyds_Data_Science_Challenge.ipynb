{
  "nbformat": 4,
  "nbformat_minor": 0,
  "metadata": {
    "colab": {
      "provenance": [],
      "toc_visible": true,
      "authorship_tag": "ABX9TyPeQprx5T9VWthSG5cGa+1S",
      "include_colab_link": true
    },
    "kernelspec": {
      "name": "python3",
      "display_name": "Python 3"
    },
    "language_info": {
      "name": "python"
    }
  },
  "cells": [
    {
      "cell_type": "markdown",
      "metadata": {
        "id": "view-in-github",
        "colab_type": "text"
      },
      "source": [
        "<a href=\"https://colab.research.google.com/github/YLiu95/Lloyds_Banking_Group_data_challenge/blob/main/Lloyds_Data_Science_Challenge.ipynb\" target=\"_parent\"><img src=\"https://colab.research.google.com/assets/colab-badge.svg\" alt=\"Open In Colab\"/></a>"
      ]
    },
    {
      "cell_type": "markdown",
      "source": [
        "# Lloyds data science challenge\n"
      ],
      "metadata": {
        "id": "OKUewO27RtyD"
      }
    },
    {
      "cell_type": "markdown",
      "source": [
        "## Table of contents:\n",
        ">[Lloyds data science challenge](#updateTitle=true&folderId=1XSd5UBYT2zKmcLISn-xBRYa9upYgTaXM&scrollTo=OKUewO27RtyD)\n",
        "\n",
        ">>[import libraries](#updateTitle=true&folderId=1XSd5UBYT2zKmcLISn-xBRYa9upYgTaXM&scrollTo=0l0_VNRCRlND)\n",
        "\n",
        ">>[gini curve function](#updateTitle=true&folderId=1XSd5UBYT2zKmcLISn-xBRYa9upYgTaXM&scrollTo=aSKVpq2tR-WX)\n",
        "\n",
        ">>[import data](#updateTitle=true&folderId=1XSd5UBYT2zKmcLISn-xBRYa9upYgTaXM&scrollTo=G2x9RmnvSNaS)\n",
        "\n",
        ">>[exploratory data analysis](#updateTitle=true&folderId=1XSd5UBYT2zKmcLISn-xBRYa9upYgTaXM&scrollTo=qKnMhwG3SaWQ)\n",
        "\n",
        ">>>[missing data](#updateTitle=true&folderId=1XSd5UBYT2zKmcLISn-xBRYa9upYgTaXM&scrollTo=DpftZz1YSoT6)\n",
        "\n",
        ">>>[distribution](#updateTitle=true&folderId=1XSd5UBYT2zKmcLISn-xBRYa9upYgTaXM&scrollTo=jOtPmWoW1Tza)\n",
        "\n",
        ">[Benchmark models for predictive modelling](#updateTitle=true&folderId=1XSd5UBYT2zKmcLISn-xBRYa9upYgTaXM&scrollTo=LYpPOOFhQGBE)\n",
        "\n",
        ">>[logistic regression. acc: 79%](#updateTitle=true&folderId=1XSd5UBYT2zKmcLISn-xBRYa9upYgTaXM&scrollTo=S0Sz-cOx6Zvs)\n",
        "\n",
        ">>[random forest. acc: 79%](#updateTitle=true&folderId=1XSd5UBYT2zKmcLISn-xBRYa9upYgTaXM&scrollTo=0J8VUww47OUm)\n",
        "\n",
        ">>[compare gini performance for both algorithms](#updateTitle=true&folderId=1XSd5UBYT2zKmcLISn-xBRYa9upYgTaXM&scrollTo=eU6jiP718Ghr)\n",
        "\n",
        ">[Deep learning models for predictive modelling](#updateTitle=true&folderId=1XSd5UBYT2zKmcLISn-xBRYa9upYgTaXM&scrollTo=QYwPcR8OWETI)\n",
        "\n",
        ">>>[import libraries](#updateTitle=true&folderId=1XSd5UBYT2zKmcLISn-xBRYa9upYgTaXM&scrollTo=9hn9S9iUv2Hl)\n",
        "\n",
        ">>[data prepration](#updateTitle=true&folderId=1XSd5UBYT2zKmcLISn-xBRYa9upYgTaXM&scrollTo=M06dIB32bVLK)\n",
        "\n",
        ">>>[import data. data shape: (18,324 ,31)](#updateTitle=true&folderId=1XSd5UBYT2zKmcLISn-xBRYa9upYgTaXM&scrollTo=T7WXn3teWKKs)\n",
        "\n",
        ">>>[delete all categorical data. data shape: (18,324 ,25)](#updateTitle=true&folderId=1XSd5UBYT2zKmcLISn-xBRYa9upYgTaXM&scrollTo=Y0iDkxBnVPiu)\n",
        "\n",
        ">>>[comprehensive solution for missing & imbalanced data. data shape: (7812, 24)](#updateTitle=true&folderId=1XSd5UBYT2zKmcLISn-xBRYa9upYgTaXM&scrollTo=VTJdaO2HE9Qb)\n",
        "\n",
        ">>>[convert to float](#updateTitle=true&folderId=1XSd5UBYT2zKmcLISn-xBRYa9upYgTaXM&scrollTo=isk3YNPmaq_u)\n",
        "\n",
        ">>>[create input shape: (7812, 23) and labels](#updateTitle=true&folderId=1XSd5UBYT2zKmcLISn-xBRYa9upYgTaXM&scrollTo=7beFWEoPbbCs)\n",
        "\n",
        ">>>>[label encoding](#updateTitle=true&folderId=1XSd5UBYT2zKmcLISn-xBRYa9upYgTaXM&scrollTo=1LCbYyBfm8jt)\n",
        "\n",
        ">>[classification](#updateTitle=true&folderId=1XSd5UBYT2zKmcLISn-xBRYa9upYgTaXM&scrollTo=yqg9hKCDEypO)\n",
        "\n",
        ">>>[baseline model defination. acc(std): 80.48% (1.41%), 30 min 70 epochs](#updateTitle=true&folderId=1XSd5UBYT2zKmcLISn-xBRYa9upYgTaXM&scrollTo=75fONqxKFNzb)\n",
        "\n",
        ">>>[training & evaluation with standardised data](#updateTitle=true&folderId=1XSd5UBYT2zKmcLISn-xBRYa9upYgTaXM&scrollTo=68YJLIGxsjXJ)\n",
        "\n",
        ">>>[smaller model. acc(std) 80.66% (0.76%), 20 min 50 epochs](#updateTitle=true&folderId=1XSd5UBYT2zKmcLISn-xBRYa9upYgTaXM&scrollTo=H_cTCK6mILly)\n",
        "\n",
        ">>>[bigger model. acc(std) 77.97% (1.06%), 20 min 50 epochs](#updateTitle=true&folderId=1XSd5UBYT2zKmcLISn-xBRYa9upYgTaXM&scrollTo=dmORCcYhwLkq)\n",
        "\n",
        ">>[feature selection](#updateTitle=true&folderId=1XSd5UBYT2zKmcLISn-xBRYa9upYgTaXM&scrollTo=kYN-rzT-NBl0)\n",
        "\n",
        ">>>>[selected feature: 2,3,17,13, 1,12,6,5. data shape: (7812, 8)](#updateTitle=true&folderId=1XSd5UBYT2zKmcLISn-xBRYa9upYgTaXM&scrollTo=iZ4AvrRCc5gZ)\n",
        "\n",
        ">>>[redefine model. acc(std) 82.37% (0.98%), 20 min 50 epochs](#updateTitle=true&folderId=1XSd5UBYT2zKmcLISn-xBRYa9upYgTaXM&scrollTo=qTjON-1HIjPO)\n",
        "\n",
        ">>>[smaller model. acc(std) 82.19% (1.17%), 20 min 50 epochs](#updateTitle=true&folderId=1XSd5UBYT2zKmcLISn-xBRYa9upYgTaXM&scrollTo=LaedIMdefbfC)\n",
        "\n",
        ">>>[bigger model. acc(std) 82.10% (1.29%), 20 min 50 epochs](#updateTitle=true&folderId=1XSd5UBYT2zKmcLISn-xBRYa9upYgTaXM&scrollTo=gkR0qPB3gktk)\n",
        "\n",
        ">>[Best model acc 82.37%](#updateTitle=true&folderId=1XSd5UBYT2zKmcLISn-xBRYa9upYgTaXM&scrollTo=sO5Spj12t01t)\n",
        "\n",
        ">[Bottom of this document](#updateTitle=true&folderId=1XSd5UBYT2zKmcLISn-xBRYa9upYgTaXM&scrollTo=E-0Dmys7WGyn)\n",
        "\n"
      ],
      "metadata": {
        "colab_type": "toc",
        "id": "wLYroTdbSxp3"
      }
    },
    {
      "cell_type": "markdown",
      "source": [
        "## import libraries"
      ],
      "metadata": {
        "id": "0l0_VNRCRlND"
      }
    },
    {
      "cell_type": "code",
      "execution_count": null,
      "metadata": {
        "id": "CNqNvW-eRhfT"
      },
      "outputs": [],
      "source": [
        "import pandas as pd\n",
        "import numpy as np\n",
        "import matplotlib.pyplot as plt\n",
        "import seaborn as sns\n",
        "import os\n",
        "from sklearn.linear_model import LogisticRegression\n",
        "from sklearn.model_selection import train_test_split\n",
        "from sklearn.metrics import classification_report, accuracy_score, confusion_matrix, roc_curve, roc_auc_score\n",
        "import warnings\n",
        "warnings.filterwarnings('ignore')\n",
        "\n",
        "%matplotlib inline"
      ]
    },
    {
      "cell_type": "markdown",
      "source": [
        "## gini curve function"
      ],
      "metadata": {
        "id": "aSKVpq2tR-WX"
      }
    },
    {
      "cell_type": "code",
      "source": [
        "# Function to calculate and plot gini curve\n",
        "def plot_roc(y_true, scores_names):\n",
        "    '''\n",
        "    plot ROC curves for the specified model scores\n",
        "\n",
        "            Parameters:\n",
        "                    y_true (num): Target variable \n",
        "                    scores_names (tuple): a tuple of model predictions and model label\n",
        "    '''\n",
        "    \n",
        "    for score, label in scores_names:\n",
        "        fpr, tpr, _ = roc_curve(y_true, y_score=score, drop_intermediate=False)\n",
        "        AUC = roc_auc_score(y_true, score)\n",
        "        gini = 2 * AUC - 1\n",
        "        label = 'Gini = {:.2%},  {}'.format(gini, label)\n",
        "        plt.plot(fpr, tpr, label=label)\n",
        "    plt.plot([0,1],[0,1], '--k')\n",
        "    plt.xlabel('FPR')\n",
        "    plt.ylabel('TPR')\n",
        "    plt.legend(loc=\"lower right\")\n",
        "    plt.show();"
      ],
      "metadata": {
        "id": "hClkfOS-SDJh"
      },
      "execution_count": null,
      "outputs": []
    },
    {
      "cell_type": "markdown",
      "source": [
        "## import data"
      ],
      "metadata": {
        "id": "G2x9RmnvSNaS"
      }
    },
    {
      "cell_type": "code",
      "source": [
        "url = 'https://raw.githubusercontent.com/YLiu95/Loan_default_classification_Llodys_Banking_Group_challenge/main/LBG%20Step%20Up%20Data%20Set%20csv.csv'\n",
        "data = pd.read_csv(url)\n",
        "data.head()"
      ],
      "metadata": {
        "colab": {
          "base_uri": "https://localhost:8080/",
          "height": 404
        },
        "id": "oD1iYcZGSIvV",
        "outputId": "446fb4fd-2b3d-436e-8481-7f0ce8b8a1f4"
      },
      "execution_count": null,
      "outputs": [
        {
          "output_type": "execute_result",
          "data": {
            "text/plain": [
              "         id addr_state  annual_inc emp_length  \\\n",
              "0    802173         CA     72000.0    3 years   \n",
              "1  14518910         TX     97500.0     1 year   \n",
              "2  54333324         NY    120000.0     1 year   \n",
              "3  62247022         CA    130000.0  10+ years   \n",
              "4  71986114         TX     58296.0  10+ years   \n",
              "\n",
              "                             emp_title home_ownership  installment  loan_amnt  \\\n",
              "0             CA. Dept. Of Corrections       MORTGAGE       395.66      12000   \n",
              "1  Curriculum & Implementation Manager           RENT       966.47      35000   \n",
              "2                      Senior manager            RENT       806.57      25000   \n",
              "3                  Border Patrol Agent           RENT       846.17      25225   \n",
              "4                      Account Manager       MORTGAGE        41.79       1200   \n",
              "\n",
              "              purpose        term  ... num_il_tl  num_op_rev_tl  \\\n",
              "0  debt_consolidation   36 months  ...       NaN            NaN   \n",
              "1  debt_consolidation   60 months  ...       2.0           12.0   \n",
              "2         credit_card   36 months  ...       2.0            7.0   \n",
              "3  debt_consolidation   36 months  ...       9.0            3.0   \n",
              "4               other   36 months  ...       7.0            6.0   \n",
              "\n",
              "   num_tl_90g_dpd_24m  num_tl_op_past_12m  open_acc  percent_bc_gt_75  \\\n",
              "0                 NaN                 NaN        16               NaN   \n",
              "1                 0.0                 1.0        13              87.5   \n",
              "2                 0.0                 1.0         8             100.0   \n",
              "3                 0.0                 2.0         8              50.0   \n",
              "4                 0.0                 0.0         9             100.0   \n",
              "\n",
              "   pub_rec_bankruptcies  total_acc  total_bal_ex_mort  loan_status  \n",
              "0                     0         23                NaN   Fully Paid  \n",
              "1                     0         24            84227.0   Fully Paid  \n",
              "2                     0         16            39124.0   Fully Paid  \n",
              "3                     0         24           123331.0   Fully Paid  \n",
              "4                     0         17            51794.0   Fully Paid  \n",
              "\n",
              "[5 rows x 31 columns]"
            ],
            "text/html": [
              "\n",
              "  <div id=\"df-ba568a5b-bd36-48be-9f39-574564cd0a4a\">\n",
              "    <div class=\"colab-df-container\">\n",
              "      <div>\n",
              "<style scoped>\n",
              "    .dataframe tbody tr th:only-of-type {\n",
              "        vertical-align: middle;\n",
              "    }\n",
              "\n",
              "    .dataframe tbody tr th {\n",
              "        vertical-align: top;\n",
              "    }\n",
              "\n",
              "    .dataframe thead th {\n",
              "        text-align: right;\n",
              "    }\n",
              "</style>\n",
              "<table border=\"1\" class=\"dataframe\">\n",
              "  <thead>\n",
              "    <tr style=\"text-align: right;\">\n",
              "      <th></th>\n",
              "      <th>id</th>\n",
              "      <th>addr_state</th>\n",
              "      <th>annual_inc</th>\n",
              "      <th>emp_length</th>\n",
              "      <th>emp_title</th>\n",
              "      <th>home_ownership</th>\n",
              "      <th>installment</th>\n",
              "      <th>loan_amnt</th>\n",
              "      <th>purpose</th>\n",
              "      <th>term</th>\n",
              "      <th>...</th>\n",
              "      <th>num_il_tl</th>\n",
              "      <th>num_op_rev_tl</th>\n",
              "      <th>num_tl_90g_dpd_24m</th>\n",
              "      <th>num_tl_op_past_12m</th>\n",
              "      <th>open_acc</th>\n",
              "      <th>percent_bc_gt_75</th>\n",
              "      <th>pub_rec_bankruptcies</th>\n",
              "      <th>total_acc</th>\n",
              "      <th>total_bal_ex_mort</th>\n",
              "      <th>loan_status</th>\n",
              "    </tr>\n",
              "  </thead>\n",
              "  <tbody>\n",
              "    <tr>\n",
              "      <th>0</th>\n",
              "      <td>802173</td>\n",
              "      <td>CA</td>\n",
              "      <td>72000.0</td>\n",
              "      <td>3 years</td>\n",
              "      <td>CA. Dept. Of Corrections</td>\n",
              "      <td>MORTGAGE</td>\n",
              "      <td>395.66</td>\n",
              "      <td>12000</td>\n",
              "      <td>debt_consolidation</td>\n",
              "      <td>36 months</td>\n",
              "      <td>...</td>\n",
              "      <td>NaN</td>\n",
              "      <td>NaN</td>\n",
              "      <td>NaN</td>\n",
              "      <td>NaN</td>\n",
              "      <td>16</td>\n",
              "      <td>NaN</td>\n",
              "      <td>0</td>\n",
              "      <td>23</td>\n",
              "      <td>NaN</td>\n",
              "      <td>Fully Paid</td>\n",
              "    </tr>\n",
              "    <tr>\n",
              "      <th>1</th>\n",
              "      <td>14518910</td>\n",
              "      <td>TX</td>\n",
              "      <td>97500.0</td>\n",
              "      <td>1 year</td>\n",
              "      <td>Curriculum &amp; Implementation Manager</td>\n",
              "      <td>RENT</td>\n",
              "      <td>966.47</td>\n",
              "      <td>35000</td>\n",
              "      <td>debt_consolidation</td>\n",
              "      <td>60 months</td>\n",
              "      <td>...</td>\n",
              "      <td>2.0</td>\n",
              "      <td>12.0</td>\n",
              "      <td>0.0</td>\n",
              "      <td>1.0</td>\n",
              "      <td>13</td>\n",
              "      <td>87.5</td>\n",
              "      <td>0</td>\n",
              "      <td>24</td>\n",
              "      <td>84227.0</td>\n",
              "      <td>Fully Paid</td>\n",
              "    </tr>\n",
              "    <tr>\n",
              "      <th>2</th>\n",
              "      <td>54333324</td>\n",
              "      <td>NY</td>\n",
              "      <td>120000.0</td>\n",
              "      <td>1 year</td>\n",
              "      <td>Senior manager</td>\n",
              "      <td>RENT</td>\n",
              "      <td>806.57</td>\n",
              "      <td>25000</td>\n",
              "      <td>credit_card</td>\n",
              "      <td>36 months</td>\n",
              "      <td>...</td>\n",
              "      <td>2.0</td>\n",
              "      <td>7.0</td>\n",
              "      <td>0.0</td>\n",
              "      <td>1.0</td>\n",
              "      <td>8</td>\n",
              "      <td>100.0</td>\n",
              "      <td>0</td>\n",
              "      <td>16</td>\n",
              "      <td>39124.0</td>\n",
              "      <td>Fully Paid</td>\n",
              "    </tr>\n",
              "    <tr>\n",
              "      <th>3</th>\n",
              "      <td>62247022</td>\n",
              "      <td>CA</td>\n",
              "      <td>130000.0</td>\n",
              "      <td>10+ years</td>\n",
              "      <td>Border Patrol Agent</td>\n",
              "      <td>RENT</td>\n",
              "      <td>846.17</td>\n",
              "      <td>25225</td>\n",
              "      <td>debt_consolidation</td>\n",
              "      <td>36 months</td>\n",
              "      <td>...</td>\n",
              "      <td>9.0</td>\n",
              "      <td>3.0</td>\n",
              "      <td>0.0</td>\n",
              "      <td>2.0</td>\n",
              "      <td>8</td>\n",
              "      <td>50.0</td>\n",
              "      <td>0</td>\n",
              "      <td>24</td>\n",
              "      <td>123331.0</td>\n",
              "      <td>Fully Paid</td>\n",
              "    </tr>\n",
              "    <tr>\n",
              "      <th>4</th>\n",
              "      <td>71986114</td>\n",
              "      <td>TX</td>\n",
              "      <td>58296.0</td>\n",
              "      <td>10+ years</td>\n",
              "      <td>Account Manager</td>\n",
              "      <td>MORTGAGE</td>\n",
              "      <td>41.79</td>\n",
              "      <td>1200</td>\n",
              "      <td>other</td>\n",
              "      <td>36 months</td>\n",
              "      <td>...</td>\n",
              "      <td>7.0</td>\n",
              "      <td>6.0</td>\n",
              "      <td>0.0</td>\n",
              "      <td>0.0</td>\n",
              "      <td>9</td>\n",
              "      <td>100.0</td>\n",
              "      <td>0</td>\n",
              "      <td>17</td>\n",
              "      <td>51794.0</td>\n",
              "      <td>Fully Paid</td>\n",
              "    </tr>\n",
              "  </tbody>\n",
              "</table>\n",
              "<p>5 rows × 31 columns</p>\n",
              "</div>\n",
              "      <button class=\"colab-df-convert\" onclick=\"convertToInteractive('df-ba568a5b-bd36-48be-9f39-574564cd0a4a')\"\n",
              "              title=\"Convert this dataframe to an interactive table.\"\n",
              "              style=\"display:none;\">\n",
              "        \n",
              "  <svg xmlns=\"http://www.w3.org/2000/svg\" height=\"24px\"viewBox=\"0 0 24 24\"\n",
              "       width=\"24px\">\n",
              "    <path d=\"M0 0h24v24H0V0z\" fill=\"none\"/>\n",
              "    <path d=\"M18.56 5.44l.94 2.06.94-2.06 2.06-.94-2.06-.94-.94-2.06-.94 2.06-2.06.94zm-11 1L8.5 8.5l.94-2.06 2.06-.94-2.06-.94L8.5 2.5l-.94 2.06-2.06.94zm10 10l.94 2.06.94-2.06 2.06-.94-2.06-.94-.94-2.06-.94 2.06-2.06.94z\"/><path d=\"M17.41 7.96l-1.37-1.37c-.4-.4-.92-.59-1.43-.59-.52 0-1.04.2-1.43.59L10.3 9.45l-7.72 7.72c-.78.78-.78 2.05 0 2.83L4 21.41c.39.39.9.59 1.41.59.51 0 1.02-.2 1.41-.59l7.78-7.78 2.81-2.81c.8-.78.8-2.07 0-2.86zM5.41 20L4 18.59l7.72-7.72 1.47 1.35L5.41 20z\"/>\n",
              "  </svg>\n",
              "      </button>\n",
              "      \n",
              "  <style>\n",
              "    .colab-df-container {\n",
              "      display:flex;\n",
              "      flex-wrap:wrap;\n",
              "      gap: 12px;\n",
              "    }\n",
              "\n",
              "    .colab-df-convert {\n",
              "      background-color: #E8F0FE;\n",
              "      border: none;\n",
              "      border-radius: 50%;\n",
              "      cursor: pointer;\n",
              "      display: none;\n",
              "      fill: #1967D2;\n",
              "      height: 32px;\n",
              "      padding: 0 0 0 0;\n",
              "      width: 32px;\n",
              "    }\n",
              "\n",
              "    .colab-df-convert:hover {\n",
              "      background-color: #E2EBFA;\n",
              "      box-shadow: 0px 1px 2px rgba(60, 64, 67, 0.3), 0px 1px 3px 1px rgba(60, 64, 67, 0.15);\n",
              "      fill: #174EA6;\n",
              "    }\n",
              "\n",
              "    [theme=dark] .colab-df-convert {\n",
              "      background-color: #3B4455;\n",
              "      fill: #D2E3FC;\n",
              "    }\n",
              "\n",
              "    [theme=dark] .colab-df-convert:hover {\n",
              "      background-color: #434B5C;\n",
              "      box-shadow: 0px 1px 3px 1px rgba(0, 0, 0, 0.15);\n",
              "      filter: drop-shadow(0px 1px 2px rgba(0, 0, 0, 0.3));\n",
              "      fill: #FFFFFF;\n",
              "    }\n",
              "  </style>\n",
              "\n",
              "      <script>\n",
              "        const buttonEl =\n",
              "          document.querySelector('#df-ba568a5b-bd36-48be-9f39-574564cd0a4a button.colab-df-convert');\n",
              "        buttonEl.style.display =\n",
              "          google.colab.kernel.accessAllowed ? 'block' : 'none';\n",
              "\n",
              "        async function convertToInteractive(key) {\n",
              "          const element = document.querySelector('#df-ba568a5b-bd36-48be-9f39-574564cd0a4a');\n",
              "          const dataTable =\n",
              "            await google.colab.kernel.invokeFunction('convertToInteractive',\n",
              "                                                     [key], {});\n",
              "          if (!dataTable) return;\n",
              "\n",
              "          const docLinkHtml = 'Like what you see? Visit the ' +\n",
              "            '<a target=\"_blank\" href=https://colab.research.google.com/notebooks/data_table.ipynb>data table notebook</a>'\n",
              "            + ' to learn more about interactive tables.';\n",
              "          element.innerHTML = '';\n",
              "          dataTable['output_type'] = 'display_data';\n",
              "          await google.colab.output.renderOutput(dataTable, element);\n",
              "          const docLink = document.createElement('div');\n",
              "          docLink.innerHTML = docLinkHtml;\n",
              "          element.appendChild(docLink);\n",
              "        }\n",
              "      </script>\n",
              "    </div>\n",
              "  </div>\n",
              "  "
            ]
          },
          "metadata": {},
          "execution_count": 12
        }
      ]
    },
    {
      "cell_type": "markdown",
      "source": [
        "## exploratory data analysis\n",
        "Let's begin with some exploratory data analysis. We'll start by checking out missing data."
      ],
      "metadata": {
        "id": "qKnMhwG3SaWQ"
      }
    },
    {
      "cell_type": "markdown",
      "source": [
        "### missing data\n",
        "\n",
        "We can use the Seaborn visualisation package to create a simple heatmap to see where we are missing data.\n",
        "\n",
        "We notice that there are some variables with many missing values (e.g. `inq_last_12m`, `max_bal_12m`)."
      ],
      "metadata": {
        "id": "DpftZz1YSoT6"
      }
    },
    {
      "cell_type": "code",
      "source": [
        "fig, ax1 = plt.subplots(figsize=(17, 6.5))\n",
        "sns.heatmap(data.isnull(), yticklabels=False, cbar=False, \n",
        "            cmap='viridis').set(title='Missing data report')\n",
        "plt.show()"
      ],
      "metadata": {
        "colab": {
          "base_uri": "https://localhost:8080/",
          "height": 523
        },
        "id": "ebmKc-xGS6W7",
        "outputId": "839acfee-6a41-4163-95d8-4269db0c7ed2"
      },
      "execution_count": null,
      "outputs": [
        {
          "output_type": "display_data",
          "data": {
            "text/plain": [
              "<Figure size 1224x468 with 1 Axes>"
            ],
            "image/png": "[encoded data removed]"
          },
          "metadata": {
            "needs_background": "light"
          }
        }
      ]
    },
    {
      "cell_type": "markdown",
      "source": [
        "There are several ways to deal with missing values. Assumptions could be made (e.g. if `inq_last_12m` is missing could it mean that is equivalent to zero?). Normally the approach would be to investigate each variable and understand if assumptions can be made to fill those values. For the purpose of this simplified example we will drop the variables that have more than 30% missing values."
      ],
      "metadata": {
        "id": "1nZysHnATTyb"
      }
    },
    {
      "cell_type": "code",
      "source": [
        "# With min_count we calculate the number of missing records that is acceptable \n",
        "# (30%) and with dropna() \n",
        "# we then drop those columns. The resulting datatset has 4 columns less as \n",
        "# a result of this process. \n",
        "perc = 30.0\n",
        "min_count =  int(((100 - perc) / 100) * data.shape[0] + 1)\n",
        "data = data.dropna(axis = 'columns', thresh = min_count)\n",
        "fig, ax1 = plt.subplots(figsize=(17, 6.5))\n",
        "sns.heatmap(data.isnull(), yticklabels=False, cbar=False, \n",
        "            cmap='viridis').set(title='Missing data report after excluding columns with more than 30% missing values')\n",
        "plt.show()"
      ],
      "metadata": {
        "colab": {
          "base_uri": "https://localhost:8080/",
          "height": 517
        },
        "id": "t4NUcSnOTUYf",
        "outputId": "11b50cd5-3763-43d7-9398-f6a40bc46796"
      },
      "execution_count": null,
      "outputs": [
        {
          "output_type": "display_data",
          "data": {
            "text/plain": [
              "<Figure size 1224x468 with 1 Axes>"
            ],
            "image/png": "[encoded data removed]"
          },
          "metadata": {
            "needs_background": "light"
          }
        }
      ]
    },
    {
      "cell_type": "markdown",
      "source": [
        "### distribution"
      ],
      "metadata": {
        "id": "jOtPmWoW1Tza"
      }
    },
    {
      "cell_type": "markdown",
      "source": [
        "let's now look at the distribution of some key variables to understand the relationship they have with what we are trying to predict, the 'Charge Off' status.\n",
        "\n",
        "First, let's look at how many 'Charge Off' cases we have in our sample."
      ],
      "metadata": {
        "id": "hs71CBIl041V"
      }
    },
    {
      "cell_type": "code",
      "source": [
        "sns.set_style('whitegrid')\n",
        "fig, ax1 = plt.subplots(figsize=(10, 6))\n",
        "sns.countplot(x='loan_status', data=data, \n",
        "              palette='RdBu_r').set(title='Distribution of defaulted customers')\n",
        "plt.show()"
      ],
      "metadata": {
        "colab": {
          "base_uri": "https://localhost:8080/",
          "height": 405
        },
        "id": "bju8Tn8W097J",
        "outputId": "25b4cc97-aba4-4dd1-ec42-bcd0a374f59c"
      },
      "execution_count": null,
      "outputs": [
        {
          "output_type": "display_data",
          "data": {
            "text/plain": [
              "<Figure size 720x432 with 1 Axes>"
            ],
            "image/png": "[encoded data removed]"
          },
          "metadata": {}
        }
      ]
    },
    {
      "cell_type": "markdown",
      "source": [
        "We now look at the distribution of another variable, `annual_inc`. It is noticeable that there is one big outlier here with someone with an annual income above 2 million dollars that is skewing the distribution."
      ],
      "metadata": {
        "id": "56UiQQSo1I3V"
      }
    },
    {
      "cell_type": "code",
      "source": [
        "fig, ax1 = plt.subplots(figsize=(17, 6.5))\n",
        "sns.distplot(data['annual_inc'].dropna(), kde=True, color='darkred', \n",
        "             bins=100).set(title='Data distribution of Annual income')\n",
        "plt.show()"
      ],
      "metadata": {
        "colab": {
          "base_uri": "https://localhost:8080/",
          "height": 421
        },
        "id": "onuhvH7V1IN0",
        "outputId": "6a1c1c59-2c6b-47a7-ee52-70ad438181a4"
      },
      "execution_count": null,
      "outputs": [
        {
          "output_type": "display_data",
          "data": {
            "text/plain": [
              "<Figure size 1224x468 with 1 Axes>"
            ],
            "image/png": "[encoded data removed]"
          },
          "metadata": {}
        }
      ]
    },
    {
      "cell_type": "markdown",
      "source": [
        "You may be familiar with the concept that outliers can skew the predictions of a model. While sometimes outliers can and should be included in the data used to estimate a model, in this case we will remove those entries for simplicity."
      ],
      "metadata": {
        "id": "84AhIWr_1xIz"
      }
    },
    {
      "cell_type": "code",
      "source": [
        "data=data[data['annual_inc']<300000]\n",
        "fig, ax1 = plt.subplots(figsize=(17, 6.5))\n",
        "sns.distplot(data['annual_inc'].dropna(), kde=True, color='darkred', \n",
        "             bins=100).set(title='Data distribution of Annual income after removing outliers')\n",
        "plt.show()"
      ],
      "metadata": {
        "colab": {
          "base_uri": "https://localhost:8080/",
          "height": 419
        },
        "id": "UdJGXDBH1yAR",
        "outputId": "20a3976f-6567-47c2-d885-15d15b686f31"
      },
      "execution_count": null,
      "outputs": [
        {
          "output_type": "display_data",
          "data": {
            "text/plain": [
              "<Figure size 1224x468 with 1 Axes>"
            ],
            "image/png": "[encoded data removed]"
          },
          "metadata": {}
        }
      ]
    },
    {
      "cell_type": "markdown",
      "source": [
        "Now, let's try to understand the relationship of some variables against our target variable that we are trying to predict. Let's start with `annual_inc`. The graph below shows the distribution of annual income by groups of customers in $10,000 bins (bar plot). The trend line instead shows the default ('Charge Off' status) for each group of customers.\n",
        "\n",
        "What we can observe is an intuitive trend. Besides the first few groups (customers with income from 0-10k and 10k-20k) where we have lower default rates probably due to low volumes, we observe a intuitive trend from 20k-30k onwards, where the default rate decreases as income increases."
      ],
      "metadata": {
        "id": "7cnVagya2Fxp"
      }
    },
    {
      "cell_type": "code",
      "source": [
        "#Preparation of the data for the graph:\n",
        "df_grouped=data.groupby([pd.cut(data[\"annual_inc\"], np.arange(0, 1000.0+100000, 10000)),'loan_status']).size()\n",
        "df_grouped1=df_grouped.groupby(level=0).apply(lambda x: x/x.sum() * 100).unstack(level='loan_status').reset_index()\n",
        "df_grouped=df_grouped.groupby(level=0).apply(lambda x: x).unstack(level='loan_status').reset_index()\n",
        "df_grouped['Total']=df_grouped['Charged Off'] + df_grouped['Fully Paid']"
      ],
      "metadata": {
        "id": "j_xa_mbz2HvL"
      },
      "execution_count": null,
      "outputs": []
    },
    {
      "cell_type": "code",
      "source": [
        "#Graph:\n",
        "sns.set_style('dark')\n",
        "df_grouped=df_grouped.dropna()\n",
        "df_grouped1=df_grouped1.dropna()\n",
        "fig, ax1 = plt.subplots(figsize=(12,6))\n",
        "sns.barplot(data=df_grouped, x=\"annual_inc\", y=\"Total\", ax=ax1, \n",
        "            palette='RdBu_r')\n",
        "ax2 = ax1.twinx()\n",
        "sns.lineplot(data=df_grouped1, x=df_grouped1[\"annual_inc\"].astype(str), \n",
        "             y=\"Charged Off\", ax=ax2, color='r', \n",
        "             linewidth=2.5).set(title='Default rate by Annual Income groups')\n",
        "ax1.set_xticklabels(ax1.get_xticklabels(), rotation=90, \n",
        "                    horizontalalignment='right')\n",
        "plt.show()"
      ],
      "metadata": {
        "colab": {
          "base_uri": "https://localhost:8080/",
          "height": 497
        },
        "id": "i4x6DjGh2s8Y",
        "outputId": "ab89a2b1-393b-4355-bda9-7a6d08104a9f"
      },
      "execution_count": null,
      "outputs": [
        {
          "output_type": "display_data",
          "data": {
            "text/plain": [
              "<Figure size 864x432 with 2 Axes>"
            ],
            "image/png": "[encoded data removed]"
          },
          "metadata": {}
        }
      ]
    },
    {
      "cell_type": "markdown",
      "source": [
        "Let's now look at another variable, the record of public bankruptcies, `pub_rec_bankruptcies`. We can also observe something quite expected. As the customers have more public bankruptcies records, the default rate goes up."
      ],
      "metadata": {
        "id": "mDvNPYBB3U2z"
      }
    },
    {
      "cell_type": "code",
      "source": [
        "#Preparation of data for the graph:\n",
        "df_grouped = data.groupby(['pub_rec_bankruptcies','loan_status']).size()\n",
        "df_grouped1=df_grouped.groupby(level=0).apply(lambda x: x/x.sum() * 100).unstack(level='loan_status').reset_index()\n",
        "df_grouped=df_grouped.groupby(level=0).apply(lambda x: x).unstack(level='loan_status').reset_index()\n",
        "df_grouped['Total']=df_grouped['Charged Off'] + df_grouped['Fully Paid']"
      ],
      "metadata": {
        "id": "6d9tvbN-5rJ0"
      },
      "execution_count": null,
      "outputs": []
    },
    {
      "cell_type": "code",
      "source": [
        "#Graph:\n",
        "sns.set_style('dark')\n",
        "fig, ax1 = plt.subplots(figsize=(12,6))\n",
        "sns.barplot(data=df_grouped, x=\"pub_rec_bankruptcies\", y=\"Total\", ax=ax1,palette='RdBu_r')\n",
        "ax2 = ax1.twinx()\n",
        "sns.lineplot(data=df_grouped1, x=\"pub_rec_bankruptcies\", y=\"Charged Off\",ax=ax2, color='r', linewidth=2.5).set(title='Default rate by Public record of bankruptcies')\n",
        "plt.show()"
      ],
      "metadata": {
        "colab": {
          "base_uri": "https://localhost:8080/",
          "height": 405
        },
        "id": "OnzioXt_5vfX",
        "outputId": "d8f485c6-33b6-4e07-c094-f7ed83688d66"
      },
      "execution_count": null,
      "outputs": [
        {
          "output_type": "display_data",
          "data": {
            "text/plain": [
              "<Figure size 864x432 with 2 Axes>"
            ],
            "image/png": "[encoded data removed]"
          },
          "metadata": {}
        }
      ]
    },
    {
      "cell_type": "markdown",
      "source": [
        "We now can look at another variable, employment length, `emp_length`.\n",
        "\n",
        "Interestingly, the graph doesn't look that intuitive, as one may expect that the more years in employment the less the risk of defaulting. We do observe that the '10+ years' employment have a lower default rate, so it may be down to granularity here (e.g. there are not significant differences between someone who has worked 5 years and 6 years). If one were to use this variable in a model you could consider making this variable binary to make it work (e.g. have you worked more or less than 10 years?)."
      ],
      "metadata": {
        "id": "8l0o_9go51Bd"
      }
    },
    {
      "cell_type": "code",
      "source": [
        "#Preparation of data for the graph:\n",
        "df_grouped = data.groupby(['emp_length','loan_status']).size()\n",
        "df_grouped1=df_grouped.groupby(level=0).apply(lambda x: x/x.sum() * 100).unstack(level='loan_status').reset_index()\n",
        "df_grouped=df_grouped.groupby(level=0).apply(lambda x: x).unstack(level='loan_status').reset_index()\n",
        "df_grouped['Total']=df_grouped['Charged Off'] + df_grouped['Fully Paid']\n",
        "df_grouped['emp_length'] = pd.Categorical(df_grouped['emp_length'],\n",
        "                                   categories=['< 1 year','1 year','2 years',\n",
        "                                              '3 years','4 years','5 years',\n",
        "                                              '6 years','7 years','8 years',\n",
        "                                              '9 years','10+ years'],\n",
        "                                   ordered=True)\n",
        "df_grouped1['emp_length'] = pd.Categorical(df_grouped1['emp_length'],\n",
        "                                   categories=['< 1 year','1 year','2 years',\n",
        "                                              '3 years','4 years','5 years',\n",
        "                                              '6 years','7 years','8 years',\n",
        "                                              '9 years','10+ years'],\n",
        "                                   ordered=True)"
      ],
      "metadata": {
        "id": "IKQsxuBa50On"
      },
      "execution_count": null,
      "outputs": []
    },
    {
      "cell_type": "code",
      "source": [
        "fig, ax1 = plt.subplots(figsize=(12,6))\n",
        "sns.set_style('white')\n",
        "sns.barplot(data=df_grouped, x=\"emp_length\", y=\"Total\", ax=ax1, palette='RdBu_r')\n",
        "ax2 = ax1.twinx()\n",
        "sns.lineplot(data=df_grouped1, x=\"emp_length\", y=\"Charged Off\",ax=ax2, color='r', linewidth=2.5).set(title='Default rate by Years of Employment')\n",
        "plt.show()"
      ],
      "metadata": {
        "colab": {
          "base_uri": "https://localhost:8080/",
          "height": 405
        },
        "id": "lH5i0DDA56BI",
        "outputId": "ec4d6f7a-cf5d-42e0-ce6e-d8c9bed968b6"
      },
      "execution_count": null,
      "outputs": [
        {
          "output_type": "display_data",
          "data": {
            "text/plain": [
              "<Figure size 864x432 with 2 Axes>"
            ],
            "image/png": "[encoded data removed]"
          },
          "metadata": {}
        }
      ]
    },
    {
      "cell_type": "markdown",
      "source": [
        "We now look at Loan amount, i.e. `loan_amnt`. The data shows smaller amounts (0 to 5k) get paid off, the same goes for larger loan amounts. This means that there is a \"U\" relationship between the target and this variable and is non-monotonic. This could also be a powerful predictor but as it has a oddly shaped relationship it could be one variable that requires some treatment (e.g. binning) before entering a model."
      ],
      "metadata": {
        "id": "dK20Re5V6BMd"
      }
    },
    {
      "cell_type": "code",
      "source": [
        "df_grouped=data.groupby([pd.cut(data[\"loan_amnt\"], np.arange(0, 1000.0+40000, 5000)),'loan_status']).size()\n",
        "df_grouped1=df_grouped.groupby(level=0).apply(lambda x: x/x.sum() * 100).unstack(level='loan_status').reset_index()\n",
        "df_grouped=df_grouped.groupby(level=0).apply(lambda x: x).unstack(level='loan_status').reset_index()\n",
        "df_grouped['Total']=df_grouped['Charged Off'] + df_grouped['Fully Paid']"
      ],
      "metadata": {
        "id": "HQ3EmX7C6DxP"
      },
      "execution_count": null,
      "outputs": []
    },
    {
      "cell_type": "code",
      "source": [
        "df_grouped=df_grouped.dropna()\n",
        "df_grouped1=df_grouped1.dropna()\n",
        "fig, ax1 = plt.subplots(figsize=(14,6))\n",
        "sns.set_style('white')\n",
        "sns.barplot(data=df_grouped, x=\"loan_amnt\", y=\"Total\", ax=ax1, palette='RdBu_r')\n",
        "ax2 = ax1.twinx()\n",
        "sns.lineplot(data=df_grouped1, x=df_grouped1[\"loan_amnt\"].astype(str), y=\"Charged Off\",ax=ax2, color='r', linewidth=2.5).set(title='Default rate by Loan Amount')\n",
        "plt.show()"
      ],
      "metadata": {
        "colab": {
          "base_uri": "https://localhost:8080/",
          "height": 405
        },
        "id": "yVjAyuA46FWl",
        "outputId": "31fdfb4a-600c-435d-95f3-c3b2581005a2"
      },
      "execution_count": null,
      "outputs": [
        {
          "output_type": "display_data",
          "data": {
            "text/plain": [
              "<Figure size 1008x432 with 2 Axes>"
            ],
            "image/png": "[encoded data removed]"
          },
          "metadata": {}
        }
      ]
    },
    {
      "cell_type": "markdown",
      "source": [
        "An example on how to use the `loan_amnt` variable could be to create a variable an \"Affordability\" variable called `inc_ratio`. In this case we calculate the variable by dividing the loan amount by the annual income. We can observe that this variable looks quite promising and is strictly monotonic."
      ],
      "metadata": {
        "id": "7-N6CeVb6LCM"
      }
    },
    {
      "cell_type": "code",
      "source": [
        "data['inc_ratio'] = data['loan_amnt']/data['annual_inc']\n",
        "df_grouped=data.groupby([pd.cut(data[\"inc_ratio\"], np.arange(0, 0.1+0.5, 0.1)),'loan_status']).size()\n",
        "df_grouped1=df_grouped.groupby(level=0).apply(lambda x: x/x.sum() * 100).unstack(level='loan_status').reset_index()\n",
        "df_grouped=df_grouped.groupby(level=0).apply(lambda x: x).unstack(level='loan_status').reset_index()\n",
        "df_grouped['Total']=df_grouped['Charged Off'] + df_grouped['Fully Paid']"
      ],
      "metadata": {
        "id": "SlGZC8R56OlM"
      },
      "execution_count": null,
      "outputs": []
    },
    {
      "cell_type": "code",
      "source": [
        "df_grouped=df_grouped.dropna()\n",
        "df_grouped1=df_grouped1.dropna()\n",
        "fig, ax1 = plt.subplots(figsize=(12,6))\n",
        "sns.set_style('white')\n",
        "sns.barplot(data=df_grouped, x=\"inc_ratio\", y=\"Total\", ax=ax1,palette='RdBu_r')\n",
        "ax2 = ax1.twinx()\n",
        "sns.lineplot(data=df_grouped1, x=df_grouped1[\"inc_ratio\"].astype(str), y=\"Charged Off\",ax=ax2, color='r', linewidth=2.5).set(title='Default rate by Affordability')\n",
        "plt.show()"
      ],
      "metadata": {
        "colab": {
          "base_uri": "https://localhost:8080/",
          "height": 405
        },
        "id": "tB7pJZQP6SlL",
        "outputId": "b27c352b-73d8-4309-ba89-603cafa89e01"
      },
      "execution_count": null,
      "outputs": [
        {
          "output_type": "display_data",
          "data": {
            "text/plain": [
              "<Figure size 864x432 with 2 Axes>"
            ],
            "image/png": "[encoded data removed]"
          },
          "metadata": {}
        }
      ]
    },
    {
      "cell_type": "markdown",
      "source": [
        "# Benchmark models for predictive modelling"
      ],
      "metadata": {
        "id": "LYpPOOFhQGBE"
      }
    },
    {
      "cell_type": "markdown",
      "source": [
        "## logistic regression. acc: 79%"
      ],
      "metadata": {
        "id": "S0Sz-cOx6Zvs"
      }
    },
    {
      "cell_type": "markdown",
      "source": [
        "We now try to build a very rough Logistic Regression model with some variables. This is just a very quick example just to show how a logistic regression model is estimated.\n",
        "\n",
        "We will only use a small subset of variables for the purpose of this example. Note that we transform the `loan_status` variable that is our target into a binary variable of zeros and ones (in case of Charge off). Also, in this example, we include a categorical variable such as `home ownership` but we will need to convert categorical features into dummy variables, otherwise our algorithm won't be able to directly take in those features as inputs."
      ],
      "metadata": {
        "id": "Bs4SitlA6eMZ"
      }
    },
    {
      "cell_type": "code",
      "source": [
        "data['status'] = np.where(data['loan_status'] =='Charged Off', 1, 0)\n",
        "home_ownership = pd.get_dummies(data['home_ownership'],drop_first=True)"
      ],
      "metadata": {
        "id": "wehdmjhc6amc"
      },
      "execution_count": null,
      "outputs": []
    },
    {
      "cell_type": "code",
      "source": [
        "train=data[['status','inc_ratio','pub_rec_bankruptcies','num_tl_op_past_12m','open_acc']].fillna(0) "
      ],
      "metadata": {
        "id": "W0O0cf4l6o8i"
      },
      "execution_count": null,
      "outputs": []
    },
    {
      "cell_type": "code",
      "source": [
        "train = pd.concat([train,home_ownership],axis=1)"
      ],
      "metadata": {
        "id": "bi11QZgs6qqc"
      },
      "execution_count": null,
      "outputs": []
    },
    {
      "cell_type": "code",
      "source": [
        "train.shape"
      ],
      "metadata": {
        "colab": {
          "base_uri": "https://localhost:8080/"
        },
        "id": "xj82K73pCIda",
        "outputId": "8c1d1c10-4d8b-44ea-93fb-1a47ad64702a"
      },
      "execution_count": null,
      "outputs": [
        {
          "output_type": "execute_result",
          "data": {
            "text/plain": [
              "(18128, 9)"
            ]
          },
          "metadata": {},
          "execution_count": 58
        }
      ]
    },
    {
      "cell_type": "code",
      "source": [
        "train.dtypes"
      ],
      "metadata": {
        "colab": {
          "base_uri": "https://localhost:8080/"
        },
        "id": "6ZLcPJ2tCYbv",
        "outputId": "aaa6b85b-c15e-432a-d817-f51b1cda5aeb"
      },
      "execution_count": null,
      "outputs": [
        {
          "output_type": "execute_result",
          "data": {
            "text/plain": [
              "status                    int64\n",
              "inc_ratio               float64\n",
              "pub_rec_bankruptcies      int64\n",
              "num_tl_op_past_12m      float64\n",
              "open_acc                  int64\n",
              "MORTGAGE                  uint8\n",
              "OTHER                     uint8\n",
              "OWN                       uint8\n",
              "RENT                      uint8\n",
              "dtype: object"
            ]
          },
          "metadata": {},
          "execution_count": 59
        }
      ]
    },
    {
      "cell_type": "code",
      "source": [
        "train[:5]"
      ],
      "metadata": {
        "id": "c4d2KfHcCsGe",
        "outputId": "e90d2c50-0413-4a82-c957-91ee83ca6ed7",
        "colab": {
          "base_uri": "https://localhost:8080/",
          "height": 206
        }
      },
      "execution_count": null,
      "outputs": [
        {
          "output_type": "execute_result",
          "data": {
            "text/plain": [
              "   status  inc_ratio  pub_rec_bankruptcies  num_tl_op_past_12m  open_acc  \\\n",
              "0       0   0.166667                     0                 0.0        16   \n",
              "1       0   0.358974                     0                 1.0        13   \n",
              "2       0   0.208333                     0                 1.0         8   \n",
              "3       0   0.194038                     0                 2.0         8   \n",
              "4       0   0.020585                     0                 0.0         9   \n",
              "\n",
              "   MORTGAGE  OTHER  OWN  RENT  \n",
              "0         1      0    0     0  \n",
              "1         0      0    0     1  \n",
              "2         0      0    0     1  \n",
              "3         0      0    0     1  \n",
              "4         1      0    0     0  "
            ],
            "text/html": [
              "\n",
              "  <div id=\"df-f11c1c83-18a9-4034-9e45-b606e229b5a1\">\n",
              "    <div class=\"colab-df-container\">\n",
              "      <div>\n",
              "<style scoped>\n",
              "    .dataframe tbody tr th:only-of-type {\n",
              "        vertical-align: middle;\n",
              "    }\n",
              "\n",
              "    .dataframe tbody tr th {\n",
              "        vertical-align: top;\n",
              "    }\n",
              "\n",
              "    .dataframe thead th {\n",
              "        text-align: right;\n",
              "    }\n",
              "</style>\n",
              "<table border=\"1\" class=\"dataframe\">\n",
              "  <thead>\n",
              "    <tr style=\"text-align: right;\">\n",
              "      <th></th>\n",
              "      <th>status</th>\n",
              "      <th>inc_ratio</th>\n",
              "      <th>pub_rec_bankruptcies</th>\n",
              "      <th>num_tl_op_past_12m</th>\n",
              "      <th>open_acc</th>\n",
              "      <th>MORTGAGE</th>\n",
              "      <th>OTHER</th>\n",
              "      <th>OWN</th>\n",
              "      <th>RENT</th>\n",
              "    </tr>\n",
              "  </thead>\n",
              "  <tbody>\n",
              "    <tr>\n",
              "      <th>0</th>\n",
              "      <td>0</td>\n",
              "      <td>0.166667</td>\n",
              "      <td>0</td>\n",
              "      <td>0.0</td>\n",
              "      <td>16</td>\n",
              "      <td>1</td>\n",
              "      <td>0</td>\n",
              "      <td>0</td>\n",
              "      <td>0</td>\n",
              "    </tr>\n",
              "    <tr>\n",
              "      <th>1</th>\n",
              "      <td>0</td>\n",
              "      <td>0.358974</td>\n",
              "      <td>0</td>\n",
              "      <td>1.0</td>\n",
              "      <td>13</td>\n",
              "      <td>0</td>\n",
              "      <td>0</td>\n",
              "      <td>0</td>\n",
              "      <td>1</td>\n",
              "    </tr>\n",
              "    <tr>\n",
              "      <th>2</th>\n",
              "      <td>0</td>\n",
              "      <td>0.208333</td>\n",
              "      <td>0</td>\n",
              "      <td>1.0</td>\n",
              "      <td>8</td>\n",
              "      <td>0</td>\n",
              "      <td>0</td>\n",
              "      <td>0</td>\n",
              "      <td>1</td>\n",
              "    </tr>\n",
              "    <tr>\n",
              "      <th>3</th>\n",
              "      <td>0</td>\n",
              "      <td>0.194038</td>\n",
              "      <td>0</td>\n",
              "      <td>2.0</td>\n",
              "      <td>8</td>\n",
              "      <td>0</td>\n",
              "      <td>0</td>\n",
              "      <td>0</td>\n",
              "      <td>1</td>\n",
              "    </tr>\n",
              "    <tr>\n",
              "      <th>4</th>\n",
              "      <td>0</td>\n",
              "      <td>0.020585</td>\n",
              "      <td>0</td>\n",
              "      <td>0.0</td>\n",
              "      <td>9</td>\n",
              "      <td>1</td>\n",
              "      <td>0</td>\n",
              "      <td>0</td>\n",
              "      <td>0</td>\n",
              "    </tr>\n",
              "  </tbody>\n",
              "</table>\n",
              "</div>\n",
              "      <button class=\"colab-df-convert\" onclick=\"convertToInteractive('df-f11c1c83-18a9-4034-9e45-b606e229b5a1')\"\n",
              "              title=\"Convert this dataframe to an interactive table.\"\n",
              "              style=\"display:none;\">\n",
              "        \n",
              "  <svg xmlns=\"http://www.w3.org/2000/svg\" height=\"24px\"viewBox=\"0 0 24 24\"\n",
              "       width=\"24px\">\n",
              "    <path d=\"M0 0h24v24H0V0z\" fill=\"none\"/>\n",
              "    <path d=\"M18.56 5.44l.94 2.06.94-2.06 2.06-.94-2.06-.94-.94-2.06-.94 2.06-2.06.94zm-11 1L8.5 8.5l.94-2.06 2.06-.94-2.06-.94L8.5 2.5l-.94 2.06-2.06.94zm10 10l.94 2.06.94-2.06 2.06-.94-2.06-.94-.94-2.06-.94 2.06-2.06.94z\"/><path d=\"M17.41 7.96l-1.37-1.37c-.4-.4-.92-.59-1.43-.59-.52 0-1.04.2-1.43.59L10.3 9.45l-7.72 7.72c-.78.78-.78 2.05 0 2.83L4 21.41c.39.39.9.59 1.41.59.51 0 1.02-.2 1.41-.59l7.78-7.78 2.81-2.81c.8-.78.8-2.07 0-2.86zM5.41 20L4 18.59l7.72-7.72 1.47 1.35L5.41 20z\"/>\n",
              "  </svg>\n",
              "      </button>\n",
              "      \n",
              "  <style>\n",
              "    .colab-df-container {\n",
              "      display:flex;\n",
              "      flex-wrap:wrap;\n",
              "      gap: 12px;\n",
              "    }\n",
              "\n",
              "    .colab-df-convert {\n",
              "      background-color: #E8F0FE;\n",
              "      border: none;\n",
              "      border-radius: 50%;\n",
              "      cursor: pointer;\n",
              "      display: none;\n",
              "      fill: #1967D2;\n",
              "      height: 32px;\n",
              "      padding: 0 0 0 0;\n",
              "      width: 32px;\n",
              "    }\n",
              "\n",
              "    .colab-df-convert:hover {\n",
              "      background-color: #E2EBFA;\n",
              "      box-shadow: 0px 1px 2px rgba(60, 64, 67, 0.3), 0px 1px 3px 1px rgba(60, 64, 67, 0.15);\n",
              "      fill: #174EA6;\n",
              "    }\n",
              "\n",
              "    [theme=dark] .colab-df-convert {\n",
              "      background-color: #3B4455;\n",
              "      fill: #D2E3FC;\n",
              "    }\n",
              "\n",
              "    [theme=dark] .colab-df-convert:hover {\n",
              "      background-color: #434B5C;\n",
              "      box-shadow: 0px 1px 3px 1px rgba(0, 0, 0, 0.15);\n",
              "      filter: drop-shadow(0px 1px 2px rgba(0, 0, 0, 0.3));\n",
              "      fill: #FFFFFF;\n",
              "    }\n",
              "  </style>\n",
              "\n",
              "      <script>\n",
              "        const buttonEl =\n",
              "          document.querySelector('#df-f11c1c83-18a9-4034-9e45-b606e229b5a1 button.colab-df-convert');\n",
              "        buttonEl.style.display =\n",
              "          google.colab.kernel.accessAllowed ? 'block' : 'none';\n",
              "\n",
              "        async function convertToInteractive(key) {\n",
              "          const element = document.querySelector('#df-f11c1c83-18a9-4034-9e45-b606e229b5a1');\n",
              "          const dataTable =\n",
              "            await google.colab.kernel.invokeFunction('convertToInteractive',\n",
              "                                                     [key], {});\n",
              "          if (!dataTable) return;\n",
              "\n",
              "          const docLinkHtml = 'Like what you see? Visit the ' +\n",
              "            '<a target=\"_blank\" href=https://colab.research.google.com/notebooks/data_table.ipynb>data table notebook</a>'\n",
              "            + ' to learn more about interactive tables.';\n",
              "          element.innerHTML = '';\n",
              "          dataTable['output_type'] = 'display_data';\n",
              "          await google.colab.output.renderOutput(dataTable, element);\n",
              "          const docLink = document.createElement('div');\n",
              "          docLink.innerHTML = docLinkHtml;\n",
              "          element.appendChild(docLink);\n",
              "        }\n",
              "      </script>\n",
              "    </div>\n",
              "  </div>\n",
              "  "
            ]
          },
          "metadata": {},
          "execution_count": 60
        }
      ]
    },
    {
      "cell_type": "markdown",
      "source": [
        "In the next step we split our sample into a train and test dataset, so that we can assess the model we estimate on a separate sample."
      ],
      "metadata": {
        "id": "Pd3M_q7t6snp"
      }
    },
    {
      "cell_type": "code",
      "source": [
        "X_train, X_test, y_train, y_test = train_test_split(train.drop('status',axis=1), \n",
        "                                                    train['status'], test_size=0.30,  stratify=train['status'],\n",
        "                                                    random_state=101)"
      ],
      "metadata": {
        "id": "JkpybDai6ttI"
      },
      "execution_count": null,
      "outputs": []
    },
    {
      "cell_type": "code",
      "source": [
        "logmodel = LogisticRegression(max_iter = 500)\n",
        "logmodel.fit(X_train,y_train)"
      ],
      "metadata": {
        "colab": {
          "base_uri": "https://localhost:8080/"
        },
        "id": "wgNi0Iso6w4a",
        "outputId": "2411a6d3-ec9c-49f6-c54f-ff990463a02d"
      },
      "execution_count": null,
      "outputs": [
        {
          "output_type": "execute_result",
          "data": {
            "text/plain": [
              "LogisticRegression(max_iter=500)"
            ]
          },
          "metadata": {},
          "execution_count": 42
        }
      ]
    },
    {
      "cell_type": "code",
      "source": [
        "predictions = logmodel.predict(X_test)"
      ],
      "metadata": {
        "id": "_nYeSvP16yvA"
      },
      "execution_count": null,
      "outputs": []
    },
    {
      "cell_type": "code",
      "source": [
        "print(classification_report(y_test,predictions))"
      ],
      "metadata": {
        "colab": {
          "base_uri": "https://localhost:8080/"
        },
        "id": "uuJ9qSoV60kp",
        "outputId": "bf5c40f1-4acd-4b75-9669-ef25a14c27ce"
      },
      "execution_count": null,
      "outputs": [
        {
          "output_type": "stream",
          "name": "stdout",
          "text": [
            "              precision    recall  f1-score   support\n",
            "\n",
            "           0       0.79      1.00      0.88      4276\n",
            "           1       0.70      0.01      0.02      1163\n",
            "\n",
            "    accuracy                           0.79      5439\n",
            "   macro avg       0.74      0.51      0.45      5439\n",
            "weighted avg       0.77      0.79      0.70      5439\n",
            "\n"
          ]
        }
      ]
    },
    {
      "cell_type": "code",
      "source": [
        "from sklearn.metrics import confusion_matrix\n",
        "confusion_matrix = confusion_matrix(y_test, predictions)\n",
        "print(confusion_matrix)"
      ],
      "metadata": {
        "colab": {
          "base_uri": "https://localhost:8080/"
        },
        "id": "IHY65fEF66D2",
        "outputId": "999ea4df-1b15-4157-c72e-4702ab9814d6"
      },
      "execution_count": null,
      "outputs": [
        {
          "output_type": "stream",
          "name": "stdout",
          "text": [
            "[[4270    6]\n",
            " [1149   14]]\n"
          ]
        }
      ]
    },
    {
      "cell_type": "code",
      "source": [
        "# If we just want to print out accuracy directly we can use: \n",
        "print(\"Accuracy of the Logistic Regression model is\",round(accuracy_score(y_test,predictions),2))"
      ],
      "metadata": {
        "colab": {
          "base_uri": "https://localhost:8080/"
        },
        "id": "_gTabvQ96-Ad",
        "outputId": "56bacb36-222a-40ae-cc9b-9dbd13b4e131"
      },
      "execution_count": null,
      "outputs": [
        {
          "output_type": "stream",
          "name": "stdout",
          "text": [
            "Accuracy of the Logistic Regression model is 0.79\n"
          ]
        }
      ]
    },
    {
      "cell_type": "markdown",
      "source": [
        "## random forest. acc: 79%"
      ],
      "metadata": {
        "id": "0J8VUww47OUm"
      }
    },
    {
      "cell_type": "markdown",
      "source": [
        "We will also try building a Random Forest model for comparison with the Logistic Regression model results.\n",
        "\n",
        "This requires us to load some extra Python packages:\n",
        "\n",
        "    from sklearn.ensemble import RandomForestClassifier\n",
        "    from sklearn.metrics import accuracy_score\n",
        "The `RandomForestClassifier` method is what we'll use to create our model. The `accuracy_score` function is use to compute the accuracy of the model.\n",
        "\n",
        "Some details on Random Forest can be found at: https://machinelearningmastery.com/random-forest-ensemble-in-python/\n",
        "\n",
        "For consistency, we will use the same subset of variables as the Logistic Regression model used. We'll also use the same split of training and test data."
      ],
      "metadata": {
        "id": "jbrsKgqm7T9T"
      }
    },
    {
      "cell_type": "code",
      "source": [
        "from sklearn.ensemble import RandomForestClassifier\n",
        "from sklearn.metrics import accuracy_score"
      ],
      "metadata": {
        "id": "vu6wKYCl7Tp6"
      },
      "execution_count": null,
      "outputs": []
    },
    {
      "cell_type": "markdown",
      "source": [
        "Set up our Random Forest model"
      ],
      "metadata": {
        "id": "Tvd5qprw7hZM"
      }
    },
    {
      "cell_type": "code",
      "source": [
        "rfmodel = RandomForestClassifier(max_depth= 8, n_estimators=100, random_state=42)"
      ],
      "metadata": {
        "id": "uyRdE99T7f4P"
      },
      "execution_count": null,
      "outputs": []
    },
    {
      "cell_type": "markdown",
      "source": [
        "Fit the Random Forest model to the training data:"
      ],
      "metadata": {
        "id": "MJnKCWP37mhc"
      }
    },
    {
      "cell_type": "code",
      "source": [
        "rfmodel.fit(X_train,y_train)"
      ],
      "metadata": {
        "colab": {
          "base_uri": "https://localhost:8080/"
        },
        "id": "JCvjio0G7nvw",
        "outputId": "3dc97fd8-8a60-4035-d06d-c32745e7cb30"
      },
      "execution_count": null,
      "outputs": [
        {
          "output_type": "execute_result",
          "data": {
            "text/plain": [
              "RandomForestClassifier(max_depth=8, random_state=42)"
            ]
          },
          "metadata": {},
          "execution_count": 50
        }
      ]
    },
    {
      "cell_type": "markdown",
      "source": [
        "Get the predictions from the Random Forest Model"
      ],
      "metadata": {
        "id": "UJVUY-2t7qEA"
      }
    },
    {
      "cell_type": "code",
      "source": [
        "predictions_rf = rfmodel.predict(X_test)"
      ],
      "metadata": {
        "id": "WlMkG07C7pt8"
      },
      "execution_count": null,
      "outputs": []
    },
    {
      "cell_type": "code",
      "source": [
        "# Print out the classification report\n",
        "print(classification_report(y_test,predictions_rf))"
      ],
      "metadata": {
        "colab": {
          "base_uri": "https://localhost:8080/"
        },
        "id": "YLIo-u9n7uKY",
        "outputId": "a57013a1-c7b9-4630-aa01-fb3f9455e156"
      },
      "execution_count": null,
      "outputs": [
        {
          "output_type": "stream",
          "name": "stdout",
          "text": [
            "              precision    recall  f1-score   support\n",
            "\n",
            "           0       0.79      1.00      0.88      4276\n",
            "           1       0.59      0.03      0.05      1163\n",
            "\n",
            "    accuracy                           0.79      5439\n",
            "   macro avg       0.69      0.51      0.47      5439\n",
            "weighted avg       0.75      0.79      0.70      5439\n",
            "\n"
          ]
        }
      ]
    },
    {
      "cell_type": "markdown",
      "source": [
        "Print the confusion matrix"
      ],
      "metadata": {
        "id": "igatjOFj7wNu"
      }
    },
    {
      "cell_type": "code",
      "source": [
        "from sklearn.metrics import confusion_matrix\n",
        "confusion_matrix = confusion_matrix(y_test, predictions_rf)\n",
        "print(confusion_matrix)"
      ],
      "metadata": {
        "colab": {
          "base_uri": "https://localhost:8080/"
        },
        "id": "WRiOIZNg7xdF",
        "outputId": "c62a6683-1b2d-4a91-9d7b-b8a031e3581e"
      },
      "execution_count": null,
      "outputs": [
        {
          "output_type": "stream",
          "name": "stdout",
          "text": [
            "[[4255   21]\n",
            " [1133   30]]\n"
          ]
        }
      ]
    },
    {
      "cell_type": "markdown",
      "source": [
        "Accuracy of the Random Forest Model"
      ],
      "metadata": {
        "id": "b43AwBMp70lf"
      }
    },
    {
      "cell_type": "code",
      "source": [
        "print(\"Accuracy of the Random Forest Model is\",\n",
        "      round(accuracy_score(y_test,predictions_rf),2))"
      ],
      "metadata": {
        "colab": {
          "base_uri": "https://localhost:8080/"
        },
        "id": "Iv1Yr59S72x8",
        "outputId": "0cbc1b4f-35d5-4aa2-f28d-78f853e83b45"
      },
      "execution_count": null,
      "outputs": [
        {
          "output_type": "stream",
          "name": "stdout",
          "text": [
            "Accuracy of the Random Forest Model is 0.79\n"
          ]
        }
      ]
    },
    {
      "cell_type": "markdown",
      "source": [
        "Print out some information regarding which features were the most important in the Random Forest Model\n",
        "\n",
        "The `inc_ratio` and `open_acc` features were by far the most important."
      ],
      "metadata": {
        "id": "m5R84xVb75Ty"
      }
    },
    {
      "cell_type": "code",
      "source": [
        "importances = rfmodel.feature_importances_\n",
        "\n",
        "sorted_indices = np.argsort(importances)[::-1]\n",
        "for i in sorted_indices:\n",
        "    print(\"{0:25} {1:6}\".format(X_train.columns[i],round(importances[i],4)))"
      ],
      "metadata": {
        "colab": {
          "base_uri": "https://localhost:8080/"
        },
        "id": "iedeHfJT75Fi",
        "outputId": "140ab25f-0e84-4d15-f552-c97e22392397"
      },
      "execution_count": null,
      "outputs": [
        {
          "output_type": "stream",
          "name": "stdout",
          "text": [
            "inc_ratio                  0.506\n",
            "open_acc                  0.1963\n",
            "num_tl_op_past_12m        0.1594\n",
            "pub_rec_bankruptcies      0.0617\n",
            "RENT                      0.0381\n",
            "MORTGAGE                  0.0259\n",
            "OWN                       0.0127\n",
            "OTHER                        0.0\n"
          ]
        }
      ]
    },
    {
      "cell_type": "markdown",
      "source": [
        "## compare gini performance for both algorithms"
      ],
      "metadata": {
        "id": "eU6jiP718Ghr"
      }
    },
    {
      "cell_type": "markdown",
      "source": [
        "**Gini coefficient**\n",
        "\n",
        "The Gini coefficient is an industry standard measure of assessing the effectiveness of a scorecard in discriminating between good and bads.\n",
        "\n",
        "Further details on how it's used and calculated :\n",
        "\n",
        "https://towardsdatascience.com/clearly-explained-gini-coefficient-and-lorenz-curve-fe6f5dcdc07\n",
        "\n",
        "https://www.thoughtco.com/calculate-the-gini-coefficient-1147711"
      ],
      "metadata": {
        "id": "2KPLgdaP8P8R"
      }
    },
    {
      "cell_type": "code",
      "source": [
        "# Calculate probability outcome to feed into Gini function\n",
        "log_proba = logmodel.predict_proba(X_test)[:, 1]\n",
        "rf_proba = rfmodel.predict_proba(X_test)[:, 1]"
      ],
      "metadata": {
        "id": "dch8wEmx8TQm"
      },
      "execution_count": null,
      "outputs": []
    },
    {
      "cell_type": "code",
      "source": [
        "# Compare all models on March 21' full apps sample\n",
        "plt.title('Compare different models')\n",
        "plot_roc(y_test, [(log_proba, 'Logistic Regression model'), (rf_proba, 'Random Forest model')])"
      ],
      "metadata": {
        "colab": {
          "base_uri": "https://localhost:8080/",
          "height": 295
        },
        "id": "7F96Oxq_8VCO",
        "outputId": "2d5a7081-2b88-467d-a912-2fcf7e9ce1e9"
      },
      "execution_count": null,
      "outputs": [
        {
          "output_type": "display_data",
          "data": {
            "text/plain": [
              "<Figure size 432x288 with 1 Axes>"
            ],
            "image/png": "[encoded data removed]"
          },
          "metadata": {}
        }
      ]
    },
    {
      "cell_type": "markdown",
      "source": [
        "# Deep learning models for predictive modelling"
      ],
      "metadata": {
        "id": "QYwPcR8OWETI"
      }
    },
    {
      "cell_type": "markdown",
      "source": [
        "### import libraries"
      ],
      "metadata": {
        "id": "9hn9S9iUv2Hl"
      }
    },
    {
      "cell_type": "code",
      "source": [
        "pip install imbalanced-learn"
      ],
      "metadata": {
        "id": "rgaEtUBqq46E"
      },
      "execution_count": null,
      "outputs": []
    },
    {
      "cell_type": "code",
      "source": [
        "# check version number\n",
        "import imblearn\n",
        "print(imblearn.__version__)"
      ],
      "metadata": {
        "colab": {
          "base_uri": "https://localhost:8080/"
        },
        "id": "OhE6rrRsq-sR",
        "outputId": "2acc6a46-15fc-45a6-b9ff-f91c3a36a40b"
      },
      "execution_count": null,
      "outputs": [
        {
          "output_type": "stream",
          "name": "stdout",
          "text": [
            "0.8.1\n"
          ]
        }
      ]
    },
    {
      "cell_type": "code",
      "source": [
        "pip install scikeras[tensorflow]"
      ],
      "metadata": {
        "id": "HnwASO_dvsVt"
      },
      "execution_count": null,
      "outputs": []
    },
    {
      "cell_type": "code",
      "execution_count": null,
      "metadata": {
        "id": "C8bTMcpUcTG0"
      },
      "outputs": [],
      "source": [
        "import pandas as pd\n",
        "import numpy as np\n",
        "import tensorflow as tf\n",
        "from tensorflow.keras.models import Sequential\n",
        "from tensorflow.keras.layers import Dense\n",
        "from scikeras.wrappers import KerasClassifier\n",
        "from sklearn.model_selection import cross_val_score\n",
        "from sklearn.preprocessing import LabelEncoder\n",
        "from sklearn.model_selection import StratifiedKFold\n",
        "from sklearn.preprocessing import StandardScaler\n",
        "from sklearn.pipeline import Pipeline\n",
        "from sklearn.feature_selection import SelectFromModel\n",
        "from sklearn.linear_model import LogisticRegression\n",
        "from collections import Counter\n",
        "from imblearn.over_sampling import RandomOverSampler\n",
        "from imblearn.under_sampling import RandomUnderSampler\n",
        "from matplotlib import pyplot"
      ]
    },
    {
      "cell_type": "markdown",
      "source": [
        "## data prepration"
      ],
      "metadata": {
        "id": "M06dIB32bVLK"
      }
    },
    {
      "cell_type": "markdown",
      "source": [
        "### import data. data shape: (18,324 ,31)"
      ],
      "metadata": {
        "id": "T7WXn3teWKKs"
      }
    },
    {
      "cell_type": "code",
      "execution_count": null,
      "metadata": {
        "colab": {
          "base_uri": "https://localhost:8080/",
          "height": 678
        },
        "id": "hjmzoYuoV_U8",
        "outputId": "3042ac9b-9138-4869-9e56-b023110e9765"
      },
      "outputs": [
        {
          "output_type": "execute_result",
          "data": {
            "text/plain": [
              "             id addr_state  annual_inc emp_length  \\\n",
              "0        802173         CA     72000.0    3 years   \n",
              "1      14518910         TX     97500.0     1 year   \n",
              "2      54333324         NY    120000.0     1 year   \n",
              "3      62247022         CA    130000.0  10+ years   \n",
              "4      71986114         TX     58296.0  10+ years   \n",
              "...         ...        ...         ...        ...   \n",
              "18319  67809746         NY    300000.0    5 years   \n",
              "18320  66360297         IL    120000.0    9 years   \n",
              "18321  59699673         TX     85000.0  10+ years   \n",
              "18322  83334760         CA     22000.0    3 years   \n",
              "18323  14939090         FL    200000.0    3 years   \n",
              "\n",
              "                                     emp_title home_ownership  installment  \\\n",
              "0                     CA. Dept. Of Corrections       MORTGAGE       395.66   \n",
              "1          Curriculum & Implementation Manager           RENT       966.47   \n",
              "2                              Senior manager            RENT       806.57   \n",
              "3                          Border Patrol Agent           RENT       846.17   \n",
              "4                              Account Manager       MORTGAGE        41.79   \n",
              "...                                        ...            ...          ...   \n",
              "18319                                 Director       MORTGAGE       164.22   \n",
              "18320                               Journalist       MORTGAGE       455.96   \n",
              "18321                         Process Operator       MORTGAGE       390.36   \n",
              "18322    Instructional Specialist/Applications           RENT       213.89   \n",
              "18323  ceritified registered nurse anesthetist       MORTGAGE       572.29   \n",
              "\n",
              "       loan_amnt             purpose        term  ... num_il_tl  \\\n",
              "0          12000  debt_consolidation   36 months  ...       NaN   \n",
              "1          35000  debt_consolidation   60 months  ...       2.0   \n",
              "2          25000         credit_card   36 months  ...       2.0   \n",
              "3          25225  debt_consolidation   36 months  ...       9.0   \n",
              "4           1200               other   36 months  ...       7.0   \n",
              "...          ...                 ...         ...  ...       ...   \n",
              "18319       5000         credit_card   36 months  ...      22.0   \n",
              "18320      14000  debt_consolidation   36 months  ...      22.0   \n",
              "18321      11925         credit_card   36 months  ...      10.0   \n",
              "18322       6000  debt_consolidation   36 months  ...       1.0   \n",
              "18323      21075    home_improvement   60 months  ...      34.0   \n",
              "\n",
              "       num_op_rev_tl  num_tl_90g_dpd_24m  num_tl_op_past_12m  open_acc  \\\n",
              "0                NaN                 NaN                 NaN        16   \n",
              "1               12.0                 0.0                 1.0        13   \n",
              "2                7.0                 0.0                 1.0         8   \n",
              "3                3.0                 0.0                 2.0         8   \n",
              "4                6.0                 0.0                 0.0         9   \n",
              "...              ...                 ...                 ...       ...   \n",
              "18319            8.0                 0.0                 3.0        15   \n",
              "18320            9.0                 0.0                 4.0        22   \n",
              "18321           14.0                 0.0                 2.0        17   \n",
              "18322            6.0                 0.0                 0.0         6   \n",
              "18323            6.0                 0.0                 2.0        27   \n",
              "\n",
              "       percent_bc_gt_75  pub_rec_bankruptcies  total_acc  total_bal_ex_mort  \\\n",
              "0                   NaN                     0         23                NaN   \n",
              "1                  87.5                     0         24            84227.0   \n",
              "2                 100.0                     0         16            39124.0   \n",
              "3                  50.0                     0         24           123331.0   \n",
              "4                 100.0                     0         17            51794.0   \n",
              "...                 ...                   ...        ...                ...   \n",
              "18319              83.3                     0         46           319418.0   \n",
              "18320              25.0                     0         38            63774.0   \n",
              "18321              71.4                     0         31            72686.0   \n",
              "18322              66.7                     0         13             5058.0   \n",
              "18323              25.0                     1         63           193674.0   \n",
              "\n",
              "       loan_status  \n",
              "0       Fully Paid  \n",
              "1       Fully Paid  \n",
              "2       Fully Paid  \n",
              "3       Fully Paid  \n",
              "4       Fully Paid  \n",
              "...            ...  \n",
              "18319   Fully Paid  \n",
              "18320   Fully Paid  \n",
              "18321   Fully Paid  \n",
              "18322   Fully Paid  \n",
              "18323   Fully Paid  \n",
              "\n",
              "[18324 rows x 31 columns]"
            ],
            "text/html": [
              "\n",
              "  <div id=\"df-705a72a7-42d5-4822-b5d8-2547db2d5d4e\">\n",
              "    <div class=\"colab-df-container\">\n",
              "      <div>\n",
              "<style scoped>\n",
              "    .dataframe tbody tr th:only-of-type {\n",
              "        vertical-align: middle;\n",
              "    }\n",
              "\n",
              "    .dataframe tbody tr th {\n",
              "        vertical-align: top;\n",
              "    }\n",
              "\n",
              "    .dataframe thead th {\n",
              "        text-align: right;\n",
              "    }\n",
              "</style>\n",
              "<table border=\"1\" class=\"dataframe\">\n",
              "  <thead>\n",
              "    <tr style=\"text-align: right;\">\n",
              "      <th></th>\n",
              "      <th>id</th>\n",
              "      <th>addr_state</th>\n",
              "      <th>annual_inc</th>\n",
              "      <th>emp_length</th>\n",
              "      <th>emp_title</th>\n",
              "      <th>home_ownership</th>\n",
              "      <th>installment</th>\n",
              "      <th>loan_amnt</th>\n",
              "      <th>purpose</th>\n",
              "      <th>term</th>\n",
              "      <th>...</th>\n",
              "      <th>num_il_tl</th>\n",
              "      <th>num_op_rev_tl</th>\n",
              "      <th>num_tl_90g_dpd_24m</th>\n",
              "      <th>num_tl_op_past_12m</th>\n",
              "      <th>open_acc</th>\n",
              "      <th>percent_bc_gt_75</th>\n",
              "      <th>pub_rec_bankruptcies</th>\n",
              "      <th>total_acc</th>\n",
              "      <th>total_bal_ex_mort</th>\n",
              "      <th>loan_status</th>\n",
              "    </tr>\n",
              "  </thead>\n",
              "  <tbody>\n",
              "    <tr>\n",
              "      <th>0</th>\n",
              "      <td>802173</td>\n",
              "      <td>CA</td>\n",
              "      <td>72000.0</td>\n",
              "      <td>3 years</td>\n",
              "      <td>CA. Dept. Of Corrections</td>\n",
              "      <td>MORTGAGE</td>\n",
              "      <td>395.66</td>\n",
              "      <td>12000</td>\n",
              "      <td>debt_consolidation</td>\n",
              "      <td>36 months</td>\n",
              "      <td>...</td>\n",
              "      <td>NaN</td>\n",
              "      <td>NaN</td>\n",
              "      <td>NaN</td>\n",
              "      <td>NaN</td>\n",
              "      <td>16</td>\n",
              "      <td>NaN</td>\n",
              "      <td>0</td>\n",
              "      <td>23</td>\n",
              "      <td>NaN</td>\n",
              "      <td>Fully Paid</td>\n",
              "    </tr>\n",
              "    <tr>\n",
              "      <th>1</th>\n",
              "      <td>14518910</td>\n",
              "      <td>TX</td>\n",
              "      <td>97500.0</td>\n",
              "      <td>1 year</td>\n",
              "      <td>Curriculum &amp; Implementation Manager</td>\n",
              "      <td>RENT</td>\n",
              "      <td>966.47</td>\n",
              "      <td>35000</td>\n",
              "      <td>debt_consolidation</td>\n",
              "      <td>60 months</td>\n",
              "      <td>...</td>\n",
              "      <td>2.0</td>\n",
              "      <td>12.0</td>\n",
              "      <td>0.0</td>\n",
              "      <td>1.0</td>\n",
              "      <td>13</td>\n",
              "      <td>87.5</td>\n",
              "      <td>0</td>\n",
              "      <td>24</td>\n",
              "      <td>84227.0</td>\n",
              "      <td>Fully Paid</td>\n",
              "    </tr>\n",
              "    <tr>\n",
              "      <th>2</th>\n",
              "      <td>54333324</td>\n",
              "      <td>NY</td>\n",
              "      <td>120000.0</td>\n",
              "      <td>1 year</td>\n",
              "      <td>Senior manager</td>\n",
              "      <td>RENT</td>\n",
              "      <td>806.57</td>\n",
              "      <td>25000</td>\n",
              "      <td>credit_card</td>\n",
              "      <td>36 months</td>\n",
              "      <td>...</td>\n",
              "      <td>2.0</td>\n",
              "      <td>7.0</td>\n",
              "      <td>0.0</td>\n",
              "      <td>1.0</td>\n",
              "      <td>8</td>\n",
              "      <td>100.0</td>\n",
              "      <td>0</td>\n",
              "      <td>16</td>\n",
              "      <td>39124.0</td>\n",
              "      <td>Fully Paid</td>\n",
              "    </tr>\n",
              "    <tr>\n",
              "      <th>3</th>\n",
              "      <td>62247022</td>\n",
              "      <td>CA</td>\n",
              "      <td>130000.0</td>\n",
              "      <td>10+ years</td>\n",
              "      <td>Border Patrol Agent</td>\n",
              "      <td>RENT</td>\n",
              "      <td>846.17</td>\n",
              "      <td>25225</td>\n",
              "      <td>debt_consolidation</td>\n",
              "      <td>36 months</td>\n",
              "      <td>...</td>\n",
              "      <td>9.0</td>\n",
              "      <td>3.0</td>\n",
              "      <td>0.0</td>\n",
              "      <td>2.0</td>\n",
              "      <td>8</td>\n",
              "      <td>50.0</td>\n",
              "      <td>0</td>\n",
              "      <td>24</td>\n",
              "      <td>123331.0</td>\n",
              "      <td>Fully Paid</td>\n",
              "    </tr>\n",
              "    <tr>\n",
              "      <th>4</th>\n",
              "      <td>71986114</td>\n",
              "      <td>TX</td>\n",
              "      <td>58296.0</td>\n",
              "      <td>10+ years</td>\n",
              "      <td>Account Manager</td>\n",
              "      <td>MORTGAGE</td>\n",
              "      <td>41.79</td>\n",
              "      <td>1200</td>\n",
              "      <td>other</td>\n",
              "      <td>36 months</td>\n",
              "      <td>...</td>\n",
              "      <td>7.0</td>\n",
              "      <td>6.0</td>\n",
              "      <td>0.0</td>\n",
              "      <td>0.0</td>\n",
              "      <td>9</td>\n",
              "      <td>100.0</td>\n",
              "      <td>0</td>\n",
              "      <td>17</td>\n",
              "      <td>51794.0</td>\n",
              "      <td>Fully Paid</td>\n",
              "    </tr>\n",
              "    <tr>\n",
              "      <th>...</th>\n",
              "      <td>...</td>\n",
              "      <td>...</td>\n",
              "      <td>...</td>\n",
              "      <td>...</td>\n",
              "      <td>...</td>\n",
              "      <td>...</td>\n",
              "      <td>...</td>\n",
              "      <td>...</td>\n",
              "      <td>...</td>\n",
              "      <td>...</td>\n",
              "      <td>...</td>\n",
              "      <td>...</td>\n",
              "      <td>...</td>\n",
              "      <td>...</td>\n",
              "      <td>...</td>\n",
              "      <td>...</td>\n",
              "      <td>...</td>\n",
              "      <td>...</td>\n",
              "      <td>...</td>\n",
              "      <td>...</td>\n",
              "      <td>...</td>\n",
              "    </tr>\n",
              "    <tr>\n",
              "      <th>18319</th>\n",
              "      <td>67809746</td>\n",
              "      <td>NY</td>\n",
              "      <td>300000.0</td>\n",
              "      <td>5 years</td>\n",
              "      <td>Director</td>\n",
              "      <td>MORTGAGE</td>\n",
              "      <td>164.22</td>\n",
              "      <td>5000</td>\n",
              "      <td>credit_card</td>\n",
              "      <td>36 months</td>\n",
              "      <td>...</td>\n",
              "      <td>22.0</td>\n",
              "      <td>8.0</td>\n",
              "      <td>0.0</td>\n",
              "      <td>3.0</td>\n",
              "      <td>15</td>\n",
              "      <td>83.3</td>\n",
              "      <td>0</td>\n",
              "      <td>46</td>\n",
              "      <td>319418.0</td>\n",
              "      <td>Fully Paid</td>\n",
              "    </tr>\n",
              "    <tr>\n",
              "      <th>18320</th>\n",
              "      <td>66360297</td>\n",
              "      <td>IL</td>\n",
              "      <td>120000.0</td>\n",
              "      <td>9 years</td>\n",
              "      <td>Journalist</td>\n",
              "      <td>MORTGAGE</td>\n",
              "      <td>455.96</td>\n",
              "      <td>14000</td>\n",
              "      <td>debt_consolidation</td>\n",
              "      <td>36 months</td>\n",
              "      <td>...</td>\n",
              "      <td>22.0</td>\n",
              "      <td>9.0</td>\n",
              "      <td>0.0</td>\n",
              "      <td>4.0</td>\n",
              "      <td>22</td>\n",
              "      <td>25.0</td>\n",
              "      <td>0</td>\n",
              "      <td>38</td>\n",
              "      <td>63774.0</td>\n",
              "      <td>Fully Paid</td>\n",
              "    </tr>\n",
              "    <tr>\n",
              "      <th>18321</th>\n",
              "      <td>59699673</td>\n",
              "      <td>TX</td>\n",
              "      <td>85000.0</td>\n",
              "      <td>10+ years</td>\n",
              "      <td>Process Operator</td>\n",
              "      <td>MORTGAGE</td>\n",
              "      <td>390.36</td>\n",
              "      <td>11925</td>\n",
              "      <td>credit_card</td>\n",
              "      <td>36 months</td>\n",
              "      <td>...</td>\n",
              "      <td>10.0</td>\n",
              "      <td>14.0</td>\n",
              "      <td>0.0</td>\n",
              "      <td>2.0</td>\n",
              "      <td>17</td>\n",
              "      <td>71.4</td>\n",
              "      <td>0</td>\n",
              "      <td>31</td>\n",
              "      <td>72686.0</td>\n",
              "      <td>Fully Paid</td>\n",
              "    </tr>\n",
              "    <tr>\n",
              "      <th>18322</th>\n",
              "      <td>83334760</td>\n",
              "      <td>CA</td>\n",
              "      <td>22000.0</td>\n",
              "      <td>3 years</td>\n",
              "      <td>Instructional Specialist/Applications</td>\n",
              "      <td>RENT</td>\n",
              "      <td>213.89</td>\n",
              "      <td>6000</td>\n",
              "      <td>debt_consolidation</td>\n",
              "      <td>36 months</td>\n",
              "      <td>...</td>\n",
              "      <td>1.0</td>\n",
              "      <td>6.0</td>\n",
              "      <td>0.0</td>\n",
              "      <td>0.0</td>\n",
              "      <td>6</td>\n",
              "      <td>66.7</td>\n",
              "      <td>0</td>\n",
              "      <td>13</td>\n",
              "      <td>5058.0</td>\n",
              "      <td>Fully Paid</td>\n",
              "    </tr>\n",
              "    <tr>\n",
              "      <th>18323</th>\n",
              "      <td>14939090</td>\n",
              "      <td>FL</td>\n",
              "      <td>200000.0</td>\n",
              "      <td>3 years</td>\n",
              "      <td>ceritified registered nurse anesthetist</td>\n",
              "      <td>MORTGAGE</td>\n",
              "      <td>572.29</td>\n",
              "      <td>21075</td>\n",
              "      <td>home_improvement</td>\n",
              "      <td>60 months</td>\n",
              "      <td>...</td>\n",
              "      <td>34.0</td>\n",
              "      <td>6.0</td>\n",
              "      <td>0.0</td>\n",
              "      <td>2.0</td>\n",
              "      <td>27</td>\n",
              "      <td>25.0</td>\n",
              "      <td>1</td>\n",
              "      <td>63</td>\n",
              "      <td>193674.0</td>\n",
              "      <td>Fully Paid</td>\n",
              "    </tr>\n",
              "  </tbody>\n",
              "</table>\n",
              "<p>18324 rows × 31 columns</p>\n",
              "</div>\n",
              "      <button class=\"colab-df-convert\" onclick=\"convertToInteractive('df-705a72a7-42d5-4822-b5d8-2547db2d5d4e')\"\n",
              "              title=\"Convert this dataframe to an interactive table.\"\n",
              "              style=\"display:none;\">\n",
              "        \n",
              "  <svg xmlns=\"http://www.w3.org/2000/svg\" height=\"24px\"viewBox=\"0 0 24 24\"\n",
              "       width=\"24px\">\n",
              "    <path d=\"M0 0h24v24H0V0z\" fill=\"none\"/>\n",
              "    <path d=\"M18.56 5.44l.94 2.06.94-2.06 2.06-.94-2.06-.94-.94-2.06-.94 2.06-2.06.94zm-11 1L8.5 8.5l.94-2.06 2.06-.94-2.06-.94L8.5 2.5l-.94 2.06-2.06.94zm10 10l.94 2.06.94-2.06 2.06-.94-2.06-.94-.94-2.06-.94 2.06-2.06.94z\"/><path d=\"M17.41 7.96l-1.37-1.37c-.4-.4-.92-.59-1.43-.59-.52 0-1.04.2-1.43.59L10.3 9.45l-7.72 7.72c-.78.78-.78 2.05 0 2.83L4 21.41c.39.39.9.59 1.41.59.51 0 1.02-.2 1.41-.59l7.78-7.78 2.81-2.81c.8-.78.8-2.07 0-2.86zM5.41 20L4 18.59l7.72-7.72 1.47 1.35L5.41 20z\"/>\n",
              "  </svg>\n",
              "      </button>\n",
              "      \n",
              "  <style>\n",
              "    .colab-df-container {\n",
              "      display:flex;\n",
              "      flex-wrap:wrap;\n",
              "      gap: 12px;\n",
              "    }\n",
              "\n",
              "    .colab-df-convert {\n",
              "      background-color: #E8F0FE;\n",
              "      border: none;\n",
              "      border-radius: 50%;\n",
              "      cursor: pointer;\n",
              "      display: none;\n",
              "      fill: #1967D2;\n",
              "      height: 32px;\n",
              "      padding: 0 0 0 0;\n",
              "      width: 32px;\n",
              "    }\n",
              "\n",
              "    .colab-df-convert:hover {\n",
              "      background-color: #E2EBFA;\n",
              "      box-shadow: 0px 1px 2px rgba(60, 64, 67, 0.3), 0px 1px 3px 1px rgba(60, 64, 67, 0.15);\n",
              "      fill: #174EA6;\n",
              "    }\n",
              "\n",
              "    [theme=dark] .colab-df-convert {\n",
              "      background-color: #3B4455;\n",
              "      fill: #D2E3FC;\n",
              "    }\n",
              "\n",
              "    [theme=dark] .colab-df-convert:hover {\n",
              "      background-color: #434B5C;\n",
              "      box-shadow: 0px 1px 3px 1px rgba(0, 0, 0, 0.15);\n",
              "      filter: drop-shadow(0px 1px 2px rgba(0, 0, 0, 0.3));\n",
              "      fill: #FFFFFF;\n",
              "    }\n",
              "  </style>\n",
              "\n",
              "      <script>\n",
              "        const buttonEl =\n",
              "          document.querySelector('#df-705a72a7-42d5-4822-b5d8-2547db2d5d4e button.colab-df-convert');\n",
              "        buttonEl.style.display =\n",
              "          google.colab.kernel.accessAllowed ? 'block' : 'none';\n",
              "\n",
              "        async function convertToInteractive(key) {\n",
              "          const element = document.querySelector('#df-705a72a7-42d5-4822-b5d8-2547db2d5d4e');\n",
              "          const dataTable =\n",
              "            await google.colab.kernel.invokeFunction('convertToInteractive',\n",
              "                                                     [key], {});\n",
              "          if (!dataTable) return;\n",
              "\n",
              "          const docLinkHtml = 'Like what you see? Visit the ' +\n",
              "            '<a target=\"_blank\" href=https://colab.research.google.com/notebooks/data_table.ipynb>data table notebook</a>'\n",
              "            + ' to learn more about interactive tables.';\n",
              "          element.innerHTML = '';\n",
              "          dataTable['output_type'] = 'display_data';\n",
              "          await google.colab.output.renderOutput(dataTable, element);\n",
              "          const docLink = document.createElement('div');\n",
              "          docLink.innerHTML = docLinkHtml;\n",
              "          element.appendChild(docLink);\n",
              "        }\n",
              "      </script>\n",
              "    </div>\n",
              "  </div>\n",
              "  "
            ]
          },
          "metadata": {},
          "execution_count": 5
        }
      ],
      "source": [
        "url = 'https://raw.githubusercontent.com/YLiu95/Loan_default_classification_Llodys_Banking_Group_challenge/main/LBG%20Step%20Up%20Data%20Set%20csv.csv'\n",
        "df = pd.read_csv(url)\n",
        "df"
      ]
    },
    {
      "cell_type": "markdown",
      "source": [
        "### delete all categorical data. data shape: (18,324 ,25)"
      ],
      "metadata": {
        "id": "Y0iDkxBnVPiu"
      }
    },
    {
      "cell_type": "code",
      "source": [
        "df_num = df.drop(['addr_state', 'emp_length', 'emp_title',\n",
        "                  'home_ownership', 'purpose', 'term',], axis=1)\n",
        "df_num"
      ],
      "metadata": {
        "colab": {
          "base_uri": "https://localhost:8080/",
          "height": 488
        },
        "id": "yVIBt1LMVXDs",
        "outputId": "5644aec7-1854-469b-f18d-54743c1c5e12"
      },
      "execution_count": null,
      "outputs": [
        {
          "output_type": "execute_result",
          "data": {
            "text/plain": [
              "             id  annual_inc  installment  loan_amnt int_rate  avg_cur_bal  \\\n",
              "0        802173     72000.0       395.66      12000   11.49%          NaN   \n",
              "1      14518910     97500.0       966.47      35000   21.99%       7019.0   \n",
              "2      54333324    120000.0       806.57      25000    9.99%       4891.0   \n",
              "3      62247022    130000.0       846.17      25225   12.69%      17619.0   \n",
              "4      71986114     58296.0        41.79       1200   15.31%      12321.0   \n",
              "...         ...         ...          ...        ...      ...          ...   \n",
              "18319  67809746    300000.0       164.22       5000   11.22%      67491.0   \n",
              "18320  66360297    120000.0       455.96      14000   10.64%      15445.0   \n",
              "18321  59699673     85000.0       390.36      11925   10.99%      21682.0   \n",
              "18322  83334760     22000.0       213.89       6000   16.99%        843.0   \n",
              "18323  14939090    200000.0       572.29      21075   21.18%       7449.0   \n",
              "\n",
              "       inq_last_12m  max_bal_bc  mo_sin_old_il_acct  mo_sin_old_rev_tl_op  \\\n",
              "0               NaN         NaN                 NaN                   NaN   \n",
              "1               NaN         NaN               148.0                 170.0   \n",
              "2               NaN         NaN               128.0                 147.0   \n",
              "3               NaN         NaN               130.0                 172.0   \n",
              "4               1.0     10372.0               167.0                 145.0   \n",
              "...             ...         ...                 ...                   ...   \n",
              "18319           0.0     23081.0               127.0                 200.0   \n",
              "18320           NaN         NaN               208.0                 145.0   \n",
              "18321           NaN         NaN               164.0                 365.0   \n",
              "18322           3.0      2539.0                99.0                 130.0   \n",
              "18323           NaN         NaN                91.0                 274.0   \n",
              "\n",
              "       ...  num_il_tl  num_op_rev_tl  num_tl_90g_dpd_24m  num_tl_op_past_12m  \\\n",
              "0      ...        NaN            NaN                 NaN                 NaN   \n",
              "1      ...        2.0           12.0                 0.0                 1.0   \n",
              "2      ...        2.0            7.0                 0.0                 1.0   \n",
              "3      ...        9.0            3.0                 0.0                 2.0   \n",
              "4      ...        7.0            6.0                 0.0                 0.0   \n",
              "...    ...        ...            ...                 ...                 ...   \n",
              "18319  ...       22.0            8.0                 0.0                 3.0   \n",
              "18320  ...       22.0            9.0                 0.0                 4.0   \n",
              "18321  ...       10.0           14.0                 0.0                 2.0   \n",
              "18322  ...        1.0            6.0                 0.0                 0.0   \n",
              "18323  ...       34.0            6.0                 0.0                 2.0   \n",
              "\n",
              "       open_acc  percent_bc_gt_75  pub_rec_bankruptcies  total_acc  \\\n",
              "0            16               NaN                     0         23   \n",
              "1            13              87.5                     0         24   \n",
              "2             8             100.0                     0         16   \n",
              "3             8              50.0                     0         24   \n",
              "4             9             100.0                     0         17   \n",
              "...         ...               ...                   ...        ...   \n",
              "18319        15              83.3                     0         46   \n",
              "18320        22              25.0                     0         38   \n",
              "18321        17              71.4                     0         31   \n",
              "18322         6              66.7                     0         13   \n",
              "18323        27              25.0                     1         63   \n",
              "\n",
              "       total_bal_ex_mort  loan_status  \n",
              "0                    NaN   Fully Paid  \n",
              "1                84227.0   Fully Paid  \n",
              "2                39124.0   Fully Paid  \n",
              "3               123331.0   Fully Paid  \n",
              "4                51794.0   Fully Paid  \n",
              "...                  ...          ...  \n",
              "18319           319418.0   Fully Paid  \n",
              "18320            63774.0   Fully Paid  \n",
              "18321            72686.0   Fully Paid  \n",
              "18322             5058.0   Fully Paid  \n",
              "18323           193674.0   Fully Paid  \n",
              "\n",
              "[18324 rows x 25 columns]"
            ],
            "text/html": [
              "\n",
              "  <div id=\"df-b2557ff8-eea9-49ce-87d9-a4fd35289763\">\n",
              "    <div class=\"colab-df-container\">\n",
              "      <div>\n",
              "<style scoped>\n",
              "    .dataframe tbody tr th:only-of-type {\n",
              "        vertical-align: middle;\n",
              "    }\n",
              "\n",
              "    .dataframe tbody tr th {\n",
              "        vertical-align: top;\n",
              "    }\n",
              "\n",
              "    .dataframe thead th {\n",
              "        text-align: right;\n",
              "    }\n",
              "</style>\n",
              "<table border=\"1\" class=\"dataframe\">\n",
              "  <thead>\n",
              "    <tr style=\"text-align: right;\">\n",
              "      <th></th>\n",
              "      <th>id</th>\n",
              "      <th>annual_inc</th>\n",
              "      <th>installment</th>\n",
              "      <th>loan_amnt</th>\n",
              "      <th>int_rate</th>\n",
              "      <th>avg_cur_bal</th>\n",
              "      <th>inq_last_12m</th>\n",
              "      <th>max_bal_bc</th>\n",
              "      <th>mo_sin_old_il_acct</th>\n",
              "      <th>mo_sin_old_rev_tl_op</th>\n",
              "      <th>...</th>\n",
              "      <th>num_il_tl</th>\n",
              "      <th>num_op_rev_tl</th>\n",
              "      <th>num_tl_90g_dpd_24m</th>\n",
              "      <th>num_tl_op_past_12m</th>\n",
              "      <th>open_acc</th>\n",
              "      <th>percent_bc_gt_75</th>\n",
              "      <th>pub_rec_bankruptcies</th>\n",
              "      <th>total_acc</th>\n",
              "      <th>total_bal_ex_mort</th>\n",
              "      <th>loan_status</th>\n",
              "    </tr>\n",
              "  </thead>\n",
              "  <tbody>\n",
              "    <tr>\n",
              "      <th>0</th>\n",
              "      <td>802173</td>\n",
              "      <td>72000.0</td>\n",
              "      <td>395.66</td>\n",
              "      <td>12000</td>\n",
              "      <td>11.49%</td>\n",
              "      <td>NaN</td>\n",
              "      <td>NaN</td>\n",
              "      <td>NaN</td>\n",
              "      <td>NaN</td>\n",
              "      <td>NaN</td>\n",
              "      <td>...</td>\n",
              "      <td>NaN</td>\n",
              "      <td>NaN</td>\n",
              "      <td>NaN</td>\n",
              "      <td>NaN</td>\n",
              "      <td>16</td>\n",
              "      <td>NaN</td>\n",
              "      <td>0</td>\n",
              "      <td>23</td>\n",
              "      <td>NaN</td>\n",
              "      <td>Fully Paid</td>\n",
              "    </tr>\n",
              "    <tr>\n",
              "      <th>1</th>\n",
              "      <td>14518910</td>\n",
              "      <td>97500.0</td>\n",
              "      <td>966.47</td>\n",
              "      <td>35000</td>\n",
              "      <td>21.99%</td>\n",
              "      <td>7019.0</td>\n",
              "      <td>NaN</td>\n",
              "      <td>NaN</td>\n",
              "      <td>148.0</td>\n",
              "      <td>170.0</td>\n",
              "      <td>...</td>\n",
              "      <td>2.0</td>\n",
              "      <td>12.0</td>\n",
              "      <td>0.0</td>\n",
              "      <td>1.0</td>\n",
              "      <td>13</td>\n",
              "      <td>87.5</td>\n",
              "      <td>0</td>\n",
              "      <td>24</td>\n",
              "      <td>84227.0</td>\n",
              "      <td>Fully Paid</td>\n",
              "    </tr>\n",
              "    <tr>\n",
              "      <th>2</th>\n",
              "      <td>54333324</td>\n",
              "      <td>120000.0</td>\n",
              "      <td>806.57</td>\n",
              "      <td>25000</td>\n",
              "      <td>9.99%</td>\n",
              "      <td>4891.0</td>\n",
              "      <td>NaN</td>\n",
              "      <td>NaN</td>\n",
              "      <td>128.0</td>\n",
              "      <td>147.0</td>\n",
              "      <td>...</td>\n",
              "      <td>2.0</td>\n",
              "      <td>7.0</td>\n",
              "      <td>0.0</td>\n",
              "      <td>1.0</td>\n",
              "      <td>8</td>\n",
              "      <td>100.0</td>\n",
              "      <td>0</td>\n",
              "      <td>16</td>\n",
              "      <td>39124.0</td>\n",
              "      <td>Fully Paid</td>\n",
              "    </tr>\n",
              "    <tr>\n",
              "      <th>3</th>\n",
              "      <td>62247022</td>\n",
              "      <td>130000.0</td>\n",
              "      <td>846.17</td>\n",
              "      <td>25225</td>\n",
              "      <td>12.69%</td>\n",
              "      <td>17619.0</td>\n",
              "      <td>NaN</td>\n",
              "      <td>NaN</td>\n",
              "      <td>130.0</td>\n",
              "      <td>172.0</td>\n",
              "      <td>...</td>\n",
              "      <td>9.0</td>\n",
              "      <td>3.0</td>\n",
              "      <td>0.0</td>\n",
              "      <td>2.0</td>\n",
              "      <td>8</td>\n",
              "      <td>50.0</td>\n",
              "      <td>0</td>\n",
              "      <td>24</td>\n",
              "      <td>123331.0</td>\n",
              "      <td>Fully Paid</td>\n",
              "    </tr>\n",
              "    <tr>\n",
              "      <th>4</th>\n",
              "      <td>71986114</td>\n",
              "      <td>58296.0</td>\n",
              "      <td>41.79</td>\n",
              "      <td>1200</td>\n",
              "      <td>15.31%</td>\n",
              "      <td>12321.0</td>\n",
              "      <td>1.0</td>\n",
              "      <td>10372.0</td>\n",
              "      <td>167.0</td>\n",
              "      <td>145.0</td>\n",
              "      <td>...</td>\n",
              "      <td>7.0</td>\n",
              "      <td>6.0</td>\n",
              "      <td>0.0</td>\n",
              "      <td>0.0</td>\n",
              "      <td>9</td>\n",
              "      <td>100.0</td>\n",
              "      <td>0</td>\n",
              "      <td>17</td>\n",
              "      <td>51794.0</td>\n",
              "      <td>Fully Paid</td>\n",
              "    </tr>\n",
              "    <tr>\n",
              "      <th>...</th>\n",
              "      <td>...</td>\n",
              "      <td>...</td>\n",
              "      <td>...</td>\n",
              "      <td>...</td>\n",
              "      <td>...</td>\n",
              "      <td>...</td>\n",
              "      <td>...</td>\n",
              "      <td>...</td>\n",
              "      <td>...</td>\n",
              "      <td>...</td>\n",
              "      <td>...</td>\n",
              "      <td>...</td>\n",
              "      <td>...</td>\n",
              "      <td>...</td>\n",
              "      <td>...</td>\n",
              "      <td>...</td>\n",
              "      <td>...</td>\n",
              "      <td>...</td>\n",
              "      <td>...</td>\n",
              "      <td>...</td>\n",
              "      <td>...</td>\n",
              "    </tr>\n",
              "    <tr>\n",
              "      <th>18319</th>\n",
              "      <td>67809746</td>\n",
              "      <td>300000.0</td>\n",
              "      <td>164.22</td>\n",
              "      <td>5000</td>\n",
              "      <td>11.22%</td>\n",
              "      <td>67491.0</td>\n",
              "      <td>0.0</td>\n",
              "      <td>23081.0</td>\n",
              "      <td>127.0</td>\n",
              "      <td>200.0</td>\n",
              "      <td>...</td>\n",
              "      <td>22.0</td>\n",
              "      <td>8.0</td>\n",
              "      <td>0.0</td>\n",
              "      <td>3.0</td>\n",
              "      <td>15</td>\n",
              "      <td>83.3</td>\n",
              "      <td>0</td>\n",
              "      <td>46</td>\n",
              "      <td>319418.0</td>\n",
              "      <td>Fully Paid</td>\n",
              "    </tr>\n",
              "    <tr>\n",
              "      <th>18320</th>\n",
              "      <td>66360297</td>\n",
              "      <td>120000.0</td>\n",
              "      <td>455.96</td>\n",
              "      <td>14000</td>\n",
              "      <td>10.64%</td>\n",
              "      <td>15445.0</td>\n",
              "      <td>NaN</td>\n",
              "      <td>NaN</td>\n",
              "      <td>208.0</td>\n",
              "      <td>145.0</td>\n",
              "      <td>...</td>\n",
              "      <td>22.0</td>\n",
              "      <td>9.0</td>\n",
              "      <td>0.0</td>\n",
              "      <td>4.0</td>\n",
              "      <td>22</td>\n",
              "      <td>25.0</td>\n",
              "      <td>0</td>\n",
              "      <td>38</td>\n",
              "      <td>63774.0</td>\n",
              "      <td>Fully Paid</td>\n",
              "    </tr>\n",
              "    <tr>\n",
              "      <th>18321</th>\n",
              "      <td>59699673</td>\n",
              "      <td>85000.0</td>\n",
              "      <td>390.36</td>\n",
              "      <td>11925</td>\n",
              "      <td>10.99%</td>\n",
              "      <td>21682.0</td>\n",
              "      <td>NaN</td>\n",
              "      <td>NaN</td>\n",
              "      <td>164.0</td>\n",
              "      <td>365.0</td>\n",
              "      <td>...</td>\n",
              "      <td>10.0</td>\n",
              "      <td>14.0</td>\n",
              "      <td>0.0</td>\n",
              "      <td>2.0</td>\n",
              "      <td>17</td>\n",
              "      <td>71.4</td>\n",
              "      <td>0</td>\n",
              "      <td>31</td>\n",
              "      <td>72686.0</td>\n",
              "      <td>Fully Paid</td>\n",
              "    </tr>\n",
              "    <tr>\n",
              "      <th>18322</th>\n",
              "      <td>83334760</td>\n",
              "      <td>22000.0</td>\n",
              "      <td>213.89</td>\n",
              "      <td>6000</td>\n",
              "      <td>16.99%</td>\n",
              "      <td>843.0</td>\n",
              "      <td>3.0</td>\n",
              "      <td>2539.0</td>\n",
              "      <td>99.0</td>\n",
              "      <td>130.0</td>\n",
              "      <td>...</td>\n",
              "      <td>1.0</td>\n",
              "      <td>6.0</td>\n",
              "      <td>0.0</td>\n",
              "      <td>0.0</td>\n",
              "      <td>6</td>\n",
              "      <td>66.7</td>\n",
              "      <td>0</td>\n",
              "      <td>13</td>\n",
              "      <td>5058.0</td>\n",
              "      <td>Fully Paid</td>\n",
              "    </tr>\n",
              "    <tr>\n",
              "      <th>18323</th>\n",
              "      <td>14939090</td>\n",
              "      <td>200000.0</td>\n",
              "      <td>572.29</td>\n",
              "      <td>21075</td>\n",
              "      <td>21.18%</td>\n",
              "      <td>7449.0</td>\n",
              "      <td>NaN</td>\n",
              "      <td>NaN</td>\n",
              "      <td>91.0</td>\n",
              "      <td>274.0</td>\n",
              "      <td>...</td>\n",
              "      <td>34.0</td>\n",
              "      <td>6.0</td>\n",
              "      <td>0.0</td>\n",
              "      <td>2.0</td>\n",
              "      <td>27</td>\n",
              "      <td>25.0</td>\n",
              "      <td>1</td>\n",
              "      <td>63</td>\n",
              "      <td>193674.0</td>\n",
              "      <td>Fully Paid</td>\n",
              "    </tr>\n",
              "  </tbody>\n",
              "</table>\n",
              "<p>18324 rows × 25 columns</p>\n",
              "</div>\n",
              "      <button class=\"colab-df-convert\" onclick=\"convertToInteractive('df-b2557ff8-eea9-49ce-87d9-a4fd35289763')\"\n",
              "              title=\"Convert this dataframe to an interactive table.\"\n",
              "              style=\"display:none;\">\n",
              "        \n",
              "  <svg xmlns=\"http://www.w3.org/2000/svg\" height=\"24px\"viewBox=\"0 0 24 24\"\n",
              "       width=\"24px\">\n",
              "    <path d=\"M0 0h24v24H0V0z\" fill=\"none\"/>\n",
              "    <path d=\"M18.56 5.44l.94 2.06.94-2.06 2.06-.94-2.06-.94-.94-2.06-.94 2.06-2.06.94zm-11 1L8.5 8.5l.94-2.06 2.06-.94-2.06-.94L8.5 2.5l-.94 2.06-2.06.94zm10 10l.94 2.06.94-2.06 2.06-.94-2.06-.94-.94-2.06-.94 2.06-2.06.94z\"/><path d=\"M17.41 7.96l-1.37-1.37c-.4-.4-.92-.59-1.43-.59-.52 0-1.04.2-1.43.59L10.3 9.45l-7.72 7.72c-.78.78-.78 2.05 0 2.83L4 21.41c.39.39.9.59 1.41.59.51 0 1.02-.2 1.41-.59l7.78-7.78 2.81-2.81c.8-.78.8-2.07 0-2.86zM5.41 20L4 18.59l7.72-7.72 1.47 1.35L5.41 20z\"/>\n",
              "  </svg>\n",
              "      </button>\n",
              "      \n",
              "  <style>\n",
              "    .colab-df-container {\n",
              "      display:flex;\n",
              "      flex-wrap:wrap;\n",
              "      gap: 12px;\n",
              "    }\n",
              "\n",
              "    .colab-df-convert {\n",
              "      background-color: #E8F0FE;\n",
              "      border: none;\n",
              "      border-radius: 50%;\n",
              "      cursor: pointer;\n",
              "      display: none;\n",
              "      fill: #1967D2;\n",
              "      height: 32px;\n",
              "      padding: 0 0 0 0;\n",
              "      width: 32px;\n",
              "    }\n",
              "\n",
              "    .colab-df-convert:hover {\n",
              "      background-color: #E2EBFA;\n",
              "      box-shadow: 0px 1px 2px rgba(60, 64, 67, 0.3), 0px 1px 3px 1px rgba(60, 64, 67, 0.15);\n",
              "      fill: #174EA6;\n",
              "    }\n",
              "\n",
              "    [theme=dark] .colab-df-convert {\n",
              "      background-color: #3B4455;\n",
              "      fill: #D2E3FC;\n",
              "    }\n",
              "\n",
              "    [theme=dark] .colab-df-convert:hover {\n",
              "      background-color: #434B5C;\n",
              "      box-shadow: 0px 1px 3px 1px rgba(0, 0, 0, 0.15);\n",
              "      filter: drop-shadow(0px 1px 2px rgba(0, 0, 0, 0.3));\n",
              "      fill: #FFFFFF;\n",
              "    }\n",
              "  </style>\n",
              "\n",
              "      <script>\n",
              "        const buttonEl =\n",
              "          document.querySelector('#df-b2557ff8-eea9-49ce-87d9-a4fd35289763 button.colab-df-convert');\n",
              "        buttonEl.style.display =\n",
              "          google.colab.kernel.accessAllowed ? 'block' : 'none';\n",
              "\n",
              "        async function convertToInteractive(key) {\n",
              "          const element = document.querySelector('#df-b2557ff8-eea9-49ce-87d9-a4fd35289763');\n",
              "          const dataTable =\n",
              "            await google.colab.kernel.invokeFunction('convertToInteractive',\n",
              "                                                     [key], {});\n",
              "          if (!dataTable) return;\n",
              "\n",
              "          const docLinkHtml = 'Like what you see? Visit the ' +\n",
              "            '<a target=\"_blank\" href=https://colab.research.google.com/notebooks/data_table.ipynb>data table notebook</a>'\n",
              "            + ' to learn more about interactive tables.';\n",
              "          element.innerHTML = '';\n",
              "          dataTable['output_type'] = 'display_data';\n",
              "          await google.colab.output.renderOutput(dataTable, element);\n",
              "          const docLink = document.createElement('div');\n",
              "          docLink.innerHTML = docLinkHtml;\n",
              "          element.appendChild(docLink);\n",
              "        }\n",
              "      </script>\n",
              "    </div>\n",
              "  </div>\n",
              "  "
            ]
          },
          "metadata": {},
          "execution_count": 6
        }
      ]
    },
    {
      "cell_type": "markdown",
      "source": [
        "### comprehensive solution for missing & imbalanced data. data shape: (7812, 24)\n",
        "\n",
        "creatively and comprehensively solve the problem of missing data and imbalanced data at the same time.\n",
        "\n",
        "delete enough missing data in the majority class so that it has the same amount of data with the minority class.\n",
        "\n",
        "Finally, fill the rest of the missing values with 0."
      ],
      "metadata": {
        "id": "VTJdaO2HE9Qb"
      }
    },
    {
      "cell_type": "code",
      "source": [
        "x = 14111\n",
        "df_num[df_num['loan_status'] == 'Fully Paid'][:x].dropna().append(df_num[df_num['loan_status'] == 'Fully Paid'][x:]).shape"
      ],
      "metadata": {
        "id": "VQ-Hk1KFFF0u",
        "outputId": "5a99c39e-7d9d-4ca5-b51e-84c05550b7ab",
        "colab": {
          "base_uri": "https://localhost:8080/"
        }
      },
      "execution_count": null,
      "outputs": [
        {
          "output_type": "execute_result",
          "data": {
            "text/plain": [
              "(3906, 25)"
            ]
          },
          "metadata": {},
          "execution_count": 7
        }
      ]
    },
    {
      "cell_type": "code",
      "source": [
        "df_repay = df_num[df_num['loan_status'] == 'Fully Paid'][:x].dropna().append(df_num[df_num['loan_status'] == 'Fully Paid'][x:])\n",
        "df_repay.shape"
      ],
      "metadata": {
        "id": "930P-_tvJT6r",
        "outputId": "7075b696-8726-48b8-fc5f-95a2be043c0f",
        "colab": {
          "base_uri": "https://localhost:8080/"
        }
      },
      "execution_count": null,
      "outputs": [
        {
          "output_type": "execute_result",
          "data": {
            "text/plain": [
              "(3906, 25)"
            ]
          },
          "metadata": {},
          "execution_count": 8
        }
      ]
    },
    {
      "cell_type": "code",
      "source": [
        "df_repay = df_repay.fillna(0)\n",
        "df_repay"
      ],
      "metadata": {
        "id": "eHs4fXoDJ58c",
        "outputId": "63712099-d667-4bd3-d14e-02e65e4024d8",
        "colab": {
          "base_uri": "https://localhost:8080/"
        }
      },
      "execution_count": null,
      "outputs": [
        {
          "output_type": "execute_result",
          "data": {
            "text/plain": [
              "              id  annual_inc  installment  loan_amnt int_rate  avg_cur_bal  \\\n",
              "10      96352348     81000.0       503.16      16000    8.24%      12658.0   \n",
              "13     113009795     53100.0       162.73       4900   11.99%       3150.0   \n",
              "15     130793408    120000.0       578.62      19000    6.07%      30956.0   \n",
              "17      71955425     60000.0       170.09       5000   13.67%       2837.0   \n",
              "20     115148149    195000.0       389.58      12000   10.42%       4006.0   \n",
              "...          ...         ...          ...        ...      ...          ...   \n",
              "18319   67809746    300000.0       164.22       5000   11.22%      67491.0   \n",
              "18320   66360297    120000.0       455.96      14000   10.64%      15445.0   \n",
              "18321   59699673     85000.0       390.36      11925   10.99%      21682.0   \n",
              "18322   83334760     22000.0       213.89       6000   16.99%        843.0   \n",
              "18323   14939090    200000.0       572.29      21075   21.18%       7449.0   \n",
              "\n",
              "       inq_last_12m  max_bal_bc  mo_sin_old_il_acct  mo_sin_old_rev_tl_op  \\\n",
              "10              4.0     12203.0               207.0                 202.0   \n",
              "13              2.0      1990.0                81.0                  66.0   \n",
              "15              3.0      6440.0               162.0                 268.0   \n",
              "17              4.0      1040.0               108.0                 156.0   \n",
              "20              2.0     10639.0               142.0                 384.0   \n",
              "...             ...         ...                 ...                   ...   \n",
              "18319           0.0     23081.0               127.0                 200.0   \n",
              "18320           0.0         0.0               208.0                 145.0   \n",
              "18321           0.0         0.0               164.0                 365.0   \n",
              "18322           3.0      2539.0                99.0                 130.0   \n",
              "18323           0.0         0.0                91.0                 274.0   \n",
              "\n",
              "       ...  num_il_tl  num_op_rev_tl  num_tl_90g_dpd_24m  num_tl_op_past_12m  \\\n",
              "10     ...       36.0           11.0                 0.0                 2.0   \n",
              "13     ...       16.0            5.0                 0.0                 6.0   \n",
              "15     ...       13.0            6.0                 0.0                 1.0   \n",
              "17     ...       11.0            5.0                 2.0                 3.0   \n",
              "20     ...        7.0           10.0                 0.0                 2.0   \n",
              "...    ...        ...            ...                 ...                 ...   \n",
              "18319  ...       22.0            8.0                 0.0                 3.0   \n",
              "18320  ...       22.0            9.0                 0.0                 4.0   \n",
              "18321  ...       10.0           14.0                 0.0                 2.0   \n",
              "18322  ...        1.0            6.0                 0.0                 0.0   \n",
              "18323  ...       34.0            6.0                 0.0                 2.0   \n",
              "\n",
              "       open_acc  percent_bc_gt_75  pub_rec_bankruptcies  total_acc  \\\n",
              "10           18              71.4                     0         66   \n",
              "13           20             100.0                     0         22   \n",
              "15           13               0.0                     0         32   \n",
              "17            7              50.0                     0         30   \n",
              "20           11               0.0                     0         30   \n",
              "...         ...               ...                   ...        ...   \n",
              "18319        15              83.3                     0         46   \n",
              "18320        22              25.0                     0         38   \n",
              "18321        17              71.4                     0         31   \n",
              "18322         6              66.7                     0         13   \n",
              "18323        27              25.0                     1         63   \n",
              "\n",
              "       total_bal_ex_mort  loan_status  \n",
              "10              131604.0   Fully Paid  \n",
              "13               62991.0   Fully Paid  \n",
              "15               70490.0   Fully Paid  \n",
              "17               19861.0   Fully Paid  \n",
              "20               40057.0   Fully Paid  \n",
              "...                  ...          ...  \n",
              "18319           319418.0   Fully Paid  \n",
              "18320            63774.0   Fully Paid  \n",
              "18321            72686.0   Fully Paid  \n",
              "18322             5058.0   Fully Paid  \n",
              "18323           193674.0   Fully Paid  \n",
              "\n",
              "[3906 rows x 25 columns]"
            ],
            "text/html": [
              "\n",
              "  <div id=\"df-e1ab58e7-a580-4634-8eb7-441bad24c301\">\n",
              "    <div class=\"colab-df-container\">\n",
              "      <div>\n",
              "<style scoped>\n",
              "    .dataframe tbody tr th:only-of-type {\n",
              "        vertical-align: middle;\n",
              "    }\n",
              "\n",
              "    .dataframe tbody tr th {\n",
              "        vertical-align: top;\n",
              "    }\n",
              "\n",
              "    .dataframe thead th {\n",
              "        text-align: right;\n",
              "    }\n",
              "</style>\n",
              "<table border=\"1\" class=\"dataframe\">\n",
              "  <thead>\n",
              "    <tr style=\"text-align: right;\">\n",
              "      <th></th>\n",
              "      <th>id</th>\n",
              "      <th>annual_inc</th>\n",
              "      <th>installment</th>\n",
              "      <th>loan_amnt</th>\n",
              "      <th>int_rate</th>\n",
              "      <th>avg_cur_bal</th>\n",
              "      <th>inq_last_12m</th>\n",
              "      <th>max_bal_bc</th>\n",
              "      <th>mo_sin_old_il_acct</th>\n",
              "      <th>mo_sin_old_rev_tl_op</th>\n",
              "      <th>...</th>\n",
              "      <th>num_il_tl</th>\n",
              "      <th>num_op_rev_tl</th>\n",
              "      <th>num_tl_90g_dpd_24m</th>\n",
              "      <th>num_tl_op_past_12m</th>\n",
              "      <th>open_acc</th>\n",
              "      <th>percent_bc_gt_75</th>\n",
              "      <th>pub_rec_bankruptcies</th>\n",
              "      <th>total_acc</th>\n",
              "      <th>total_bal_ex_mort</th>\n",
              "      <th>loan_status</th>\n",
              "    </tr>\n",
              "  </thead>\n",
              "  <tbody>\n",
              "    <tr>\n",
              "      <th>10</th>\n",
              "      <td>96352348</td>\n",
              "      <td>81000.0</td>\n",
              "      <td>503.16</td>\n",
              "      <td>16000</td>\n",
              "      <td>8.24%</td>\n",
              "      <td>12658.0</td>\n",
              "      <td>4.0</td>\n",
              "      <td>12203.0</td>\n",
              "      <td>207.0</td>\n",
              "      <td>202.0</td>\n",
              "      <td>...</td>\n",
              "      <td>36.0</td>\n",
              "      <td>11.0</td>\n",
              "      <td>0.0</td>\n",
              "      <td>2.0</td>\n",
              "      <td>18</td>\n",
              "      <td>71.4</td>\n",
              "      <td>0</td>\n",
              "      <td>66</td>\n",
              "      <td>131604.0</td>\n",
              "      <td>Fully Paid</td>\n",
              "    </tr>\n",
              "    <tr>\n",
              "      <th>13</th>\n",
              "      <td>113009795</td>\n",
              "      <td>53100.0</td>\n",
              "      <td>162.73</td>\n",
              "      <td>4900</td>\n",
              "      <td>11.99%</td>\n",
              "      <td>3150.0</td>\n",
              "      <td>2.0</td>\n",
              "      <td>1990.0</td>\n",
              "      <td>81.0</td>\n",
              "      <td>66.0</td>\n",
              "      <td>...</td>\n",
              "      <td>16.0</td>\n",
              "      <td>5.0</td>\n",
              "      <td>0.0</td>\n",
              "      <td>6.0</td>\n",
              "      <td>20</td>\n",
              "      <td>100.0</td>\n",
              "      <td>0</td>\n",
              "      <td>22</td>\n",
              "      <td>62991.0</td>\n",
              "      <td>Fully Paid</td>\n",
              "    </tr>\n",
              "    <tr>\n",
              "      <th>15</th>\n",
              "      <td>130793408</td>\n",
              "      <td>120000.0</td>\n",
              "      <td>578.62</td>\n",
              "      <td>19000</td>\n",
              "      <td>6.07%</td>\n",
              "      <td>30956.0</td>\n",
              "      <td>3.0</td>\n",
              "      <td>6440.0</td>\n",
              "      <td>162.0</td>\n",
              "      <td>268.0</td>\n",
              "      <td>...</td>\n",
              "      <td>13.0</td>\n",
              "      <td>6.0</td>\n",
              "      <td>0.0</td>\n",
              "      <td>1.0</td>\n",
              "      <td>13</td>\n",
              "      <td>0.0</td>\n",
              "      <td>0</td>\n",
              "      <td>32</td>\n",
              "      <td>70490.0</td>\n",
              "      <td>Fully Paid</td>\n",
              "    </tr>\n",
              "    <tr>\n",
              "      <th>17</th>\n",
              "      <td>71955425</td>\n",
              "      <td>60000.0</td>\n",
              "      <td>170.09</td>\n",
              "      <td>5000</td>\n",
              "      <td>13.67%</td>\n",
              "      <td>2837.0</td>\n",
              "      <td>4.0</td>\n",
              "      <td>1040.0</td>\n",
              "      <td>108.0</td>\n",
              "      <td>156.0</td>\n",
              "      <td>...</td>\n",
              "      <td>11.0</td>\n",
              "      <td>5.0</td>\n",
              "      <td>2.0</td>\n",
              "      <td>3.0</td>\n",
              "      <td>7</td>\n",
              "      <td>50.0</td>\n",
              "      <td>0</td>\n",
              "      <td>30</td>\n",
              "      <td>19861.0</td>\n",
              "      <td>Fully Paid</td>\n",
              "    </tr>\n",
              "    <tr>\n",
              "      <th>20</th>\n",
              "      <td>115148149</td>\n",
              "      <td>195000.0</td>\n",
              "      <td>389.58</td>\n",
              "      <td>12000</td>\n",
              "      <td>10.42%</td>\n",
              "      <td>4006.0</td>\n",
              "      <td>2.0</td>\n",
              "      <td>10639.0</td>\n",
              "      <td>142.0</td>\n",
              "      <td>384.0</td>\n",
              "      <td>...</td>\n",
              "      <td>7.0</td>\n",
              "      <td>10.0</td>\n",
              "      <td>0.0</td>\n",
              "      <td>2.0</td>\n",
              "      <td>11</td>\n",
              "      <td>0.0</td>\n",
              "      <td>0</td>\n",
              "      <td>30</td>\n",
              "      <td>40057.0</td>\n",
              "      <td>Fully Paid</td>\n",
              "    </tr>\n",
              "    <tr>\n",
              "      <th>...</th>\n",
              "      <td>...</td>\n",
              "      <td>...</td>\n",
              "      <td>...</td>\n",
              "      <td>...</td>\n",
              "      <td>...</td>\n",
              "      <td>...</td>\n",
              "      <td>...</td>\n",
              "      <td>...</td>\n",
              "      <td>...</td>\n",
              "      <td>...</td>\n",
              "      <td>...</td>\n",
              "      <td>...</td>\n",
              "      <td>...</td>\n",
              "      <td>...</td>\n",
              "      <td>...</td>\n",
              "      <td>...</td>\n",
              "      <td>...</td>\n",
              "      <td>...</td>\n",
              "      <td>...</td>\n",
              "      <td>...</td>\n",
              "      <td>...</td>\n",
              "    </tr>\n",
              "    <tr>\n",
              "      <th>18319</th>\n",
              "      <td>67809746</td>\n",
              "      <td>300000.0</td>\n",
              "      <td>164.22</td>\n",
              "      <td>5000</td>\n",
              "      <td>11.22%</td>\n",
              "      <td>67491.0</td>\n",
              "      <td>0.0</td>\n",
              "      <td>23081.0</td>\n",
              "      <td>127.0</td>\n",
              "      <td>200.0</td>\n",
              "      <td>...</td>\n",
              "      <td>22.0</td>\n",
              "      <td>8.0</td>\n",
              "      <td>0.0</td>\n",
              "      <td>3.0</td>\n",
              "      <td>15</td>\n",
              "      <td>83.3</td>\n",
              "      <td>0</td>\n",
              "      <td>46</td>\n",
              "      <td>319418.0</td>\n",
              "      <td>Fully Paid</td>\n",
              "    </tr>\n",
              "    <tr>\n",
              "      <th>18320</th>\n",
              "      <td>66360297</td>\n",
              "      <td>120000.0</td>\n",
              "      <td>455.96</td>\n",
              "      <td>14000</td>\n",
              "      <td>10.64%</td>\n",
              "      <td>15445.0</td>\n",
              "      <td>0.0</td>\n",
              "      <td>0.0</td>\n",
              "      <td>208.0</td>\n",
              "      <td>145.0</td>\n",
              "      <td>...</td>\n",
              "      <td>22.0</td>\n",
              "      <td>9.0</td>\n",
              "      <td>0.0</td>\n",
              "      <td>4.0</td>\n",
              "      <td>22</td>\n",
              "      <td>25.0</td>\n",
              "      <td>0</td>\n",
              "      <td>38</td>\n",
              "      <td>63774.0</td>\n",
              "      <td>Fully Paid</td>\n",
              "    </tr>\n",
              "    <tr>\n",
              "      <th>18321</th>\n",
              "      <td>59699673</td>\n",
              "      <td>85000.0</td>\n",
              "      <td>390.36</td>\n",
              "      <td>11925</td>\n",
              "      <td>10.99%</td>\n",
              "      <td>21682.0</td>\n",
              "      <td>0.0</td>\n",
              "      <td>0.0</td>\n",
              "      <td>164.0</td>\n",
              "      <td>365.0</td>\n",
              "      <td>...</td>\n",
              "      <td>10.0</td>\n",
              "      <td>14.0</td>\n",
              "      <td>0.0</td>\n",
              "      <td>2.0</td>\n",
              "      <td>17</td>\n",
              "      <td>71.4</td>\n",
              "      <td>0</td>\n",
              "      <td>31</td>\n",
              "      <td>72686.0</td>\n",
              "      <td>Fully Paid</td>\n",
              "    </tr>\n",
              "    <tr>\n",
              "      <th>18322</th>\n",
              "      <td>83334760</td>\n",
              "      <td>22000.0</td>\n",
              "      <td>213.89</td>\n",
              "      <td>6000</td>\n",
              "      <td>16.99%</td>\n",
              "      <td>843.0</td>\n",
              "      <td>3.0</td>\n",
              "      <td>2539.0</td>\n",
              "      <td>99.0</td>\n",
              "      <td>130.0</td>\n",
              "      <td>...</td>\n",
              "      <td>1.0</td>\n",
              "      <td>6.0</td>\n",
              "      <td>0.0</td>\n",
              "      <td>0.0</td>\n",
              "      <td>6</td>\n",
              "      <td>66.7</td>\n",
              "      <td>0</td>\n",
              "      <td>13</td>\n",
              "      <td>5058.0</td>\n",
              "      <td>Fully Paid</td>\n",
              "    </tr>\n",
              "    <tr>\n",
              "      <th>18323</th>\n",
              "      <td>14939090</td>\n",
              "      <td>200000.0</td>\n",
              "      <td>572.29</td>\n",
              "      <td>21075</td>\n",
              "      <td>21.18%</td>\n",
              "      <td>7449.0</td>\n",
              "      <td>0.0</td>\n",
              "      <td>0.0</td>\n",
              "      <td>91.0</td>\n",
              "      <td>274.0</td>\n",
              "      <td>...</td>\n",
              "      <td>34.0</td>\n",
              "      <td>6.0</td>\n",
              "      <td>0.0</td>\n",
              "      <td>2.0</td>\n",
              "      <td>27</td>\n",
              "      <td>25.0</td>\n",
              "      <td>1</td>\n",
              "      <td>63</td>\n",
              "      <td>193674.0</td>\n",
              "      <td>Fully Paid</td>\n",
              "    </tr>\n",
              "  </tbody>\n",
              "</table>\n",
              "<p>3906 rows × 25 columns</p>\n",
              "</div>\n",
              "      <button class=\"colab-df-convert\" onclick=\"convertToInteractive('df-e1ab58e7-a580-4634-8eb7-441bad24c301')\"\n",
              "              title=\"Convert this dataframe to an interactive table.\"\n",
              "              style=\"display:none;\">\n",
              "        \n",
              "  <svg xmlns=\"http://www.w3.org/2000/svg\" height=\"24px\"viewBox=\"0 0 24 24\"\n",
              "       width=\"24px\">\n",
              "    <path d=\"M0 0h24v24H0V0z\" fill=\"none\"/>\n",
              "    <path d=\"M18.56 5.44l.94 2.06.94-2.06 2.06-.94-2.06-.94-.94-2.06-.94 2.06-2.06.94zm-11 1L8.5 8.5l.94-2.06 2.06-.94-2.06-.94L8.5 2.5l-.94 2.06-2.06.94zm10 10l.94 2.06.94-2.06 2.06-.94-2.06-.94-.94-2.06-.94 2.06-2.06.94z\"/><path d=\"M17.41 7.96l-1.37-1.37c-.4-.4-.92-.59-1.43-.59-.52 0-1.04.2-1.43.59L10.3 9.45l-7.72 7.72c-.78.78-.78 2.05 0 2.83L4 21.41c.39.39.9.59 1.41.59.51 0 1.02-.2 1.41-.59l7.78-7.78 2.81-2.81c.8-.78.8-2.07 0-2.86zM5.41 20L4 18.59l7.72-7.72 1.47 1.35L5.41 20z\"/>\n",
              "  </svg>\n",
              "      </button>\n",
              "      \n",
              "  <style>\n",
              "    .colab-df-container {\n",
              "      display:flex;\n",
              "      flex-wrap:wrap;\n",
              "      gap: 12px;\n",
              "    }\n",
              "\n",
              "    .colab-df-convert {\n",
              "      background-color: #E8F0FE;\n",
              "      border: none;\n",
              "      border-radius: 50%;\n",
              "      cursor: pointer;\n",
              "      display: none;\n",
              "      fill: #1967D2;\n",
              "      height: 32px;\n",
              "      padding: 0 0 0 0;\n",
              "      width: 32px;\n",
              "    }\n",
              "\n",
              "    .colab-df-convert:hover {\n",
              "      background-color: #E2EBFA;\n",
              "      box-shadow: 0px 1px 2px rgba(60, 64, 67, 0.3), 0px 1px 3px 1px rgba(60, 64, 67, 0.15);\n",
              "      fill: #174EA6;\n",
              "    }\n",
              "\n",
              "    [theme=dark] .colab-df-convert {\n",
              "      background-color: #3B4455;\n",
              "      fill: #D2E3FC;\n",
              "    }\n",
              "\n",
              "    [theme=dark] .colab-df-convert:hover {\n",
              "      background-color: #434B5C;\n",
              "      box-shadow: 0px 1px 3px 1px rgba(0, 0, 0, 0.15);\n",
              "      filter: drop-shadow(0px 1px 2px rgba(0, 0, 0, 0.3));\n",
              "      fill: #FFFFFF;\n",
              "    }\n",
              "  </style>\n",
              "\n",
              "      <script>\n",
              "        const buttonEl =\n",
              "          document.querySelector('#df-e1ab58e7-a580-4634-8eb7-441bad24c301 button.colab-df-convert');\n",
              "        buttonEl.style.display =\n",
              "          google.colab.kernel.accessAllowed ? 'block' : 'none';\n",
              "\n",
              "        async function convertToInteractive(key) {\n",
              "          const element = document.querySelector('#df-e1ab58e7-a580-4634-8eb7-441bad24c301');\n",
              "          const dataTable =\n",
              "            await google.colab.kernel.invokeFunction('convertToInteractive',\n",
              "                                                     [key], {});\n",
              "          if (!dataTable) return;\n",
              "\n",
              "          const docLinkHtml = 'Like what you see? Visit the ' +\n",
              "            '<a target=\"_blank\" href=https://colab.research.google.com/notebooks/data_table.ipynb>data table notebook</a>'\n",
              "            + ' to learn more about interactive tables.';\n",
              "          element.innerHTML = '';\n",
              "          dataTable['output_type'] = 'display_data';\n",
              "          await google.colab.output.renderOutput(dataTable, element);\n",
              "          const docLink = document.createElement('div');\n",
              "          docLink.innerHTML = docLinkHtml;\n",
              "          element.appendChild(docLink);\n",
              "        }\n",
              "      </script>\n",
              "    </div>\n",
              "  </div>\n",
              "  "
            ]
          },
          "metadata": {},
          "execution_count": 9
        }
      ]
    },
    {
      "cell_type": "code",
      "source": [
        "df_num[df_num['loan_status'] != 'Fully Paid'].shape"
      ],
      "metadata": {
        "id": "YVbECudgF5yE",
        "outputId": "2738c7c9-55b7-4f5c-8cb0-42e4291694e5",
        "colab": {
          "base_uri": "https://localhost:8080/"
        }
      },
      "execution_count": null,
      "outputs": [
        {
          "output_type": "execute_result",
          "data": {
            "text/plain": [
              "(3906, 25)"
            ]
          },
          "metadata": {},
          "execution_count": 10
        }
      ]
    },
    {
      "cell_type": "code",
      "source": [
        "df_default = df_num[df_num['loan_status'] != 'Fully Paid'].fillna(0)\n",
        "df_default.shape"
      ],
      "metadata": {
        "id": "lNNE1h5DKESo",
        "outputId": "27236081-9cdf-4739-b83b-a72c17be04a7",
        "colab": {
          "base_uri": "https://localhost:8080/"
        }
      },
      "execution_count": null,
      "outputs": [
        {
          "output_type": "execute_result",
          "data": {
            "text/plain": [
              "(3906, 25)"
            ]
          },
          "metadata": {},
          "execution_count": 11
        }
      ]
    },
    {
      "cell_type": "code",
      "source": [
        "df_default"
      ],
      "metadata": {
        "id": "tQ2cydecKJum",
        "outputId": "295bdc1d-74c6-4849-97fa-44821fd1ea58",
        "colab": {
          "base_uri": "https://localhost:8080/"
        }
      },
      "execution_count": null,
      "outputs": [
        {
          "output_type": "execute_result",
          "data": {
            "text/plain": [
              "              id  annual_inc  installment  loan_amnt int_rate  avg_cur_bal  \\\n",
              "5       46733394     87000.0       629.47      24000   19.52%       5896.0   \n",
              "16      56102664     60000.0        69.93       2000   15.61%       2301.0   \n",
              "19       9154741     11424.0       114.59       3250   16.20%        587.0   \n",
              "23     134730577    116000.0       544.19      25000   11.05%       9456.0   \n",
              "27      45354936    110000.0       496.83      22575   11.53%       4190.0   \n",
              "...          ...         ...          ...        ...      ...          ...   \n",
              "18302   44142669     30600.0       301.07      10975   21.67%       3170.0   \n",
              "18308   15450139     98500.0       205.54       6000   14.16%       6981.0   \n",
              "18309   85590438     72000.0       551.89      13975   24.49%      17302.0   \n",
              "18313   42504811     85000.0       659.81      20000   11.53%      14367.0   \n",
              "18316  134213838     32000.0       495.61      18000   21.85%       2911.0   \n",
              "\n",
              "       inq_last_12m  max_bal_bc  mo_sin_old_il_acct  mo_sin_old_rev_tl_op  \\\n",
              "5               0.0         0.0               354.0                 100.0   \n",
              "16              0.0         0.0               125.0                 234.0   \n",
              "19              0.0         0.0                67.0                  74.0   \n",
              "23              7.0     23162.0               197.0                 151.0   \n",
              "27              0.0         0.0               183.0                 167.0   \n",
              "...             ...         ...                 ...                   ...   \n",
              "18302           0.0         0.0                83.0                  80.0   \n",
              "18308           0.0         0.0               258.0                 119.0   \n",
              "18309           5.0       633.0                81.0                  69.0   \n",
              "18313           0.0         0.0               108.0                 108.0   \n",
              "18316           0.0      7807.0                63.0                 260.0   \n",
              "\n",
              "       ...  num_il_tl  num_op_rev_tl  num_tl_90g_dpd_24m  num_tl_op_past_12m  \\\n",
              "5      ...       12.0           19.0                 0.0                 6.0   \n",
              "16     ...       10.0           18.0                 0.0                10.0   \n",
              "19     ...        3.0           11.0                 0.0                 2.0   \n",
              "23     ...       15.0           20.0                 0.0                 1.0   \n",
              "27     ...       33.0            8.0                 0.0                 1.0   \n",
              "...    ...        ...            ...                 ...                 ...   \n",
              "18302  ...        5.0            9.0                 0.0                 1.0   \n",
              "18308  ...        3.0            5.0                 0.0                 1.0   \n",
              "18309  ...        7.0            6.0                 0.0                 6.0   \n",
              "18313  ...       13.0            6.0                 0.0                 2.0   \n",
              "18316  ...        3.0            7.0                 0.0                 0.0   \n",
              "\n",
              "       open_acc  percent_bc_gt_75  pub_rec_bankruptcies  total_acc  \\\n",
              "5            24              77.8                     0         42   \n",
              "16           20              20.0                     1         46   \n",
              "19           11              20.0                     0         18   \n",
              "23           22              30.8                     0         47   \n",
              "27           22             100.0                     0         51   \n",
              "...         ...               ...                   ...        ...   \n",
              "18302        11              50.0                     0         15   \n",
              "18308         7             100.0                     0         21   \n",
              "18309        10              33.3                     0         16   \n",
              "18313        12              25.0                     0         30   \n",
              "18316         8              80.0                     0         12   \n",
              "\n",
              "       total_bal_ex_mort  loan_status  \n",
              "5                50912.0  Charged Off  \n",
              "16               41412.0  Charged Off  \n",
              "19                6454.0  Charged Off  \n",
              "23              114922.0  Charged Off  \n",
              "27               92188.0  Charged Off  \n",
              "...                  ...          ...  \n",
              "18302            31697.0  Charged Off  \n",
              "18308            48866.0  Charged Off  \n",
              "18309            36693.0  Charged Off  \n",
              "18313            43072.0  Charged Off  \n",
              "18316            20380.0  Charged Off  \n",
              "\n",
              "[3906 rows x 25 columns]"
            ],
            "text/html": [
              "\n",
              "  <div id=\"df-ef4fdd09-52c0-4f0c-8b96-4fcc0158de26\">\n",
              "    <div class=\"colab-df-container\">\n",
              "      <div>\n",
              "<style scoped>\n",
              "    .dataframe tbody tr th:only-of-type {\n",
              "        vertical-align: middle;\n",
              "    }\n",
              "\n",
              "    .dataframe tbody tr th {\n",
              "        vertical-align: top;\n",
              "    }\n",
              "\n",
              "    .dataframe thead th {\n",
              "        text-align: right;\n",
              "    }\n",
              "</style>\n",
              "<table border=\"1\" class=\"dataframe\">\n",
              "  <thead>\n",
              "    <tr style=\"text-align: right;\">\n",
              "      <th></th>\n",
              "      <th>id</th>\n",
              "      <th>annual_inc</th>\n",
              "      <th>installment</th>\n",
              "      <th>loan_amnt</th>\n",
              "      <th>int_rate</th>\n",
              "      <th>avg_cur_bal</th>\n",
              "      <th>inq_last_12m</th>\n",
              "      <th>max_bal_bc</th>\n",
              "      <th>mo_sin_old_il_acct</th>\n",
              "      <th>mo_sin_old_rev_tl_op</th>\n",
              "      <th>...</th>\n",
              "      <th>num_il_tl</th>\n",
              "      <th>num_op_rev_tl</th>\n",
              "      <th>num_tl_90g_dpd_24m</th>\n",
              "      <th>num_tl_op_past_12m</th>\n",
              "      <th>open_acc</th>\n",
              "      <th>percent_bc_gt_75</th>\n",
              "      <th>pub_rec_bankruptcies</th>\n",
              "      <th>total_acc</th>\n",
              "      <th>total_bal_ex_mort</th>\n",
              "      <th>loan_status</th>\n",
              "    </tr>\n",
              "  </thead>\n",
              "  <tbody>\n",
              "    <tr>\n",
              "      <th>5</th>\n",
              "      <td>46733394</td>\n",
              "      <td>87000.0</td>\n",
              "      <td>629.47</td>\n",
              "      <td>24000</td>\n",
              "      <td>19.52%</td>\n",
              "      <td>5896.0</td>\n",
              "      <td>0.0</td>\n",
              "      <td>0.0</td>\n",
              "      <td>354.0</td>\n",
              "      <td>100.0</td>\n",
              "      <td>...</td>\n",
              "      <td>12.0</td>\n",
              "      <td>19.0</td>\n",
              "      <td>0.0</td>\n",
              "      <td>6.0</td>\n",
              "      <td>24</td>\n",
              "      <td>77.8</td>\n",
              "      <td>0</td>\n",
              "      <td>42</td>\n",
              "      <td>50912.0</td>\n",
              "      <td>Charged Off</td>\n",
              "    </tr>\n",
              "    <tr>\n",
              "      <th>16</th>\n",
              "      <td>56102664</td>\n",
              "      <td>60000.0</td>\n",
              "      <td>69.93</td>\n",
              "      <td>2000</td>\n",
              "      <td>15.61%</td>\n",
              "      <td>2301.0</td>\n",
              "      <td>0.0</td>\n",
              "      <td>0.0</td>\n",
              "      <td>125.0</td>\n",
              "      <td>234.0</td>\n",
              "      <td>...</td>\n",
              "      <td>10.0</td>\n",
              "      <td>18.0</td>\n",
              "      <td>0.0</td>\n",
              "      <td>10.0</td>\n",
              "      <td>20</td>\n",
              "      <td>20.0</td>\n",
              "      <td>1</td>\n",
              "      <td>46</td>\n",
              "      <td>41412.0</td>\n",
              "      <td>Charged Off</td>\n",
              "    </tr>\n",
              "    <tr>\n",
              "      <th>19</th>\n",
              "      <td>9154741</td>\n",
              "      <td>11424.0</td>\n",
              "      <td>114.59</td>\n",
              "      <td>3250</td>\n",
              "      <td>16.20%</td>\n",
              "      <td>587.0</td>\n",
              "      <td>0.0</td>\n",
              "      <td>0.0</td>\n",
              "      <td>67.0</td>\n",
              "      <td>74.0</td>\n",
              "      <td>...</td>\n",
              "      <td>3.0</td>\n",
              "      <td>11.0</td>\n",
              "      <td>0.0</td>\n",
              "      <td>2.0</td>\n",
              "      <td>11</td>\n",
              "      <td>20.0</td>\n",
              "      <td>0</td>\n",
              "      <td>18</td>\n",
              "      <td>6454.0</td>\n",
              "      <td>Charged Off</td>\n",
              "    </tr>\n",
              "    <tr>\n",
              "      <th>23</th>\n",
              "      <td>134730577</td>\n",
              "      <td>116000.0</td>\n",
              "      <td>544.19</td>\n",
              "      <td>25000</td>\n",
              "      <td>11.05%</td>\n",
              "      <td>9456.0</td>\n",
              "      <td>7.0</td>\n",
              "      <td>23162.0</td>\n",
              "      <td>197.0</td>\n",
              "      <td>151.0</td>\n",
              "      <td>...</td>\n",
              "      <td>15.0</td>\n",
              "      <td>20.0</td>\n",
              "      <td>0.0</td>\n",
              "      <td>1.0</td>\n",
              "      <td>22</td>\n",
              "      <td>30.8</td>\n",
              "      <td>0</td>\n",
              "      <td>47</td>\n",
              "      <td>114922.0</td>\n",
              "      <td>Charged Off</td>\n",
              "    </tr>\n",
              "    <tr>\n",
              "      <th>27</th>\n",
              "      <td>45354936</td>\n",
              "      <td>110000.0</td>\n",
              "      <td>496.83</td>\n",
              "      <td>22575</td>\n",
              "      <td>11.53%</td>\n",
              "      <td>4190.0</td>\n",
              "      <td>0.0</td>\n",
              "      <td>0.0</td>\n",
              "      <td>183.0</td>\n",
              "      <td>167.0</td>\n",
              "      <td>...</td>\n",
              "      <td>33.0</td>\n",
              "      <td>8.0</td>\n",
              "      <td>0.0</td>\n",
              "      <td>1.0</td>\n",
              "      <td>22</td>\n",
              "      <td>100.0</td>\n",
              "      <td>0</td>\n",
              "      <td>51</td>\n",
              "      <td>92188.0</td>\n",
              "      <td>Charged Off</td>\n",
              "    </tr>\n",
              "    <tr>\n",
              "      <th>...</th>\n",
              "      <td>...</td>\n",
              "      <td>...</td>\n",
              "      <td>...</td>\n",
              "      <td>...</td>\n",
              "      <td>...</td>\n",
              "      <td>...</td>\n",
              "      <td>...</td>\n",
              "      <td>...</td>\n",
              "      <td>...</td>\n",
              "      <td>...</td>\n",
              "      <td>...</td>\n",
              "      <td>...</td>\n",
              "      <td>...</td>\n",
              "      <td>...</td>\n",
              "      <td>...</td>\n",
              "      <td>...</td>\n",
              "      <td>...</td>\n",
              "      <td>...</td>\n",
              "      <td>...</td>\n",
              "      <td>...</td>\n",
              "      <td>...</td>\n",
              "    </tr>\n",
              "    <tr>\n",
              "      <th>18302</th>\n",
              "      <td>44142669</td>\n",
              "      <td>30600.0</td>\n",
              "      <td>301.07</td>\n",
              "      <td>10975</td>\n",
              "      <td>21.67%</td>\n",
              "      <td>3170.0</td>\n",
              "      <td>0.0</td>\n",
              "      <td>0.0</td>\n",
              "      <td>83.0</td>\n",
              "      <td>80.0</td>\n",
              "      <td>...</td>\n",
              "      <td>5.0</td>\n",
              "      <td>9.0</td>\n",
              "      <td>0.0</td>\n",
              "      <td>1.0</td>\n",
              "      <td>11</td>\n",
              "      <td>50.0</td>\n",
              "      <td>0</td>\n",
              "      <td>15</td>\n",
              "      <td>31697.0</td>\n",
              "      <td>Charged Off</td>\n",
              "    </tr>\n",
              "    <tr>\n",
              "      <th>18308</th>\n",
              "      <td>15450139</td>\n",
              "      <td>98500.0</td>\n",
              "      <td>205.54</td>\n",
              "      <td>6000</td>\n",
              "      <td>14.16%</td>\n",
              "      <td>6981.0</td>\n",
              "      <td>0.0</td>\n",
              "      <td>0.0</td>\n",
              "      <td>258.0</td>\n",
              "      <td>119.0</td>\n",
              "      <td>...</td>\n",
              "      <td>3.0</td>\n",
              "      <td>5.0</td>\n",
              "      <td>0.0</td>\n",
              "      <td>1.0</td>\n",
              "      <td>7</td>\n",
              "      <td>100.0</td>\n",
              "      <td>0</td>\n",
              "      <td>21</td>\n",
              "      <td>48866.0</td>\n",
              "      <td>Charged Off</td>\n",
              "    </tr>\n",
              "    <tr>\n",
              "      <th>18309</th>\n",
              "      <td>85590438</td>\n",
              "      <td>72000.0</td>\n",
              "      <td>551.89</td>\n",
              "      <td>13975</td>\n",
              "      <td>24.49%</td>\n",
              "      <td>17302.0</td>\n",
              "      <td>5.0</td>\n",
              "      <td>633.0</td>\n",
              "      <td>81.0</td>\n",
              "      <td>69.0</td>\n",
              "      <td>...</td>\n",
              "      <td>7.0</td>\n",
              "      <td>6.0</td>\n",
              "      <td>0.0</td>\n",
              "      <td>6.0</td>\n",
              "      <td>10</td>\n",
              "      <td>33.3</td>\n",
              "      <td>0</td>\n",
              "      <td>16</td>\n",
              "      <td>36693.0</td>\n",
              "      <td>Charged Off</td>\n",
              "    </tr>\n",
              "    <tr>\n",
              "      <th>18313</th>\n",
              "      <td>42504811</td>\n",
              "      <td>85000.0</td>\n",
              "      <td>659.81</td>\n",
              "      <td>20000</td>\n",
              "      <td>11.53%</td>\n",
              "      <td>14367.0</td>\n",
              "      <td>0.0</td>\n",
              "      <td>0.0</td>\n",
              "      <td>108.0</td>\n",
              "      <td>108.0</td>\n",
              "      <td>...</td>\n",
              "      <td>13.0</td>\n",
              "      <td>6.0</td>\n",
              "      <td>0.0</td>\n",
              "      <td>2.0</td>\n",
              "      <td>12</td>\n",
              "      <td>25.0</td>\n",
              "      <td>0</td>\n",
              "      <td>30</td>\n",
              "      <td>43072.0</td>\n",
              "      <td>Charged Off</td>\n",
              "    </tr>\n",
              "    <tr>\n",
              "      <th>18316</th>\n",
              "      <td>134213838</td>\n",
              "      <td>32000.0</td>\n",
              "      <td>495.61</td>\n",
              "      <td>18000</td>\n",
              "      <td>21.85%</td>\n",
              "      <td>2911.0</td>\n",
              "      <td>0.0</td>\n",
              "      <td>7807.0</td>\n",
              "      <td>63.0</td>\n",
              "      <td>260.0</td>\n",
              "      <td>...</td>\n",
              "      <td>3.0</td>\n",
              "      <td>7.0</td>\n",
              "      <td>0.0</td>\n",
              "      <td>0.0</td>\n",
              "      <td>8</td>\n",
              "      <td>80.0</td>\n",
              "      <td>0</td>\n",
              "      <td>12</td>\n",
              "      <td>20380.0</td>\n",
              "      <td>Charged Off</td>\n",
              "    </tr>\n",
              "  </tbody>\n",
              "</table>\n",
              "<p>3906 rows × 25 columns</p>\n",
              "</div>\n",
              "      <button class=\"colab-df-convert\" onclick=\"convertToInteractive('df-ef4fdd09-52c0-4f0c-8b96-4fcc0158de26')\"\n",
              "              title=\"Convert this dataframe to an interactive table.\"\n",
              "              style=\"display:none;\">\n",
              "        \n",
              "  <svg xmlns=\"http://www.w3.org/2000/svg\" height=\"24px\"viewBox=\"0 0 24 24\"\n",
              "       width=\"24px\">\n",
              "    <path d=\"M0 0h24v24H0V0z\" fill=\"none\"/>\n",
              "    <path d=\"M18.56 5.44l.94 2.06.94-2.06 2.06-.94-2.06-.94-.94-2.06-.94 2.06-2.06.94zm-11 1L8.5 8.5l.94-2.06 2.06-.94-2.06-.94L8.5 2.5l-.94 2.06-2.06.94zm10 10l.94 2.06.94-2.06 2.06-.94-2.06-.94-.94-2.06-.94 2.06-2.06.94z\"/><path d=\"M17.41 7.96l-1.37-1.37c-.4-.4-.92-.59-1.43-.59-.52 0-1.04.2-1.43.59L10.3 9.45l-7.72 7.72c-.78.78-.78 2.05 0 2.83L4 21.41c.39.39.9.59 1.41.59.51 0 1.02-.2 1.41-.59l7.78-7.78 2.81-2.81c.8-.78.8-2.07 0-2.86zM5.41 20L4 18.59l7.72-7.72 1.47 1.35L5.41 20z\"/>\n",
              "  </svg>\n",
              "      </button>\n",
              "      \n",
              "  <style>\n",
              "    .colab-df-container {\n",
              "      display:flex;\n",
              "      flex-wrap:wrap;\n",
              "      gap: 12px;\n",
              "    }\n",
              "\n",
              "    .colab-df-convert {\n",
              "      background-color: #E8F0FE;\n",
              "      border: none;\n",
              "      border-radius: 50%;\n",
              "      cursor: pointer;\n",
              "      display: none;\n",
              "      fill: #1967D2;\n",
              "      height: 32px;\n",
              "      padding: 0 0 0 0;\n",
              "      width: 32px;\n",
              "    }\n",
              "\n",
              "    .colab-df-convert:hover {\n",
              "      background-color: #E2EBFA;\n",
              "      box-shadow: 0px 1px 2px rgba(60, 64, 67, 0.3), 0px 1px 3px 1px rgba(60, 64, 67, 0.15);\n",
              "      fill: #174EA6;\n",
              "    }\n",
              "\n",
              "    [theme=dark] .colab-df-convert {\n",
              "      background-color: #3B4455;\n",
              "      fill: #D2E3FC;\n",
              "    }\n",
              "\n",
              "    [theme=dark] .colab-df-convert:hover {\n",
              "      background-color: #434B5C;\n",
              "      box-shadow: 0px 1px 3px 1px rgba(0, 0, 0, 0.15);\n",
              "      filter: drop-shadow(0px 1px 2px rgba(0, 0, 0, 0.3));\n",
              "      fill: #FFFFFF;\n",
              "    }\n",
              "  </style>\n",
              "\n",
              "      <script>\n",
              "        const buttonEl =\n",
              "          document.querySelector('#df-ef4fdd09-52c0-4f0c-8b96-4fcc0158de26 button.colab-df-convert');\n",
              "        buttonEl.style.display =\n",
              "          google.colab.kernel.accessAllowed ? 'block' : 'none';\n",
              "\n",
              "        async function convertToInteractive(key) {\n",
              "          const element = document.querySelector('#df-ef4fdd09-52c0-4f0c-8b96-4fcc0158de26');\n",
              "          const dataTable =\n",
              "            await google.colab.kernel.invokeFunction('convertToInteractive',\n",
              "                                                     [key], {});\n",
              "          if (!dataTable) return;\n",
              "\n",
              "          const docLinkHtml = 'Like what you see? Visit the ' +\n",
              "            '<a target=\"_blank\" href=https://colab.research.google.com/notebooks/data_table.ipynb>data table notebook</a>'\n",
              "            + ' to learn more about interactive tables.';\n",
              "          element.innerHTML = '';\n",
              "          dataTable['output_type'] = 'display_data';\n",
              "          await google.colab.output.renderOutput(dataTable, element);\n",
              "          const docLink = document.createElement('div');\n",
              "          docLink.innerHTML = docLinkHtml;\n",
              "          element.appendChild(docLink);\n",
              "        }\n",
              "      </script>\n",
              "    </div>\n",
              "  </div>\n",
              "  "
            ]
          },
          "metadata": {},
          "execution_count": 12
        }
      ]
    },
    {
      "cell_type": "code",
      "source": [
        "df_final = df_repay.append(df_default).sample(frac=1).drop(['id'], axis=1)\n",
        "df_final"
      ],
      "metadata": {
        "id": "Wu9iTjLpNfBm",
        "outputId": "a1ff92ac-9a02-463a-e86a-2a0ff507163b",
        "colab": {
          "base_uri": "https://localhost:8080/"
        }
      },
      "execution_count": null,
      "outputs": [
        {
          "output_type": "execute_result",
          "data": {
            "text/plain": [
              "       annual_inc  installment  loan_amnt int_rate  avg_cur_bal  inq_last_12m  \\\n",
              "16269    137749.0       368.08      16000   13.49%      15116.0           1.0   \n",
              "17893    240000.0      1318.63      35000   21.00%       7483.0           0.0   \n",
              "12575     82000.0       270.88      10400   19.19%       9917.0           0.0   \n",
              "6399      40000.0       600.06      17475   14.33%       3183.0           0.0   \n",
              "12209    185000.0       756.92      24700    6.49%       9509.0           4.0   \n",
              "...           ...          ...        ...      ...          ...           ...   \n",
              "3617      50000.0       488.17      19600   17.10%       6365.0           0.0   \n",
              "16876     70000.0       309.87      10000    7.24%       9526.0           0.0   \n",
              "13960     44000.0       339.31      10000   13.49%       1980.0           1.0   \n",
              "15867     32000.0        97.50       3000   10.49%       3916.0           1.0   \n",
              "1415      68000.0       427.78      12000   16.99%       8375.0           0.0   \n",
              "\n",
              "       max_bal_bc  mo_sin_old_il_acct  mo_sin_old_rev_tl_op  \\\n",
              "16269        39.0               167.0                 297.0   \n",
              "17893         0.0                85.0                 194.0   \n",
              "12575         0.0               144.0                 353.0   \n",
              "6399          0.0               107.0                 112.0   \n",
              "12209      2225.0               249.0                 322.0   \n",
              "...           ...                 ...                   ...   \n",
              "3617          0.0               146.0                 137.0   \n",
              "16876      3904.0               103.0                  82.0   \n",
              "13960      3153.0                36.0                  98.0   \n",
              "15867      2074.0               115.0                  22.0   \n",
              "1415          0.0               159.0                 245.0   \n",
              "\n",
              "       mo_sin_rcnt_rev_tl_op  ...  num_il_tl  num_op_rev_tl  \\\n",
              "16269                   13.0  ...       27.0            4.0   \n",
              "17893                   20.0  ...       10.0            8.0   \n",
              "12575                    2.0  ...        9.0           14.0   \n",
              "6399                     6.0  ...        9.0            8.0   \n",
              "12209                   46.0  ...        5.0            2.0   \n",
              "...                      ...  ...        ...            ...   \n",
              "3617                    15.0  ...       26.0            7.0   \n",
              "16876                    9.0  ...        5.0            8.0   \n",
              "13960                    1.0  ...        1.0            9.0   \n",
              "15867                    8.0  ...        8.0            3.0   \n",
              "1415                     4.0  ...        6.0            3.0   \n",
              "\n",
              "       num_tl_90g_dpd_24m  num_tl_op_past_12m  open_acc  percent_bc_gt_75  \\\n",
              "16269                 1.0                 1.0        17               0.0   \n",
              "17893                 1.0                 1.0        12               0.0   \n",
              "12575                 2.0                 6.0        18              66.7   \n",
              "6399                  0.0                 3.0        10               0.0   \n",
              "12209                 0.0                 0.0         3               0.0   \n",
              "...                   ...                 ...       ...               ...   \n",
              "3617                  0.0                 0.0        14              25.0   \n",
              "16876                 0.0                 1.0        11              20.0   \n",
              "13960                 0.0                 1.0        10              60.0   \n",
              "15867                 0.0                 1.0         6              33.3   \n",
              "1415                  0.0                 3.0         5             100.0   \n",
              "\n",
              "       pub_rec_bankruptcies  total_acc  total_bal_ex_mort  loan_status  \n",
              "16269                     0         43           137994.0  Charged Off  \n",
              "17893                     0         29            82316.0  Charged Off  \n",
              "12575                     1         35            34990.0  Charged Off  \n",
              "6399                      1         23            31828.0  Charged Off  \n",
              "12209                     0         15            28527.0   Fully Paid  \n",
              "...                     ...        ...                ...          ...  \n",
              "3617                      0         41            82739.0  Charged Off  \n",
              "16876                     0         17           104789.0   Fully Paid  \n",
              "13960                     0         12            19804.0  Charged Off  \n",
              "15867                     0         11            23494.0  Charged Off  \n",
              "1415                      0         22            41875.0  Charged Off  \n",
              "\n",
              "[7812 rows x 24 columns]"
            ],
            "text/html": [
              "\n",
              "  <div id=\"df-b95c162d-55d7-4927-85a6-84f9683d22c3\">\n",
              "    <div class=\"colab-df-container\">\n",
              "      <div>\n",
              "<style scoped>\n",
              "    .dataframe tbody tr th:only-of-type {\n",
              "        vertical-align: middle;\n",
              "    }\n",
              "\n",
              "    .dataframe tbody tr th {\n",
              "        vertical-align: top;\n",
              "    }\n",
              "\n",
              "    .dataframe thead th {\n",
              "        text-align: right;\n",
              "    }\n",
              "</style>\n",
              "<table border=\"1\" class=\"dataframe\">\n",
              "  <thead>\n",
              "    <tr style=\"text-align: right;\">\n",
              "      <th></th>\n",
              "      <th>annual_inc</th>\n",
              "      <th>installment</th>\n",
              "      <th>loan_amnt</th>\n",
              "      <th>int_rate</th>\n",
              "      <th>avg_cur_bal</th>\n",
              "      <th>inq_last_12m</th>\n",
              "      <th>max_bal_bc</th>\n",
              "      <th>mo_sin_old_il_acct</th>\n",
              "      <th>mo_sin_old_rev_tl_op</th>\n",
              "      <th>mo_sin_rcnt_rev_tl_op</th>\n",
              "      <th>...</th>\n",
              "      <th>num_il_tl</th>\n",
              "      <th>num_op_rev_tl</th>\n",
              "      <th>num_tl_90g_dpd_24m</th>\n",
              "      <th>num_tl_op_past_12m</th>\n",
              "      <th>open_acc</th>\n",
              "      <th>percent_bc_gt_75</th>\n",
              "      <th>pub_rec_bankruptcies</th>\n",
              "      <th>total_acc</th>\n",
              "      <th>total_bal_ex_mort</th>\n",
              "      <th>loan_status</th>\n",
              "    </tr>\n",
              "  </thead>\n",
              "  <tbody>\n",
              "    <tr>\n",
              "      <th>16269</th>\n",
              "      <td>137749.0</td>\n",
              "      <td>368.08</td>\n",
              "      <td>16000</td>\n",
              "      <td>13.49%</td>\n",
              "      <td>15116.0</td>\n",
              "      <td>1.0</td>\n",
              "      <td>39.0</td>\n",
              "      <td>167.0</td>\n",
              "      <td>297.0</td>\n",
              "      <td>13.0</td>\n",
              "      <td>...</td>\n",
              "      <td>27.0</td>\n",
              "      <td>4.0</td>\n",
              "      <td>1.0</td>\n",
              "      <td>1.0</td>\n",
              "      <td>17</td>\n",
              "      <td>0.0</td>\n",
              "      <td>0</td>\n",
              "      <td>43</td>\n",
              "      <td>137994.0</td>\n",
              "      <td>Charged Off</td>\n",
              "    </tr>\n",
              "    <tr>\n",
              "      <th>17893</th>\n",
              "      <td>240000.0</td>\n",
              "      <td>1318.63</td>\n",
              "      <td>35000</td>\n",
              "      <td>21.00%</td>\n",
              "      <td>7483.0</td>\n",
              "      <td>0.0</td>\n",
              "      <td>0.0</td>\n",
              "      <td>85.0</td>\n",
              "      <td>194.0</td>\n",
              "      <td>20.0</td>\n",
              "      <td>...</td>\n",
              "      <td>10.0</td>\n",
              "      <td>8.0</td>\n",
              "      <td>1.0</td>\n",
              "      <td>1.0</td>\n",
              "      <td>12</td>\n",
              "      <td>0.0</td>\n",
              "      <td>0</td>\n",
              "      <td>29</td>\n",
              "      <td>82316.0</td>\n",
              "      <td>Charged Off</td>\n",
              "    </tr>\n",
              "    <tr>\n",
              "      <th>12575</th>\n",
              "      <td>82000.0</td>\n",
              "      <td>270.88</td>\n",
              "      <td>10400</td>\n",
              "      <td>19.19%</td>\n",
              "      <td>9917.0</td>\n",
              "      <td>0.0</td>\n",
              "      <td>0.0</td>\n",
              "      <td>144.0</td>\n",
              "      <td>353.0</td>\n",
              "      <td>2.0</td>\n",
              "      <td>...</td>\n",
              "      <td>9.0</td>\n",
              "      <td>14.0</td>\n",
              "      <td>2.0</td>\n",
              "      <td>6.0</td>\n",
              "      <td>18</td>\n",
              "      <td>66.7</td>\n",
              "      <td>1</td>\n",
              "      <td>35</td>\n",
              "      <td>34990.0</td>\n",
              "      <td>Charged Off</td>\n",
              "    </tr>\n",
              "    <tr>\n",
              "      <th>6399</th>\n",
              "      <td>40000.0</td>\n",
              "      <td>600.06</td>\n",
              "      <td>17475</td>\n",
              "      <td>14.33%</td>\n",
              "      <td>3183.0</td>\n",
              "      <td>0.0</td>\n",
              "      <td>0.0</td>\n",
              "      <td>107.0</td>\n",
              "      <td>112.0</td>\n",
              "      <td>6.0</td>\n",
              "      <td>...</td>\n",
              "      <td>9.0</td>\n",
              "      <td>8.0</td>\n",
              "      <td>0.0</td>\n",
              "      <td>3.0</td>\n",
              "      <td>10</td>\n",
              "      <td>0.0</td>\n",
              "      <td>1</td>\n",
              "      <td>23</td>\n",
              "      <td>31828.0</td>\n",
              "      <td>Charged Off</td>\n",
              "    </tr>\n",
              "    <tr>\n",
              "      <th>12209</th>\n",
              "      <td>185000.0</td>\n",
              "      <td>756.92</td>\n",
              "      <td>24700</td>\n",
              "      <td>6.49%</td>\n",
              "      <td>9509.0</td>\n",
              "      <td>4.0</td>\n",
              "      <td>2225.0</td>\n",
              "      <td>249.0</td>\n",
              "      <td>322.0</td>\n",
              "      <td>46.0</td>\n",
              "      <td>...</td>\n",
              "      <td>5.0</td>\n",
              "      <td>2.0</td>\n",
              "      <td>0.0</td>\n",
              "      <td>0.0</td>\n",
              "      <td>3</td>\n",
              "      <td>0.0</td>\n",
              "      <td>0</td>\n",
              "      <td>15</td>\n",
              "      <td>28527.0</td>\n",
              "      <td>Fully Paid</td>\n",
              "    </tr>\n",
              "    <tr>\n",
              "      <th>...</th>\n",
              "      <td>...</td>\n",
              "      <td>...</td>\n",
              "      <td>...</td>\n",
              "      <td>...</td>\n",
              "      <td>...</td>\n",
              "      <td>...</td>\n",
              "      <td>...</td>\n",
              "      <td>...</td>\n",
              "      <td>...</td>\n",
              "      <td>...</td>\n",
              "      <td>...</td>\n",
              "      <td>...</td>\n",
              "      <td>...</td>\n",
              "      <td>...</td>\n",
              "      <td>...</td>\n",
              "      <td>...</td>\n",
              "      <td>...</td>\n",
              "      <td>...</td>\n",
              "      <td>...</td>\n",
              "      <td>...</td>\n",
              "      <td>...</td>\n",
              "    </tr>\n",
              "    <tr>\n",
              "      <th>3617</th>\n",
              "      <td>50000.0</td>\n",
              "      <td>488.17</td>\n",
              "      <td>19600</td>\n",
              "      <td>17.10%</td>\n",
              "      <td>6365.0</td>\n",
              "      <td>0.0</td>\n",
              "      <td>0.0</td>\n",
              "      <td>146.0</td>\n",
              "      <td>137.0</td>\n",
              "      <td>15.0</td>\n",
              "      <td>...</td>\n",
              "      <td>26.0</td>\n",
              "      <td>7.0</td>\n",
              "      <td>0.0</td>\n",
              "      <td>0.0</td>\n",
              "      <td>14</td>\n",
              "      <td>25.0</td>\n",
              "      <td>0</td>\n",
              "      <td>41</td>\n",
              "      <td>82739.0</td>\n",
              "      <td>Charged Off</td>\n",
              "    </tr>\n",
              "    <tr>\n",
              "      <th>16876</th>\n",
              "      <td>70000.0</td>\n",
              "      <td>309.87</td>\n",
              "      <td>10000</td>\n",
              "      <td>7.24%</td>\n",
              "      <td>9526.0</td>\n",
              "      <td>0.0</td>\n",
              "      <td>3904.0</td>\n",
              "      <td>103.0</td>\n",
              "      <td>82.0</td>\n",
              "      <td>9.0</td>\n",
              "      <td>...</td>\n",
              "      <td>5.0</td>\n",
              "      <td>8.0</td>\n",
              "      <td>0.0</td>\n",
              "      <td>1.0</td>\n",
              "      <td>11</td>\n",
              "      <td>20.0</td>\n",
              "      <td>0</td>\n",
              "      <td>17</td>\n",
              "      <td>104789.0</td>\n",
              "      <td>Fully Paid</td>\n",
              "    </tr>\n",
              "    <tr>\n",
              "      <th>13960</th>\n",
              "      <td>44000.0</td>\n",
              "      <td>339.31</td>\n",
              "      <td>10000</td>\n",
              "      <td>13.49%</td>\n",
              "      <td>1980.0</td>\n",
              "      <td>1.0</td>\n",
              "      <td>3153.0</td>\n",
              "      <td>36.0</td>\n",
              "      <td>98.0</td>\n",
              "      <td>1.0</td>\n",
              "      <td>...</td>\n",
              "      <td>1.0</td>\n",
              "      <td>9.0</td>\n",
              "      <td>0.0</td>\n",
              "      <td>1.0</td>\n",
              "      <td>10</td>\n",
              "      <td>60.0</td>\n",
              "      <td>0</td>\n",
              "      <td>12</td>\n",
              "      <td>19804.0</td>\n",
              "      <td>Charged Off</td>\n",
              "    </tr>\n",
              "    <tr>\n",
              "      <th>15867</th>\n",
              "      <td>32000.0</td>\n",
              "      <td>97.50</td>\n",
              "      <td>3000</td>\n",
              "      <td>10.49%</td>\n",
              "      <td>3916.0</td>\n",
              "      <td>1.0</td>\n",
              "      <td>2074.0</td>\n",
              "      <td>115.0</td>\n",
              "      <td>22.0</td>\n",
              "      <td>8.0</td>\n",
              "      <td>...</td>\n",
              "      <td>8.0</td>\n",
              "      <td>3.0</td>\n",
              "      <td>0.0</td>\n",
              "      <td>1.0</td>\n",
              "      <td>6</td>\n",
              "      <td>33.3</td>\n",
              "      <td>0</td>\n",
              "      <td>11</td>\n",
              "      <td>23494.0</td>\n",
              "      <td>Charged Off</td>\n",
              "    </tr>\n",
              "    <tr>\n",
              "      <th>1415</th>\n",
              "      <td>68000.0</td>\n",
              "      <td>427.78</td>\n",
              "      <td>12000</td>\n",
              "      <td>16.99%</td>\n",
              "      <td>8375.0</td>\n",
              "      <td>0.0</td>\n",
              "      <td>0.0</td>\n",
              "      <td>159.0</td>\n",
              "      <td>245.0</td>\n",
              "      <td>4.0</td>\n",
              "      <td>...</td>\n",
              "      <td>6.0</td>\n",
              "      <td>3.0</td>\n",
              "      <td>0.0</td>\n",
              "      <td>3.0</td>\n",
              "      <td>5</td>\n",
              "      <td>100.0</td>\n",
              "      <td>0</td>\n",
              "      <td>22</td>\n",
              "      <td>41875.0</td>\n",
              "      <td>Charged Off</td>\n",
              "    </tr>\n",
              "  </tbody>\n",
              "</table>\n",
              "<p>7812 rows × 24 columns</p>\n",
              "</div>\n",
              "      <button class=\"colab-df-convert\" onclick=\"convertToInteractive('df-b95c162d-55d7-4927-85a6-84f9683d22c3')\"\n",
              "              title=\"Convert this dataframe to an interactive table.\"\n",
              "              style=\"display:none;\">\n",
              "        \n",
              "  <svg xmlns=\"http://www.w3.org/2000/svg\" height=\"24px\"viewBox=\"0 0 24 24\"\n",
              "       width=\"24px\">\n",
              "    <path d=\"M0 0h24v24H0V0z\" fill=\"none\"/>\n",
              "    <path d=\"M18.56 5.44l.94 2.06.94-2.06 2.06-.94-2.06-.94-.94-2.06-.94 2.06-2.06.94zm-11 1L8.5 8.5l.94-2.06 2.06-.94-2.06-.94L8.5 2.5l-.94 2.06-2.06.94zm10 10l.94 2.06.94-2.06 2.06-.94-2.06-.94-.94-2.06-.94 2.06-2.06.94z\"/><path d=\"M17.41 7.96l-1.37-1.37c-.4-.4-.92-.59-1.43-.59-.52 0-1.04.2-1.43.59L10.3 9.45l-7.72 7.72c-.78.78-.78 2.05 0 2.83L4 21.41c.39.39.9.59 1.41.59.51 0 1.02-.2 1.41-.59l7.78-7.78 2.81-2.81c.8-.78.8-2.07 0-2.86zM5.41 20L4 18.59l7.72-7.72 1.47 1.35L5.41 20z\"/>\n",
              "  </svg>\n",
              "      </button>\n",
              "      \n",
              "  <style>\n",
              "    .colab-df-container {\n",
              "      display:flex;\n",
              "      flex-wrap:wrap;\n",
              "      gap: 12px;\n",
              "    }\n",
              "\n",
              "    .colab-df-convert {\n",
              "      background-color: #E8F0FE;\n",
              "      border: none;\n",
              "      border-radius: 50%;\n",
              "      cursor: pointer;\n",
              "      display: none;\n",
              "      fill: #1967D2;\n",
              "      height: 32px;\n",
              "      padding: 0 0 0 0;\n",
              "      width: 32px;\n",
              "    }\n",
              "\n",
              "    .colab-df-convert:hover {\n",
              "      background-color: #E2EBFA;\n",
              "      box-shadow: 0px 1px 2px rgba(60, 64, 67, 0.3), 0px 1px 3px 1px rgba(60, 64, 67, 0.15);\n",
              "      fill: #174EA6;\n",
              "    }\n",
              "\n",
              "    [theme=dark] .colab-df-convert {\n",
              "      background-color: #3B4455;\n",
              "      fill: #D2E3FC;\n",
              "    }\n",
              "\n",
              "    [theme=dark] .colab-df-convert:hover {\n",
              "      background-color: #434B5C;\n",
              "      box-shadow: 0px 1px 3px 1px rgba(0, 0, 0, 0.15);\n",
              "      filter: drop-shadow(0px 1px 2px rgba(0, 0, 0, 0.3));\n",
              "      fill: #FFFFFF;\n",
              "    }\n",
              "  </style>\n",
              "\n",
              "      <script>\n",
              "        const buttonEl =\n",
              "          document.querySelector('#df-b95c162d-55d7-4927-85a6-84f9683d22c3 button.colab-df-convert');\n",
              "        buttonEl.style.display =\n",
              "          google.colab.kernel.accessAllowed ? 'block' : 'none';\n",
              "\n",
              "        async function convertToInteractive(key) {\n",
              "          const element = document.querySelector('#df-b95c162d-55d7-4927-85a6-84f9683d22c3');\n",
              "          const dataTable =\n",
              "            await google.colab.kernel.invokeFunction('convertToInteractive',\n",
              "                                                     [key], {});\n",
              "          if (!dataTable) return;\n",
              "\n",
              "          const docLinkHtml = 'Like what you see? Visit the ' +\n",
              "            '<a target=\"_blank\" href=https://colab.research.google.com/notebooks/data_table.ipynb>data table notebook</a>'\n",
              "            + ' to learn more about interactive tables.';\n",
              "          element.innerHTML = '';\n",
              "          dataTable['output_type'] = 'display_data';\n",
              "          await google.colab.output.renderOutput(dataTable, element);\n",
              "          const docLink = document.createElement('div');\n",
              "          docLink.innerHTML = docLinkHtml;\n",
              "          element.appendChild(docLink);\n",
              "        }\n",
              "      </script>\n",
              "    </div>\n",
              "  </div>\n",
              "  "
            ]
          },
          "metadata": {},
          "execution_count": 13
        }
      ]
    },
    {
      "cell_type": "markdown",
      "source": [
        "### convert to float"
      ],
      "metadata": {
        "id": "isk3YNPmaq_u"
      }
    },
    {
      "cell_type": "code",
      "source": [
        "df_final.dtypes"
      ],
      "metadata": {
        "colab": {
          "base_uri": "https://localhost:8080/"
        },
        "id": "WnNT2IvNZPlL",
        "outputId": "4f743428-525e-49eb-d77b-061ac0d13e38"
      },
      "execution_count": null,
      "outputs": [
        {
          "output_type": "execute_result",
          "data": {
            "text/plain": [
              "annual_inc                float64\n",
              "installment               float64\n",
              "loan_amnt                   int64\n",
              "int_rate                   object\n",
              "avg_cur_bal               float64\n",
              "inq_last_12m              float64\n",
              "max_bal_bc                float64\n",
              "mo_sin_old_il_acct        float64\n",
              "mo_sin_old_rev_tl_op      float64\n",
              "mo_sin_rcnt_rev_tl_op     float64\n",
              "mo_sin_rcnt_tl            float64\n",
              "mort_acc                  float64\n",
              "mths_since_last_delinq    float64\n",
              "num_bc_tl                 float64\n",
              "num_il_tl                 float64\n",
              "num_op_rev_tl             float64\n",
              "num_tl_90g_dpd_24m        float64\n",
              "num_tl_op_past_12m        float64\n",
              "open_acc                    int64\n",
              "percent_bc_gt_75          float64\n",
              "pub_rec_bankruptcies        int64\n",
              "total_acc                   int64\n",
              "total_bal_ex_mort         float64\n",
              "loan_status                object\n",
              "dtype: object"
            ]
          },
          "metadata": {},
          "execution_count": 14
        }
      ]
    },
    {
      "cell_type": "code",
      "source": [
        "df_final['int_rate'] = df_final['int_rate'].map(lambda x: x.rstrip('%'))\n",
        "df_final['int_rate'] = df_final['int_rate'].astype(float)\n",
        "df_final.dtypes"
      ],
      "metadata": {
        "colab": {
          "base_uri": "https://localhost:8080/"
        },
        "id": "PGn034ojaaKC",
        "outputId": "9f5a553b-38f2-4d5d-894c-68f9eb0dadeb"
      },
      "execution_count": null,
      "outputs": [
        {
          "output_type": "execute_result",
          "data": {
            "text/plain": [
              "annual_inc                float64\n",
              "installment               float64\n",
              "loan_amnt                   int64\n",
              "int_rate                  float64\n",
              "avg_cur_bal               float64\n",
              "inq_last_12m              float64\n",
              "max_bal_bc                float64\n",
              "mo_sin_old_il_acct        float64\n",
              "mo_sin_old_rev_tl_op      float64\n",
              "mo_sin_rcnt_rev_tl_op     float64\n",
              "mo_sin_rcnt_tl            float64\n",
              "mort_acc                  float64\n",
              "mths_since_last_delinq    float64\n",
              "num_bc_tl                 float64\n",
              "num_il_tl                 float64\n",
              "num_op_rev_tl             float64\n",
              "num_tl_90g_dpd_24m        float64\n",
              "num_tl_op_past_12m        float64\n",
              "open_acc                    int64\n",
              "percent_bc_gt_75          float64\n",
              "pub_rec_bankruptcies        int64\n",
              "total_acc                   int64\n",
              "total_bal_ex_mort         float64\n",
              "loan_status                object\n",
              "dtype: object"
            ]
          },
          "metadata": {},
          "execution_count": 15
        }
      ]
    },
    {
      "cell_type": "code",
      "source": [
        "df_final"
      ],
      "metadata": {
        "colab": {
          "base_uri": "https://localhost:8080/"
        },
        "id": "nrPWhLVcazRD",
        "outputId": "0df8d7ab-385d-46d8-c06d-bbdf17173f75"
      },
      "execution_count": null,
      "outputs": [
        {
          "output_type": "execute_result",
          "data": {
            "text/plain": [
              "       annual_inc  installment  loan_amnt  int_rate  avg_cur_bal  \\\n",
              "16269    137749.0       368.08      16000     13.49      15116.0   \n",
              "17893    240000.0      1318.63      35000     21.00       7483.0   \n",
              "12575     82000.0       270.88      10400     19.19       9917.0   \n",
              "6399      40000.0       600.06      17475     14.33       3183.0   \n",
              "12209    185000.0       756.92      24700      6.49       9509.0   \n",
              "...           ...          ...        ...       ...          ...   \n",
              "3617      50000.0       488.17      19600     17.10       6365.0   \n",
              "16876     70000.0       309.87      10000      7.24       9526.0   \n",
              "13960     44000.0       339.31      10000     13.49       1980.0   \n",
              "15867     32000.0        97.50       3000     10.49       3916.0   \n",
              "1415      68000.0       427.78      12000     16.99       8375.0   \n",
              "\n",
              "       inq_last_12m  max_bal_bc  mo_sin_old_il_acct  mo_sin_old_rev_tl_op  \\\n",
              "16269           1.0        39.0               167.0                 297.0   \n",
              "17893           0.0         0.0                85.0                 194.0   \n",
              "12575           0.0         0.0               144.0                 353.0   \n",
              "6399            0.0         0.0               107.0                 112.0   \n",
              "12209           4.0      2225.0               249.0                 322.0   \n",
              "...             ...         ...                 ...                   ...   \n",
              "3617            0.0         0.0               146.0                 137.0   \n",
              "16876           0.0      3904.0               103.0                  82.0   \n",
              "13960           1.0      3153.0                36.0                  98.0   \n",
              "15867           1.0      2074.0               115.0                  22.0   \n",
              "1415            0.0         0.0               159.0                 245.0   \n",
              "\n",
              "       mo_sin_rcnt_rev_tl_op  ...  num_il_tl  num_op_rev_tl  \\\n",
              "16269                   13.0  ...       27.0            4.0   \n",
              "17893                   20.0  ...       10.0            8.0   \n",
              "12575                    2.0  ...        9.0           14.0   \n",
              "6399                     6.0  ...        9.0            8.0   \n",
              "12209                   46.0  ...        5.0            2.0   \n",
              "...                      ...  ...        ...            ...   \n",
              "3617                    15.0  ...       26.0            7.0   \n",
              "16876                    9.0  ...        5.0            8.0   \n",
              "13960                    1.0  ...        1.0            9.0   \n",
              "15867                    8.0  ...        8.0            3.0   \n",
              "1415                     4.0  ...        6.0            3.0   \n",
              "\n",
              "       num_tl_90g_dpd_24m  num_tl_op_past_12m  open_acc  percent_bc_gt_75  \\\n",
              "16269                 1.0                 1.0        17               0.0   \n",
              "17893                 1.0                 1.0        12               0.0   \n",
              "12575                 2.0                 6.0        18              66.7   \n",
              "6399                  0.0                 3.0        10               0.0   \n",
              "12209                 0.0                 0.0         3               0.0   \n",
              "...                   ...                 ...       ...               ...   \n",
              "3617                  0.0                 0.0        14              25.0   \n",
              "16876                 0.0                 1.0        11              20.0   \n",
              "13960                 0.0                 1.0        10              60.0   \n",
              "15867                 0.0                 1.0         6              33.3   \n",
              "1415                  0.0                 3.0         5             100.0   \n",
              "\n",
              "       pub_rec_bankruptcies  total_acc  total_bal_ex_mort  loan_status  \n",
              "16269                     0         43           137994.0  Charged Off  \n",
              "17893                     0         29            82316.0  Charged Off  \n",
              "12575                     1         35            34990.0  Charged Off  \n",
              "6399                      1         23            31828.0  Charged Off  \n",
              "12209                     0         15            28527.0   Fully Paid  \n",
              "...                     ...        ...                ...          ...  \n",
              "3617                      0         41            82739.0  Charged Off  \n",
              "16876                     0         17           104789.0   Fully Paid  \n",
              "13960                     0         12            19804.0  Charged Off  \n",
              "15867                     0         11            23494.0  Charged Off  \n",
              "1415                      0         22            41875.0  Charged Off  \n",
              "\n",
              "[7812 rows x 24 columns]"
            ],
            "text/html": [
              "\n",
              "  <div id=\"df-9e490cdf-40d5-4cb2-9a63-4b8962eb3d6f\">\n",
              "    <div class=\"colab-df-container\">\n",
              "      <div>\n",
              "<style scoped>\n",
              "    .dataframe tbody tr th:only-of-type {\n",
              "        vertical-align: middle;\n",
              "    }\n",
              "\n",
              "    .dataframe tbody tr th {\n",
              "        vertical-align: top;\n",
              "    }\n",
              "\n",
              "    .dataframe thead th {\n",
              "        text-align: right;\n",
              "    }\n",
              "</style>\n",
              "<table border=\"1\" class=\"dataframe\">\n",
              "  <thead>\n",
              "    <tr style=\"text-align: right;\">\n",
              "      <th></th>\n",
              "      <th>annual_inc</th>\n",
              "      <th>installment</th>\n",
              "      <th>loan_amnt</th>\n",
              "      <th>int_rate</th>\n",
              "      <th>avg_cur_bal</th>\n",
              "      <th>inq_last_12m</th>\n",
              "      <th>max_bal_bc</th>\n",
              "      <th>mo_sin_old_il_acct</th>\n",
              "      <th>mo_sin_old_rev_tl_op</th>\n",
              "      <th>mo_sin_rcnt_rev_tl_op</th>\n",
              "      <th>...</th>\n",
              "      <th>num_il_tl</th>\n",
              "      <th>num_op_rev_tl</th>\n",
              "      <th>num_tl_90g_dpd_24m</th>\n",
              "      <th>num_tl_op_past_12m</th>\n",
              "      <th>open_acc</th>\n",
              "      <th>percent_bc_gt_75</th>\n",
              "      <th>pub_rec_bankruptcies</th>\n",
              "      <th>total_acc</th>\n",
              "      <th>total_bal_ex_mort</th>\n",
              "      <th>loan_status</th>\n",
              "    </tr>\n",
              "  </thead>\n",
              "  <tbody>\n",
              "    <tr>\n",
              "      <th>16269</th>\n",
              "      <td>137749.0</td>\n",
              "      <td>368.08</td>\n",
              "      <td>16000</td>\n",
              "      <td>13.49</td>\n",
              "      <td>15116.0</td>\n",
              "      <td>1.0</td>\n",
              "      <td>39.0</td>\n",
              "      <td>167.0</td>\n",
              "      <td>297.0</td>\n",
              "      <td>13.0</td>\n",
              "      <td>...</td>\n",
              "      <td>27.0</td>\n",
              "      <td>4.0</td>\n",
              "      <td>1.0</td>\n",
              "      <td>1.0</td>\n",
              "      <td>17</td>\n",
              "      <td>0.0</td>\n",
              "      <td>0</td>\n",
              "      <td>43</td>\n",
              "      <td>137994.0</td>\n",
              "      <td>Charged Off</td>\n",
              "    </tr>\n",
              "    <tr>\n",
              "      <th>17893</th>\n",
              "      <td>240000.0</td>\n",
              "      <td>1318.63</td>\n",
              "      <td>35000</td>\n",
              "      <td>21.00</td>\n",
              "      <td>7483.0</td>\n",
              "      <td>0.0</td>\n",
              "      <td>0.0</td>\n",
              "      <td>85.0</td>\n",
              "      <td>194.0</td>\n",
              "      <td>20.0</td>\n",
              "      <td>...</td>\n",
              "      <td>10.0</td>\n",
              "      <td>8.0</td>\n",
              "      <td>1.0</td>\n",
              "      <td>1.0</td>\n",
              "      <td>12</td>\n",
              "      <td>0.0</td>\n",
              "      <td>0</td>\n",
              "      <td>29</td>\n",
              "      <td>82316.0</td>\n",
              "      <td>Charged Off</td>\n",
              "    </tr>\n",
              "    <tr>\n",
              "      <th>12575</th>\n",
              "      <td>82000.0</td>\n",
              "      <td>270.88</td>\n",
              "      <td>10400</td>\n",
              "      <td>19.19</td>\n",
              "      <td>9917.0</td>\n",
              "      <td>0.0</td>\n",
              "      <td>0.0</td>\n",
              "      <td>144.0</td>\n",
              "      <td>353.0</td>\n",
              "      <td>2.0</td>\n",
              "      <td>...</td>\n",
              "      <td>9.0</td>\n",
              "      <td>14.0</td>\n",
              "      <td>2.0</td>\n",
              "      <td>6.0</td>\n",
              "      <td>18</td>\n",
              "      <td>66.7</td>\n",
              "      <td>1</td>\n",
              "      <td>35</td>\n",
              "      <td>34990.0</td>\n",
              "      <td>Charged Off</td>\n",
              "    </tr>\n",
              "    <tr>\n",
              "      <th>6399</th>\n",
              "      <td>40000.0</td>\n",
              "      <td>600.06</td>\n",
              "      <td>17475</td>\n",
              "      <td>14.33</td>\n",
              "      <td>3183.0</td>\n",
              "      <td>0.0</td>\n",
              "      <td>0.0</td>\n",
              "      <td>107.0</td>\n",
              "      <td>112.0</td>\n",
              "      <td>6.0</td>\n",
              "      <td>...</td>\n",
              "      <td>9.0</td>\n",
              "      <td>8.0</td>\n",
              "      <td>0.0</td>\n",
              "      <td>3.0</td>\n",
              "      <td>10</td>\n",
              "      <td>0.0</td>\n",
              "      <td>1</td>\n",
              "      <td>23</td>\n",
              "      <td>31828.0</td>\n",
              "      <td>Charged Off</td>\n",
              "    </tr>\n",
              "    <tr>\n",
              "      <th>12209</th>\n",
              "      <td>185000.0</td>\n",
              "      <td>756.92</td>\n",
              "      <td>24700</td>\n",
              "      <td>6.49</td>\n",
              "      <td>9509.0</td>\n",
              "      <td>4.0</td>\n",
              "      <td>2225.0</td>\n",
              "      <td>249.0</td>\n",
              "      <td>322.0</td>\n",
              "      <td>46.0</td>\n",
              "      <td>...</td>\n",
              "      <td>5.0</td>\n",
              "      <td>2.0</td>\n",
              "      <td>0.0</td>\n",
              "      <td>0.0</td>\n",
              "      <td>3</td>\n",
              "      <td>0.0</td>\n",
              "      <td>0</td>\n",
              "      <td>15</td>\n",
              "      <td>28527.0</td>\n",
              "      <td>Fully Paid</td>\n",
              "    </tr>\n",
              "    <tr>\n",
              "      <th>...</th>\n",
              "      <td>...</td>\n",
              "      <td>...</td>\n",
              "      <td>...</td>\n",
              "      <td>...</td>\n",
              "      <td>...</td>\n",
              "      <td>...</td>\n",
              "      <td>...</td>\n",
              "      <td>...</td>\n",
              "      <td>...</td>\n",
              "      <td>...</td>\n",
              "      <td>...</td>\n",
              "      <td>...</td>\n",
              "      <td>...</td>\n",
              "      <td>...</td>\n",
              "      <td>...</td>\n",
              "      <td>...</td>\n",
              "      <td>...</td>\n",
              "      <td>...</td>\n",
              "      <td>...</td>\n",
              "      <td>...</td>\n",
              "      <td>...</td>\n",
              "    </tr>\n",
              "    <tr>\n",
              "      <th>3617</th>\n",
              "      <td>50000.0</td>\n",
              "      <td>488.17</td>\n",
              "      <td>19600</td>\n",
              "      <td>17.10</td>\n",
              "      <td>6365.0</td>\n",
              "      <td>0.0</td>\n",
              "      <td>0.0</td>\n",
              "      <td>146.0</td>\n",
              "      <td>137.0</td>\n",
              "      <td>15.0</td>\n",
              "      <td>...</td>\n",
              "      <td>26.0</td>\n",
              "      <td>7.0</td>\n",
              "      <td>0.0</td>\n",
              "      <td>0.0</td>\n",
              "      <td>14</td>\n",
              "      <td>25.0</td>\n",
              "      <td>0</td>\n",
              "      <td>41</td>\n",
              "      <td>82739.0</td>\n",
              "      <td>Charged Off</td>\n",
              "    </tr>\n",
              "    <tr>\n",
              "      <th>16876</th>\n",
              "      <td>70000.0</td>\n",
              "      <td>309.87</td>\n",
              "      <td>10000</td>\n",
              "      <td>7.24</td>\n",
              "      <td>9526.0</td>\n",
              "      <td>0.0</td>\n",
              "      <td>3904.0</td>\n",
              "      <td>103.0</td>\n",
              "      <td>82.0</td>\n",
              "      <td>9.0</td>\n",
              "      <td>...</td>\n",
              "      <td>5.0</td>\n",
              "      <td>8.0</td>\n",
              "      <td>0.0</td>\n",
              "      <td>1.0</td>\n",
              "      <td>11</td>\n",
              "      <td>20.0</td>\n",
              "      <td>0</td>\n",
              "      <td>17</td>\n",
              "      <td>104789.0</td>\n",
              "      <td>Fully Paid</td>\n",
              "    </tr>\n",
              "    <tr>\n",
              "      <th>13960</th>\n",
              "      <td>44000.0</td>\n",
              "      <td>339.31</td>\n",
              "      <td>10000</td>\n",
              "      <td>13.49</td>\n",
              "      <td>1980.0</td>\n",
              "      <td>1.0</td>\n",
              "      <td>3153.0</td>\n",
              "      <td>36.0</td>\n",
              "      <td>98.0</td>\n",
              "      <td>1.0</td>\n",
              "      <td>...</td>\n",
              "      <td>1.0</td>\n",
              "      <td>9.0</td>\n",
              "      <td>0.0</td>\n",
              "      <td>1.0</td>\n",
              "      <td>10</td>\n",
              "      <td>60.0</td>\n",
              "      <td>0</td>\n",
              "      <td>12</td>\n",
              "      <td>19804.0</td>\n",
              "      <td>Charged Off</td>\n",
              "    </tr>\n",
              "    <tr>\n",
              "      <th>15867</th>\n",
              "      <td>32000.0</td>\n",
              "      <td>97.50</td>\n",
              "      <td>3000</td>\n",
              "      <td>10.49</td>\n",
              "      <td>3916.0</td>\n",
              "      <td>1.0</td>\n",
              "      <td>2074.0</td>\n",
              "      <td>115.0</td>\n",
              "      <td>22.0</td>\n",
              "      <td>8.0</td>\n",
              "      <td>...</td>\n",
              "      <td>8.0</td>\n",
              "      <td>3.0</td>\n",
              "      <td>0.0</td>\n",
              "      <td>1.0</td>\n",
              "      <td>6</td>\n",
              "      <td>33.3</td>\n",
              "      <td>0</td>\n",
              "      <td>11</td>\n",
              "      <td>23494.0</td>\n",
              "      <td>Charged Off</td>\n",
              "    </tr>\n",
              "    <tr>\n",
              "      <th>1415</th>\n",
              "      <td>68000.0</td>\n",
              "      <td>427.78</td>\n",
              "      <td>12000</td>\n",
              "      <td>16.99</td>\n",
              "      <td>8375.0</td>\n",
              "      <td>0.0</td>\n",
              "      <td>0.0</td>\n",
              "      <td>159.0</td>\n",
              "      <td>245.0</td>\n",
              "      <td>4.0</td>\n",
              "      <td>...</td>\n",
              "      <td>6.0</td>\n",
              "      <td>3.0</td>\n",
              "      <td>0.0</td>\n",
              "      <td>3.0</td>\n",
              "      <td>5</td>\n",
              "      <td>100.0</td>\n",
              "      <td>0</td>\n",
              "      <td>22</td>\n",
              "      <td>41875.0</td>\n",
              "      <td>Charged Off</td>\n",
              "    </tr>\n",
              "  </tbody>\n",
              "</table>\n",
              "<p>7812 rows × 24 columns</p>\n",
              "</div>\n",
              "      <button class=\"colab-df-convert\" onclick=\"convertToInteractive('df-9e490cdf-40d5-4cb2-9a63-4b8962eb3d6f')\"\n",
              "              title=\"Convert this dataframe to an interactive table.\"\n",
              "              style=\"display:none;\">\n",
              "        \n",
              "  <svg xmlns=\"http://www.w3.org/2000/svg\" height=\"24px\"viewBox=\"0 0 24 24\"\n",
              "       width=\"24px\">\n",
              "    <path d=\"M0 0h24v24H0V0z\" fill=\"none\"/>\n",
              "    <path d=\"M18.56 5.44l.94 2.06.94-2.06 2.06-.94-2.06-.94-.94-2.06-.94 2.06-2.06.94zm-11 1L8.5 8.5l.94-2.06 2.06-.94-2.06-.94L8.5 2.5l-.94 2.06-2.06.94zm10 10l.94 2.06.94-2.06 2.06-.94-2.06-.94-.94-2.06-.94 2.06-2.06.94z\"/><path d=\"M17.41 7.96l-1.37-1.37c-.4-.4-.92-.59-1.43-.59-.52 0-1.04.2-1.43.59L10.3 9.45l-7.72 7.72c-.78.78-.78 2.05 0 2.83L4 21.41c.39.39.9.59 1.41.59.51 0 1.02-.2 1.41-.59l7.78-7.78 2.81-2.81c.8-.78.8-2.07 0-2.86zM5.41 20L4 18.59l7.72-7.72 1.47 1.35L5.41 20z\"/>\n",
              "  </svg>\n",
              "      </button>\n",
              "      \n",
              "  <style>\n",
              "    .colab-df-container {\n",
              "      display:flex;\n",
              "      flex-wrap:wrap;\n",
              "      gap: 12px;\n",
              "    }\n",
              "\n",
              "    .colab-df-convert {\n",
              "      background-color: #E8F0FE;\n",
              "      border: none;\n",
              "      border-radius: 50%;\n",
              "      cursor: pointer;\n",
              "      display: none;\n",
              "      fill: #1967D2;\n",
              "      height: 32px;\n",
              "      padding: 0 0 0 0;\n",
              "      width: 32px;\n",
              "    }\n",
              "\n",
              "    .colab-df-convert:hover {\n",
              "      background-color: #E2EBFA;\n",
              "      box-shadow: 0px 1px 2px rgba(60, 64, 67, 0.3), 0px 1px 3px 1px rgba(60, 64, 67, 0.15);\n",
              "      fill: #174EA6;\n",
              "    }\n",
              "\n",
              "    [theme=dark] .colab-df-convert {\n",
              "      background-color: #3B4455;\n",
              "      fill: #D2E3FC;\n",
              "    }\n",
              "\n",
              "    [theme=dark] .colab-df-convert:hover {\n",
              "      background-color: #434B5C;\n",
              "      box-shadow: 0px 1px 3px 1px rgba(0, 0, 0, 0.15);\n",
              "      filter: drop-shadow(0px 1px 2px rgba(0, 0, 0, 0.3));\n",
              "      fill: #FFFFFF;\n",
              "    }\n",
              "  </style>\n",
              "\n",
              "      <script>\n",
              "        const buttonEl =\n",
              "          document.querySelector('#df-9e490cdf-40d5-4cb2-9a63-4b8962eb3d6f button.colab-df-convert');\n",
              "        buttonEl.style.display =\n",
              "          google.colab.kernel.accessAllowed ? 'block' : 'none';\n",
              "\n",
              "        async function convertToInteractive(key) {\n",
              "          const element = document.querySelector('#df-9e490cdf-40d5-4cb2-9a63-4b8962eb3d6f');\n",
              "          const dataTable =\n",
              "            await google.colab.kernel.invokeFunction('convertToInteractive',\n",
              "                                                     [key], {});\n",
              "          if (!dataTable) return;\n",
              "\n",
              "          const docLinkHtml = 'Like what you see? Visit the ' +\n",
              "            '<a target=\"_blank\" href=https://colab.research.google.com/notebooks/data_table.ipynb>data table notebook</a>'\n",
              "            + ' to learn more about interactive tables.';\n",
              "          element.innerHTML = '';\n",
              "          dataTable['output_type'] = 'display_data';\n",
              "          await google.colab.output.renderOutput(dataTable, element);\n",
              "          const docLink = document.createElement('div');\n",
              "          docLink.innerHTML = docLinkHtml;\n",
              "          element.appendChild(docLink);\n",
              "        }\n",
              "      </script>\n",
              "    </div>\n",
              "  </div>\n",
              "  "
            ]
          },
          "metadata": {},
          "execution_count": 16
        }
      ]
    },
    {
      "cell_type": "markdown",
      "source": [
        "### create input shape: (7812, 23) and labels"
      ],
      "metadata": {
        "id": "7beFWEoPbbCs"
      }
    },
    {
      "cell_type": "code",
      "source": [
        "dataset = df_final.values\n",
        "dataset"
      ],
      "metadata": {
        "colab": {
          "base_uri": "https://localhost:8080/"
        },
        "id": "RvC-yhgqbjEc",
        "outputId": "5c7260dd-255f-447e-b54c-b99588bfa1f8"
      },
      "execution_count": null,
      "outputs": [
        {
          "output_type": "execute_result",
          "data": {
            "text/plain": [
              "array([[137749.0, 368.08, 16000, ..., 43, 137994.0, 'Charged Off'],\n",
              "       [240000.0, 1318.63, 35000, ..., 29, 82316.0, 'Charged Off'],\n",
              "       [82000.0, 270.88, 10400, ..., 35, 34990.0, 'Charged Off'],\n",
              "       ...,\n",
              "       [44000.0, 339.31, 10000, ..., 12, 19804.0, 'Charged Off'],\n",
              "       [32000.0, 97.5, 3000, ..., 11, 23494.0, 'Charged Off'],\n",
              "       [68000.0, 427.78, 12000, ..., 22, 41875.0, 'Charged Off']],\n",
              "      dtype=object)"
            ]
          },
          "metadata": {},
          "execution_count": 17
        }
      ]
    },
    {
      "cell_type": "code",
      "source": [
        "# split into input (X) and output (Y) variables\n",
        "X = dataset[:,0:23].astype(float)\n",
        "X"
      ],
      "metadata": {
        "colab": {
          "base_uri": "https://localhost:8080/"
        },
        "id": "LAvfmmsacFZF",
        "outputId": "6f8e1e5c-cf6c-46e3-e570-48bafbbbd7ed"
      },
      "execution_count": null,
      "outputs": [
        {
          "output_type": "execute_result",
          "data": {
            "text/plain": [
              "array([[1.37749e+05, 3.68080e+02, 1.60000e+04, ..., 0.00000e+00,\n",
              "        4.30000e+01, 1.37994e+05],\n",
              "       [2.40000e+05, 1.31863e+03, 3.50000e+04, ..., 0.00000e+00,\n",
              "        2.90000e+01, 8.23160e+04],\n",
              "       [8.20000e+04, 2.70880e+02, 1.04000e+04, ..., 1.00000e+00,\n",
              "        3.50000e+01, 3.49900e+04],\n",
              "       ...,\n",
              "       [4.40000e+04, 3.39310e+02, 1.00000e+04, ..., 0.00000e+00,\n",
              "        1.20000e+01, 1.98040e+04],\n",
              "       [3.20000e+04, 9.75000e+01, 3.00000e+03, ..., 0.00000e+00,\n",
              "        1.10000e+01, 2.34940e+04],\n",
              "       [6.80000e+04, 4.27780e+02, 1.20000e+04, ..., 0.00000e+00,\n",
              "        2.20000e+01, 4.18750e+04]])"
            ]
          },
          "metadata": {},
          "execution_count": 18
        }
      ]
    },
    {
      "cell_type": "code",
      "source": [
        "X.shape"
      ],
      "metadata": {
        "colab": {
          "base_uri": "https://localhost:8080/"
        },
        "id": "ZnoRK3u_ce1m",
        "outputId": "f173bdba-291b-47ee-82bc-4b2697771550"
      },
      "execution_count": null,
      "outputs": [
        {
          "output_type": "execute_result",
          "data": {
            "text/plain": [
              "(7812, 23)"
            ]
          },
          "metadata": {},
          "execution_count": 19
        }
      ]
    },
    {
      "cell_type": "code",
      "source": [
        "Y = dataset[:,23]\n",
        "Y"
      ],
      "metadata": {
        "colab": {
          "base_uri": "https://localhost:8080/"
        },
        "id": "MgOOaUBsdwkW",
        "outputId": "04fad462-d782-44cd-f102-7251f4f26270"
      },
      "execution_count": null,
      "outputs": [
        {
          "output_type": "execute_result",
          "data": {
            "text/plain": [
              "array(['Charged Off', 'Charged Off', 'Charged Off', ..., 'Charged Off',\n",
              "       'Charged Off', 'Charged Off'], dtype=object)"
            ]
          },
          "metadata": {},
          "execution_count": 20
        }
      ]
    },
    {
      "cell_type": "code",
      "source": [
        "Y.shape"
      ],
      "metadata": {
        "colab": {
          "base_uri": "https://localhost:8080/"
        },
        "id": "nqtFAulWd0uS",
        "outputId": "8b94b0cf-b37e-4e46-9028-12362c5fe9f9"
      },
      "execution_count": null,
      "outputs": [
        {
          "output_type": "execute_result",
          "data": {
            "text/plain": [
              "(7812,)"
            ]
          },
          "metadata": {},
          "execution_count": 21
        }
      ]
    },
    {
      "cell_type": "markdown",
      "source": [
        "#### label encoding"
      ],
      "metadata": {
        "id": "1LCbYyBfm8jt"
      }
    },
    {
      "cell_type": "code",
      "source": [
        "# encode class values as integers\n",
        "encoder = LabelEncoder()\n",
        "encoder.fit(Y)\n",
        "y = encoder.transform(Y)\n",
        "y"
      ],
      "metadata": {
        "colab": {
          "base_uri": "https://localhost:8080/"
        },
        "id": "bIbSCuxWmVGN",
        "outputId": "e2fff179-51bc-4e1d-c95e-51afc746141c"
      },
      "execution_count": null,
      "outputs": [
        {
          "output_type": "execute_result",
          "data": {
            "text/plain": [
              "array([0, 0, 0, ..., 0, 0, 0])"
            ]
          },
          "metadata": {},
          "execution_count": 22
        }
      ]
    },
    {
      "cell_type": "code",
      "source": [
        "# summarize class distribution\n",
        "print(Counter(y))"
      ],
      "metadata": {
        "colab": {
          "base_uri": "https://localhost:8080/"
        },
        "id": "q5qTJbIAu5vU",
        "outputId": "30bcd580-312d-4adf-dfc2-d432b977a7ce"
      },
      "execution_count": null,
      "outputs": [
        {
          "output_type": "stream",
          "name": "stdout",
          "text": [
            "Counter({0: 3906, 1: 3906})\n"
          ]
        }
      ]
    },
    {
      "cell_type": "markdown",
      "source": [
        "## classification"
      ],
      "metadata": {
        "id": "yqg9hKCDEypO"
      }
    },
    {
      "cell_type": "markdown",
      "source": [
        "### baseline model defination. acc(std): 80.48% (1.41%), 30 min 70 epochs"
      ],
      "metadata": {
        "id": "75fONqxKFNzb"
      }
    },
    {
      "cell_type": "markdown",
      "source": [
        "- **evaluation method:** stratified k-fold cross validation\n",
        "    > **stratified**, meaning that it will look at the output values and attempt to balance the number of instances that belong to each class in the k-splits of the data.\n",
        "\n",
        "- **weight initialisation:** The weights are initialized using a small Gaussian random number\n",
        "\n",
        "- **activation:** ReLU, sigmoid\n",
        "\n",
        "- **loss:** logarithmic loss function (binary_crossentropy)\n",
        "\n",
        "- Optimisation: Adam"
      ],
      "metadata": {
        "id": "v-VyxEddGCpt"
      }
    },
    {
      "cell_type": "code",
      "source": [
        "# baseline model\n",
        "def create_baseline():\n",
        "\t# create model\n",
        "\tmodel = Sequential()\n",
        "\tmodel.add(Dense(60, input_shape=(23,), activation='relu'))\n",
        "\tmodel.add(Dense(1, activation='sigmoid'))\n",
        "\t# Compile model\n",
        "\tmodel.compile(loss='binary_crossentropy', optimizer='adam', \n",
        "               metrics=['accuracy'])\n",
        "\treturn model"
      ],
      "metadata": {
        "id": "rzSXut1tFNeL"
      },
      "execution_count": null,
      "outputs": []
    },
    {
      "cell_type": "markdown",
      "source": [
        "### training & evaluation with standardised data\n",
        "\n",
        "standardised data has mean 0 and std 1\n",
        "\n",
        "this preserves Gaussian and Gaussian-like distributions while normalizing the central tendencies for each attribute"
      ],
      "metadata": {
        "id": "68YJLIGxsjXJ"
      }
    },
    {
      "cell_type": "code",
      "source": [
        "# evaluate baseline model with standardized dataset\n",
        "%%time\n",
        "with tf.device('GPU'):\n",
        "    estimators = []\n",
        "    estimators.append(('standardize', StandardScaler()))\n",
        "    estimators.append(('mlp', KerasClassifier(model=create_baseline, \n",
        "                                            epochs=70, batch_size=7, verbose=0)))\n",
        "    pipeline = Pipeline(estimators)\n",
        "    kfold = StratifiedKFold(n_splits=10, shuffle=True)\n",
        "    results = cross_val_score(pipeline, X, y, cv=kfold)\n",
        "print(\"accuracy: %.2f%% (%.2f%%)\" % (results.mean()*100, results.std()*100))"
      ],
      "metadata": {
        "colab": {
          "base_uri": "https://localhost:8080/"
        },
        "id": "7kpLtygHsjtb",
        "outputId": "88d9729f-8bae-440d-9484-5b3989b4c345"
      },
      "execution_count": null,
      "outputs": [
        {
          "output_type": "stream",
          "name": "stdout",
          "text": [
            "accuracy: 80.48% (1.41%)\n",
            "CPU times: user 29min 56s, sys: 2min 48s, total: 32min 45s\n",
            "Wall time: 30min 4s\n"
          ]
        }
      ]
    },
    {
      "cell_type": "markdown",
      "source": [
        "### smaller model. acc(std) 80.66% (0.76%), 20 min 50 epochs"
      ],
      "metadata": {
        "id": "H_cTCK6mILly"
      }
    },
    {
      "cell_type": "code",
      "source": [
        "# smaller model\n",
        "def create_smaller():\n",
        "\t# create model\n",
        "\tmodel = Sequential()\n",
        "\tmodel.add(Dense(30, input_shape=(23,), activation='relu'))\n",
        "\tmodel.add(Dense(1, activation='sigmoid'))\n",
        "\t# Compile model\n",
        "\tmodel.compile(loss='binary_crossentropy', optimizer='adam', \n",
        "\t              metrics=['accuracy'])\n",
        "\treturn model"
      ],
      "metadata": {
        "id": "ym1v7gGQuZ1c"
      },
      "execution_count": null,
      "outputs": []
    },
    {
      "cell_type": "code",
      "source": [
        "# evaluate smaller model with standardised dataset\n",
        "%%time\n",
        "with tf.device('GPU'):\n",
        "    estimators = []\n",
        "    estimators.append(('standardize', StandardScaler()))\n",
        "    estimators.append(('mlp', KerasClassifier(model=create_smaller, \n",
        "                                              epochs=50, batch_size=7, verbose=0)))\n",
        "    pipeline = Pipeline(estimators)\n",
        "    kfold = StratifiedKFold(n_splits=10, shuffle=True)\n",
        "    results = cross_val_score(pipeline, X, y, cv=kfold)\n",
        "print(\"Smaller: %.2f%% (%.2f%%)\" % (results.mean()*100, results.std()*100))"
      ],
      "metadata": {
        "colab": {
          "base_uri": "https://localhost:8080/"
        },
        "id": "F4EkRWyquioh",
        "outputId": "7ecc2c7a-24ea-4218-c10e-4296fdeb26b9"
      },
      "execution_count": null,
      "outputs": [
        {
          "output_type": "stream",
          "name": "stdout",
          "text": [
            "Smaller: 80.66% (0.76%)\n",
            "CPU times: user 21min 25s, sys: 1min 58s, total: 23min 24s\n",
            "Wall time: 19min 59s\n"
          ]
        }
      ]
    },
    {
      "cell_type": "markdown",
      "source": [
        "### bigger model. acc(std) 77.97% (1.06%), 20 min 50 epochs"
      ],
      "metadata": {
        "id": "dmORCcYhwLkq"
      }
    },
    {
      "cell_type": "code",
      "source": [
        "# larger model\n",
        "def create_larger():\n",
        "\t# create model\n",
        "\tmodel = Sequential()\n",
        "\tmodel.add(Dense(60, input_shape=(23,), activation='relu'))\n",
        "\tmodel.add(Dense(30, activation='relu'))\n",
        "\tmodel.add(Dense(1, activation='sigmoid'))\n",
        "\t# Compile model\n",
        "\tmodel.compile(loss='binary_crossentropy', optimizer='adam', \n",
        "\t              metrics=['accuracy'])\n",
        "\treturn model"
      ],
      "metadata": {
        "id": "D_ZEFjn_wQBG"
      },
      "execution_count": null,
      "outputs": []
    },
    {
      "cell_type": "code",
      "source": [
        "# evaluate bigger model with standardised dataset\n",
        "%%time\n",
        "with tf.device('GPU'):\n",
        "    estimators = []\n",
        "    estimators.append(('standardize', StandardScaler()))\n",
        "    estimators.append(('mlp', KerasClassifier(model=create_larger, epochs=50, \n",
        "                                            batch_size=7, verbose=0)))\n",
        "    pipeline = Pipeline(estimators)\n",
        "    kfold = StratifiedKFold(n_splits=10, shuffle=True)\n",
        "    results = cross_val_score(pipeline, X, y, cv=kfold)\n",
        "print(\"Larger: %.2f%% (%.2f%%)\" % (results.mean()*100, results.std()*100))"
      ],
      "metadata": {
        "colab": {
          "base_uri": "https://localhost:8080/"
        },
        "id": "FYMZ3m30wSz0",
        "outputId": "e7ec23ca-a45c-4240-9e0e-5715fa70f653"
      },
      "execution_count": null,
      "outputs": [
        {
          "output_type": "stream",
          "name": "stdout",
          "text": [
            "Larger: 77.97% (1.06%)\n",
            "CPU times: user 22min 56s, sys: 1min 56s, total: 24min 53s\n",
            "Wall time: 22min 12s\n"
          ]
        }
      ]
    },
    {
      "cell_type": "markdown",
      "source": [
        "## feature selection"
      ],
      "metadata": {
        "id": "kYN-rzT-NBl0"
      }
    },
    {
      "cell_type": "code",
      "source": [
        "# standardise input\n",
        "scaler = StandardScaler()\n",
        "scaler.fit(X)\n",
        "X_std = scaler.transform(X)"
      ],
      "metadata": {
        "id": "Q2ZS-KmPZROk"
      },
      "execution_count": null,
      "outputs": []
    },
    {
      "cell_type": "code",
      "source": [
        "# define the model\n",
        "model = LogisticRegression()\n",
        "# fit the model\n",
        "model.fit(X_std, y)"
      ],
      "metadata": {
        "colab": {
          "base_uri": "https://localhost:8080/"
        },
        "id": "rHtGAosIYoOT",
        "outputId": "1af817ca-d1c9-4245-cab1-a9d3641059ab"
      },
      "execution_count": null,
      "outputs": [
        {
          "output_type": "execute_result",
          "data": {
            "text/plain": [
              "LogisticRegression()"
            ]
          },
          "metadata": {},
          "execution_count": 31
        }
      ]
    },
    {
      "cell_type": "code",
      "source": [
        "# get importance\n",
        "importance = model.coef_[0]\n",
        "# summarize feature importance\n",
        "for i,v in sorted((enumerate(importance)), key = lambda x: x[1]):\n",
        "\tprint('Feature: %0d, Score: %.5f' % (i,v))\n",
        "# plot feature importance\n",
        "pyplot.bar([x for x in range(len(importance))], importance)\n",
        "pyplot.show()\n",
        "# plot sorted feature importance\n",
        "pyplot.bar([x for x in range(len(importance))], sorted(importance))\n",
        "pyplot.show()"
      ],
      "metadata": {
        "colab": {
          "base_uri": "https://localhost:8080/",
          "height": 912
        },
        "id": "0OCZrYJtVJSn",
        "outputId": "3e53bc49-7276-47fd-a481-cceca37c66d9"
      },
      "execution_count": null,
      "outputs": [
        {
          "output_type": "stream",
          "name": "stdout",
          "text": [
            "Feature: 2, Score: -1.14343\n",
            "Feature: 3, Score: -0.54087\n",
            "Feature: 17, Score: -0.21639\n",
            "Feature: 13, Score: -0.17980\n",
            "Feature: 20, Score: -0.16919\n",
            "Feature: 19, Score: -0.15752\n",
            "Feature: 22, Score: -0.10097\n",
            "Feature: 18, Score: -0.01933\n",
            "Feature: 9, Score: -0.01352\n",
            "Feature: 10, Score: 0.02256\n",
            "Feature: 14, Score: 0.05577\n",
            "Feature: 11, Score: 0.08128\n",
            "Feature: 15, Score: 0.08549\n",
            "Feature: 21, Score: 0.09141\n",
            "Feature: 0, Score: 0.10345\n",
            "Feature: 8, Score: 0.11972\n",
            "Feature: 7, Score: 0.14978\n",
            "Feature: 16, Score: 0.18696\n",
            "Feature: 4, Score: 0.19053\n",
            "Feature: 5, Score: 0.35510\n",
            "Feature: 6, Score: 0.59155\n",
            "Feature: 12, Score: 0.74612\n",
            "Feature: 1, Score: 0.75087\n"
          ]
        },
        {
          "output_type": "display_data",
          "data": {
            "text/plain": [
              "<Figure size 432x288 with 1 Axes>"
            ],
            "image/png": "[encoded data removed]"
          },
          "metadata": {
            "needs_background": "light"
          }
        },
        {
          "output_type": "display_data",
          "data": {
            "text/plain": [
              "<Figure size 432x288 with 1 Axes>"
            ],
            "image/png": "[encoded data removed]"
          },
          "metadata": {
            "needs_background": "light"
          }
        }
      ]
    },
    {
      "cell_type": "markdown",
      "source": [
        "#### selected feature: 2,3,17,13, 1,12,6,5. data shape: (7812, 8)"
      ],
      "metadata": {
        "id": "iZ4AvrRCc5gZ"
      }
    },
    {
      "cell_type": "code",
      "source": [
        "X_fs = X[:, [2,3,17,13,1,12,6,5]]\n",
        "X_fs.shape"
      ],
      "metadata": {
        "colab": {
          "base_uri": "https://localhost:8080/"
        },
        "id": "28bjPSABaVDz",
        "outputId": "cfe526e5-eea4-45ad-9907-d19917e0171a"
      },
      "execution_count": null,
      "outputs": [
        {
          "output_type": "execute_result",
          "data": {
            "text/plain": [
              "(7812, 8)"
            ]
          },
          "metadata": {},
          "execution_count": 33
        }
      ]
    },
    {
      "cell_type": "markdown",
      "source": [
        "### redefine model. acc(std) 82.37% (0.98%), 20 min 50 epochs"
      ],
      "metadata": {
        "id": "qTjON-1HIjPO"
      }
    },
    {
      "cell_type": "code",
      "source": [
        "# baseline model\n",
        "def create_baseline():\n",
        "\t# create model\n",
        "\tmodel = Sequential()\n",
        "\tmodel.add(Dense(30, input_shape=(8,), activation='relu'))\n",
        "\tmodel.add(Dense(1, activation='sigmoid'))\n",
        "\t# Compile model\n",
        "\tmodel.compile(loss='binary_crossentropy', optimizer='adam', \n",
        "               metrics=['accuracy'])\n",
        "\treturn model"
      ],
      "metadata": {
        "id": "f7zf_mIEJSjc"
      },
      "execution_count": null,
      "outputs": []
    },
    {
      "cell_type": "code",
      "source": [
        "# evaluate smaller model with standardised dataset\n",
        "%%time\n",
        "with tf.device('GPU'):\n",
        "    estimators = []\n",
        "    estimators.append(('standardize', StandardScaler()))\n",
        "    estimators.append(('mlp', KerasClassifier(model=create_baseline, \n",
        "                                              epochs=50, batch_size=7, verbose=0)))\n",
        "    pipeline = Pipeline(estimators)\n",
        "    kfold = StratifiedKFold(n_splits=10, shuffle=True)\n",
        "    results = cross_val_score(pipeline, X_fs, y, cv=kfold)\n",
        "print(\"accuracy: %.2f%% (%.2f%%)\" % (results.mean()*100, results.std()*100))"
      ],
      "metadata": {
        "colab": {
          "base_uri": "https://localhost:8080/"
        },
        "id": "1JxboCWoInmR",
        "outputId": "4f31515e-aadc-4220-edd8-f59a7c33bcb6"
      },
      "execution_count": null,
      "outputs": [
        {
          "output_type": "stream",
          "name": "stdout",
          "text": [
            "accuracy: 82.37% (0.98%)\n",
            "CPU times: user 22min 40s, sys: 2min 3s, total: 24min 43s\n",
            "Wall time: 20min 5s\n"
          ]
        }
      ]
    },
    {
      "cell_type": "markdown",
      "source": [
        "### smaller model. acc(std) 82.19% (1.17%), 20 min 50 epochs "
      ],
      "metadata": {
        "id": "LaedIMdefbfC"
      }
    },
    {
      "cell_type": "code",
      "source": [
        "# baseline model\n",
        "def create_smaller():\n",
        "\t# create model\n",
        "\tmodel = Sequential()\n",
        "\tmodel.add(Dense(15, input_shape=(8,), activation='relu'))\n",
        "\tmodel.add(Dense(1, activation='sigmoid'))\n",
        "\t# Compile model\n",
        "\tmodel.compile(loss='binary_crossentropy', optimizer='adam', \n",
        "               metrics=['accuracy'])\n",
        "\treturn model"
      ],
      "metadata": {
        "id": "FZZAvaXIfbfC"
      },
      "execution_count": null,
      "outputs": []
    },
    {
      "cell_type": "code",
      "source": [
        "# evaluate smaller model with standardised dataset\n",
        "%%time\n",
        "with tf.device('GPU'):\n",
        "    estimators = []\n",
        "    estimators.append(('standardize', StandardScaler()))\n",
        "    estimators.append(('mlp', KerasClassifier(model=create_smaller, \n",
        "                                              epochs=50, batch_size=7, verbose=0)))\n",
        "    pipeline = Pipeline(estimators)\n",
        "    kfold = StratifiedKFold(n_splits=10, shuffle=True)\n",
        "    results = cross_val_score(pipeline, X_fs, y, cv=kfold)\n",
        "print(\"accuracy: %.2f%% (%.2f%%)\" % (results.mean()*100, results.std()*100))"
      ],
      "metadata": {
        "colab": {
          "base_uri": "https://localhost:8080/"
        },
        "outputId": "46bd8772-ac56-417f-acf0-7eb5ba7354ac",
        "id": "h789mCFufbfC"
      },
      "execution_count": null,
      "outputs": [
        {
          "output_type": "stream",
          "name": "stdout",
          "text": [
            "accuracy: 82.19% (1.17%)\n",
            "CPU times: user 22min 39s, sys: 2min 4s, total: 24min 43s\n",
            "Wall time: 21min 7s\n"
          ]
        }
      ]
    },
    {
      "cell_type": "markdown",
      "source": [
        "### bigger model. acc(std) 82.10% (1.29%), 20 min 50 epochs"
      ],
      "metadata": {
        "id": "gkR0qPB3gktk"
      }
    },
    {
      "cell_type": "code",
      "source": [
        "# larger model\n",
        "def create_bigger():\n",
        "\t# create model\n",
        "\tmodel = Sequential()\n",
        "\tmodel.add(Dense(30, input_shape=(8,), activation='relu'))\n",
        "\tmodel.add(Dense(15, activation='relu'))\n",
        "\tmodel.add(Dense(1, activation='sigmoid'))\n",
        "\t# Compile model\n",
        "\tmodel.compile(loss='binary_crossentropy', optimizer='adam', \n",
        "\t              metrics=['accuracy'])\n",
        "\treturn model"
      ],
      "metadata": {
        "id": "KMUaoXQzgktl"
      },
      "execution_count": null,
      "outputs": []
    },
    {
      "cell_type": "code",
      "source": [
        "# evaluate smaller model with standardised dataset\n",
        "%%time\n",
        "with tf.device('GPU'):\n",
        "    estimators = []\n",
        "    estimators.append(('standardize', StandardScaler()))\n",
        "    estimators.append(('mlp', KerasClassifier(model=create_bigger, \n",
        "                                              epochs=50, batch_size=7, verbose=0)))\n",
        "    pipeline = Pipeline(estimators)\n",
        "    kfold = StratifiedKFold(n_splits=10, shuffle=True)\n",
        "    results = cross_val_score(pipeline, X_fs, y, cv=kfold)\n",
        "print(\"accuracy: %.2f%% (%.2f%%)\" % (results.mean()*100, results.std()*100))"
      ],
      "metadata": {
        "colab": {
          "base_uri": "https://localhost:8080/"
        },
        "outputId": "47d88ee5-7014-49c3-fdd5-b8980c0eff08",
        "id": "lTeOdeMXgktl"
      },
      "execution_count": null,
      "outputs": [
        {
          "output_type": "stream",
          "name": "stdout",
          "text": [
            "accuracy: 82.10% (1.29%)\n",
            "CPU times: user 23min 44s, sys: 2min 2s, total: 25min 47s\n",
            "Wall time: 21min 7s\n"
          ]
        }
      ]
    },
    {
      "cell_type": "markdown",
      "source": [
        "## Best model acc 82.37%"
      ],
      "metadata": {
        "id": "sO5Spj12t01t"
      }
    },
    {
      "cell_type": "markdown",
      "source": [
        "# Bottom of this document"
      ],
      "metadata": {
        "id": "E-0Dmys7WGyn"
      }
    }
  ]
}